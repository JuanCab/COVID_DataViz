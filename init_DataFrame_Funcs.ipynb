{
 "cells": [
  {
   "cell_type": "code",
   "execution_count": null,
   "metadata": {},
   "outputs": [],
   "source": [
    "#imports necessary libaries\n",
    "import numpy as np\n",
    "import pandas as pd\n"
   ]
  },
  {
   "cell_type": "code",
   "execution_count": null,
   "metadata": {},
   "outputs": [],
   "source": [
    "def initAaplMobilityDataframes(countyFile = 'our_data/aapl_mobility_cnty.csv',stateFile = 'our_data/aapl_mobility_state.csv'):\n",
    "    #reads the necessary paths and converts paths into dataframes\n",
    "    aaplMobilityCountyFrame = pd.read_csv(countyFile)\n",
    "    aaplMobilityStateFrame = pd.read_csv(stateFile)\n",
    "    #retuns dataFrames to be used\n",
    "    return aaplMobilityCountyFrame,aaplMobilityStateFrame\n",
    "#used inconjunction with applMobility_DataFunc()    \n",
    "#aaplMobilityCountyFrame,aaplMobilityStateFrame = initAaplMobilityDataframes('our_data/aapl_mobility_cnty.csv','our_data/aapl_mobility_state.csv')"
   ]
  },
  {
   "cell_type": "code",
   "execution_count": null,
   "metadata": {},
   "outputs": [],
   "source": [
    "def initgoogMobilityDataframes(countyFile = 'our_data/goog_mobility_cnty.csv',stateFile = 'our_data/goog_mobility_state.csv'):\n",
    "    googMobilityCountyFrame = pd.read_csv(countyFile)\n",
    "    googMobilityStateFrame = pd.read_csv(stateFile)\n",
    "    return googMobilityCountyFrame,googMobilityStateFrame\n",
    "#used inconjunction with goog_MobilityFunc()\n",
    "#googmobilityCountyFrame,googmobilityStateFrame = initgoogMobilityDataframes('our_data/goog_mobility_cnty.csv','our_data/goog_mobility_state.csv')"
   ]
  }
 ],
 "metadata": {
  "kernelspec": {
   "display_name": "Python 3",
   "language": "python",
   "name": "python3"
  },
  "language_info": {
   "codemirror_mode": {
    "name": "ipython",
    "version": 3
   },
   "file_extension": ".py",
   "mimetype": "text/x-python",
   "name": "python",
   "nbconvert_exporter": "python",
   "pygments_lexer": "ipython3",
   "version": "3.7.6"
  }
 },
 "nbformat": 4,
 "nbformat_minor": 4
}
