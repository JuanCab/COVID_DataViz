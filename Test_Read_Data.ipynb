{
 "cells": [
  {
   "cell_type": "markdown",
   "metadata": {},
   "source": [
    "## Testing the Reading of Data\n",
    "\n",
    "This is a testbed Jupyter notebook to read in the data we need for the COVID Data Vizualization Project.\n",
    "\n",
    "- Possible data sources that we are considering:\n",
    "    - https://data.humdata.org/dataset/novel-coronavirus-2019-ncov-cases ",
    "\n",
    "    - https://covid19api.com   (This is just a JSON representation of John Hopkins Data above)\n",
    "    - https://www.google.com/covid19/mobility/ ",
    "\n",
    "    - https://www.apple.com/covid19/mobility"
   ]
  },
  {
   "cell_type": "code",
   "execution_count": 150,
   "metadata": {},
   "outputs": [],
   "source": [
    "%matplotlib inline\n",
    "\n",
    "import numpy as np\n",
    "import git\n",
    "import pandas as pd\n",
    "from datetime import date, timedelta\n",
    "import matplotlib.pyplot as plt\n",
    "import requests"
   ]
  },
  {
   "cell_type": "markdown",
   "metadata": {},
   "source": [
    "##  Novel Coronavirus (COVID-19) Cases Data\n",
    "    - https://data.humdata.org/dataset/novel-coronavirus-2019-ncov-cases\n",
    "\n",
    "This dataset is part of COVID-19 Pandemic Novel Corona Virus (COVID-19) epidemiological data since 22 January 2020. The data is compiled by the Johns Hopkins University Center for Systems Science and Engineering (JHU CCSE) from various sources including the World Health Organization (WHO), DXY.cn, BNO News, National Health Commission of the People’s Republic of China (NHC), China CDC (CCDC), Hong Kong Department of Health, Macau Government, Taiwan CDC, US CDC, Government of Canada, Australia Government Department of Health, European Centre for Disease Prevention and Control (ECDC), Ministry of Health Singapore (MOH), and others. JHU CCSE maintains the data on the 2019 Novel Coronavirus COVID-19 (2019-nCoV) Data Repository on Github (https://github.com/CSSEGISandData/COVID-19)."
   ]
  },
  {
   "cell_type": "code",
   "execution_count": 106,
   "metadata": {},
   "outputs": [],
   "source": [
    "# To make sure we have current data, I went to the directory containing this Jupyter script and issued a \"git clone https://github.com/CSSEGISandData/COVID-19.git\" to\n",
    "# pull the complete dataset from GitHub.  That created a COVID-19 directory, which I renamed \"JH_Data\". Now it should be a short \"git pull\" command to keep the data up to date.\n",
    "\n",
    "JHdata_dir = \"JH_Data/\"\n",
    "g = git.cmd.Git(JHdata_dir)\n",
    "status = g.pull()  # We should check status to see everything is good eventually, for now, I am using this to hide the status message from GitPython module\n",
    "\n",
    "# Another choice would be to autogenerate the CSV URLs and retrieve them individually."
   ]
  },
  {
   "cell_type": "code",
   "execution_count": 107,
   "metadata": {},
   "outputs": [],
   "source": [
    "# csse_covid_19_data/csse_covid_19_daily_reports contains a daily CSV with a list of confirmed/deaths/recovered for each admin unit (in the US, that's county) for each day.\n",
    "# csse_covid_19_data/csse_covid_19_daily_reports_us contains a daily CSV with list of confirmed/deaths/recovered totaled for each state (somewhat redundant, but avoids recomputation I suppose)\n",
    "\n",
    "# Construct filename of yesterday's CSV datafile\n",
    "yesterday = today - timedelta(days = 1) \n",
    "yesterday_csv = f\"{yesterday.month:02d}-{yesterday.day:02d}-{yesterday.year:04d}.csv\"\n",
    "\n",
    "# Build daily data filenames\n",
    "daily_world_csv = JHdata_dir+\"csse_covid_19_data/csse_covid_19_daily_reports/\"+yesterday_csv\n",
    "daily_us_csv = JHdata_dir+\"csse_covid_19_data/csse_covid_19_daily_reports_us/\"+yesterday_csv\n",
    "\n",
    "# Create pandas dataframes containing the daily data from the CSV files (contains number of confirmed/deaths/recovered on that date)\n",
    "daily_world_df = pd.read_csv(daily_world_csv)   # County/Admin totals\n",
    "daily_us_df = pd.read_csv(daily_us_csv)         # State totals\n",
    "\n",
    "# csse_covid_19_data/csse_covid_19_time_series contains time-series (so the location, the COVID status, and the number, one column for each date) \n",
    "#                                                  time_series_covid19_confirmed_US.csv, time_series_covid19_deaths_US.csv listing county-level data in the US and \n",
    "#                                                  time_series_covid19_confirmed_global.csv, time_series_covid19_deaths_global.csv, and time_series_covid19_recovered_global.csv for the world.\n",
    "\n",
    "# Create pandas dataframes containing time-series data (We could reconstruct this by looping through all the daily data, since this is missing number of recovered)\n",
    "ts_us_dead_csv = JHdata_dir+\"csse_covid_19_data/csse_covid_19_time_series/time_series_covid19_deaths_US.csv\"\n",
    "ts_us_confirmed_csv = JHdata_dir+\"csse_covid_19_data/csse_covid_19_time_series/time_series_covid19_confirmed_US.csv\"\n",
    "ts_us_dead_df = pd.read_csv(ts_us_dead_csv)            # Deaths in time series\n",
    "ts_us_confirmed_df = pd.read_csv(ts_us_confirmed_csv)  # Confirmed in time series\n"
   ]
  },
  {
   "cell_type": "code",
   "execution_count": 130,
   "metadata": {},
   "outputs": [
    {
     "data": {
      "text/plain": [
       "<matplotlib.axes._subplots.AxesSubplot at 0x11ffc8950>"
      ]
     },
     "execution_count": 130,
     "metadata": {},
     "output_type": "execute_result"
    },
    {
     "data": {
      "image/png": "[encoded data removed]",
      "text/plain": [
       "<Figure size 720x576 with 1 Axes>"
      ]
     },
     "metadata": {
      "needs_background": "light"
     },
     "output_type": "display_data"
    }
   ],
   "source": [
    "# We could transpose the dataframe to allow easier extraction of time series data on a per county level\n",
    "tmp_df = ts_us_confirmed_df[ (ts_us_confirmed_df['Province_State'] == 'Minnesota') & (ts_us_confirmed_df['Admin2'] == 'Clay') ].T\n",
    "tmp_df.rename(columns={ tmp_df.columns[0]: \"confirmed\" }, inplace = True)\n",
    "confirmed_clay = tmp_df[tmp_df.index.str.match('[0-9]*/[0-9]*/[0-9]*')]  # Use pattern matching to find real dates and include\n",
    "\n",
    "tmp_df = ts_us_dead_df[ (ts_us_confirmed_df['Province_State'] == 'Minnesota') & (ts_us_confirmed_df['Admin2'] == 'Clay') ].T\n",
    "tmp_df.rename(columns={ tmp_df.columns[0]: \"dead\" }, inplace = True)\n",
    "dead_clay = tmp_df[tmp_df.index.str.match('[0-9]*/[0-9]*/[0-9]*')] # Use pattern matching to find real dates and include\n",
    "\n",
    "# Merge the confirmed ill and dead into one dataframe\n",
    "merged_clay = confirmed_clay.merge(dead_clay, left_index=True, right_index=True)\n",
    "merged_clay.plot(figsize=(10,8))"
   ]
  },
  {
   "cell_type": "markdown",
   "metadata": {},
   "source": [
    "## Google Mobility Data\n",
    "\n",
    "This data is described at https://www.google.com/covid19/mobility/ and can be downloaded in a single monolithic CSV file at https://www.gstatic.com/covid19/mobility/Global_Mobility_Report.csv"
   ]
  },
  {
   "cell_type": "code",
   "execution_count": 134,
   "metadata": {},
   "outputs": [],
   "source": [
    "# Google Mobility Data URL\n",
    "goog_mobility_csv_url = \"https://www.gstatic.com/covid19/mobility/Global_Mobility_Report.csv\"\n",
    "goog_mobility_df=pd.read_csv(goog_mobility_csv_url, low_memory=False)"
   ]
  },
  {
   "cell_type": "code",
   "execution_count": 141,
   "metadata": {},
   "outputs": [],
   "source": [
    "goog_mobility_clay = goog_mobility_df[ (goog_mobility_df['sub_region_1'] == 'Minnesota') & (goog_mobility_df['sub_region_2'] == 'Clay County')]"
   ]
  },
  {
   "cell_type": "markdown",
   "metadata": {},
   "source": [
    "## Apple Mobility Data\n",
    "\n",
    "This data is described at https://www.apple.com/covid19/mobility and can be downloaded in a single monolithic CSV file at https://covid19-static.cdn-apple.com/covid19-mobility-data/2008HotfixDev42/v3/en-us/applemobilitytrends-2020-05-24.csv (That URL is hidden in the mobility page link and appears to be updated regularly.  We may need to scrape the page to identify the link).\n"
   ]
  },
  {
   "cell_type": "code",
   "execution_count": 206,
   "metadata": {},
   "outputs": [],
   "source": [
    "# Scraping the original Apple page was proving tricky as it had a bunch of javascript used to generate the URL, so I poked around and found a reference \n",
    "# at https://www.r-bloggers.com/get-apples-mobility-data/ to a JSON file at a stable URL that can be used to construct the appropriate URL for the current\n",
    "# datafile.\n",
    "\n",
    "aapl_mobility_json = \"https://covid19-static.cdn-apple.com/covid19-mobility-data/current/v3/index.json\"\n",
    "aapl_server = \"https://covid19-static.cdn-apple.com/\"\n",
    "result = requests.get(aapl_mobility_json)\n",
    "# Proceed if we successfully pulled the page (HTTP status code 200)\n",
    "if (result.status_code == 200):\n",
    "    # Apple Mobility Data URL\n",
    "    aapl_mobility_csv_url = aapl_server+json['basePath']+json['regions']['en-us']['csvPath']\n",
    "    aapl_mobility_df=pd.read_csv(aapl_mobility_csv_url, low_memory=False)"
   ]
  },
  {
   "cell_type": "code",
   "execution_count": 207,
   "metadata": {},
   "outputs": [],
   "source": [
    "# Just showing how I can get clay county data specifically\n",
    "aapl_mobility_clay = aapl_mobility_df[(aapl_mobility_df['region'] == 'Clay County') & (aapl_mobility_df['sub-region'] == 'Minnesota')]"
   ]
  },
  {
   "cell_type": "code",
   "execution_count": 208,
   "metadata": {},
   "outputs": [
    {
     "data": {
      "text/html": [
       "<div>\n",
       "<style scoped>\n",
       "    .dataframe tbody tr th:only-of-type {\n",
       "        vertical-align: middle;\n",
       "    }\n",
       "\n",
       "    .dataframe tbody tr th {\n",
       "        vertical-align: top;\n",
       "    }\n",
       "\n",
       "    .dataframe thead th {\n",
       "        text-align: right;\n",
       "    }\n",
       "</style>\n",
       "<table border=\"1\" class=\"dataframe\">\n",
       "  <thead>\n",
       "    <tr style=\"text-align: right;\">\n",
       "      <th></th>\n",
       "      <th>geo_type</th>\n",
       "      <th>region</th>\n",
       "      <th>transportation_type</th>\n",
       "      <th>alternative_name</th>\n",
       "      <th>sub-region</th>\n",
       "      <th>country</th>\n",
       "      <th>2020-01-13</th>\n",
       "      <th>2020-01-14</th>\n",
       "      <th>2020-01-15</th>\n",
       "      <th>2020-01-16</th>\n",
       "      <th>...</th>\n",
       "      <th>2020-05-16</th>\n",
       "      <th>2020-05-17</th>\n",
       "      <th>2020-05-18</th>\n",
       "      <th>2020-05-19</th>\n",
       "      <th>2020-05-20</th>\n",
       "      <th>2020-05-21</th>\n",
       "      <th>2020-05-22</th>\n",
       "      <th>2020-05-23</th>\n",
       "      <th>2020-05-24</th>\n",
       "      <th>2020-05-25</th>\n",
       "    </tr>\n",
       "  </thead>\n",
       "  <tbody>\n",
       "    <tr>\n",
       "      <th>1909</th>\n",
       "      <td>county</td>\n",
       "      <td>Clay County</td>\n",
       "      <td>driving</td>\n",
       "      <td>NaN</td>\n",
       "      <td>Minnesota</td>\n",
       "      <td>United States</td>\n",
       "      <td>100.0</td>\n",
       "      <td>92.08</td>\n",
       "      <td>85.04</td>\n",
       "      <td>105.88</td>\n",
       "      <td>...</td>\n",
       "      <td>128.89</td>\n",
       "      <td>105.01</td>\n",
       "      <td>124.88</td>\n",
       "      <td>122.92</td>\n",
       "      <td>135.87</td>\n",
       "      <td>136.6</td>\n",
       "      <td>167.14</td>\n",
       "      <td>140.23</td>\n",
       "      <td>104.41</td>\n",
       "      <td>118.58</td>\n",
       "    </tr>\n",
       "  </tbody>\n",
       "</table>\n",
       "<p>1 rows × 140 columns</p>\n",
       "</div>"
      ],
      "text/plain": [
       "     geo_type       region transportation_type alternative_name sub-region  \\\n",
       "1909   county  Clay County             driving              NaN  Minnesota   \n",
       "\n",
       "            country  2020-01-13  2020-01-14  2020-01-15  2020-01-16  ...  \\\n",
       "1909  United States       100.0       92.08       85.04      105.88  ...   \n",
       "\n",
       "      2020-05-16  2020-05-17  2020-05-18  2020-05-19  2020-05-20  2020-05-21  \\\n",
       "1909      128.89      105.01      124.88      122.92      135.87       136.6   \n",
       "\n",
       "      2020-05-22  2020-05-23  2020-05-24  2020-05-25  \n",
       "1909      167.14      140.23      104.41      118.58  \n",
       "\n",
       "[1 rows x 140 columns]"
      ]
     },
     "execution_count": 208,
     "metadata": {},
     "output_type": "execute_result"
    }
   ],
   "source": [
    "aapl_mobility_clay"
   ]
  },
  {
   "cell_type": "code",
   "execution_count": null,
   "metadata": {},
   "outputs": [],
   "source": []
  }
 ],
 "metadata": {
  "kernelspec": {
   "display_name": "Python 3",
   "language": "python",
   "name": "python3"
  },
  "language_info": {
   "codemirror_mode": {
    "name": "ipython",
    "version": 3
   },
   "file_extension": ".py",
   "mimetype": "text/x-python",
   "name": "python",
   "nbconvert_exporter": "python",
   "pygments_lexer": "ipython3",
   "version": "3.7.6"
  }
 },
 "nbformat": 4,
 "nbformat_minor": 4
}
