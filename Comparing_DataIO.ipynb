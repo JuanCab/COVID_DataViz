{
 "cells": [
  {
   "cell_type": "markdown",
   "metadata": {},
   "source": [
    "# Comparing DataIO Methods\n",
    "\n",
    "This is a Notebook that runs (and times) the three approaches developed so far for transfering processed data into our program.  Note that all of these dataframes, when finally loaded, are absolutely identical in memory, so any speed/simplicity gains should be appreciated."
   ]
  },
  {
   "cell_type": "code",
   "execution_count": 1,
   "metadata": {},
   "outputs": [],
   "source": [
    "# This forces a reload of any external library file if it changes.  \n",
    "# Useful when developing external libraries since otherwise Jupyter \n",
    "# will not re-import any library without restarting the python kernel.\n",
    "\n",
    "%load_ext autoreload\n",
    "%autoreload 2"
   ]
  },
  {
   "cell_type": "code",
   "execution_count": 2,
   "metadata": {},
   "outputs": [],
   "source": [
    "import os\n",
    "import numpy as np\n",
    "import matplotlib.pyplot as plt\n",
    "import matplotlib.dates as mdates\n",
    "import pandas as pd\n",
    "import datetime\n",
    "import time\n",
    "\n",
    "# Import COVID data IO routines from external python library\n",
    "import COVIDlib.data_IO as COVID_IO\n",
    "\n",
    "## Define variables of interest below\n",
    "data_dir = 'our_data/'    # Data directory for the COVID datafiles\n",
    "\n",
    "## Define FIPS corresponding to various local areas\n",
    "ClayFIPS = 27027\n",
    "CassFIPS = 38017\n",
    "MNFIPS = 27\n",
    "NDFIPS = 38"
   ]
  },
  {
   "cell_type": "markdown",
   "metadata": {},
   "source": [
    "## Oldest DataIO approach\n",
    "\n",
    "This approach loads the CSV files in memory, but then requires us to message the data from strings to lists every time we select a subset of the data."
   ]
  },
  {
   "cell_type": "code",
   "execution_count": 3,
   "metadata": {},
   "outputs": [
    {
     "name": "stdout",
     "output_type": "stream",
     "text": [
      "Loading Complete COVID Dataset into memory from CSV files (0.30 sec elapsed) ... Building local datasets and restructuring data  (0.15 sec elapsed) ... Done (0.45 sec total for all operations)\n"
     ]
    }
   ],
   "source": [
    "# Load all the dataframes into memory\n",
    "print(\"Loading Complete COVID Dataset into memory from CSV files \", end='')\n",
    "\n",
    "start= time.perf_counter()\n",
    "# Retrieve John Hopkins dataframes\n",
    "(oldest_JH_state_df, oldest_JH_cnty_df) = COVID_IO.GetCDRDataFrames()\n",
    "# Retrieve Apple Mobility Dataframe\n",
    "(oldest_aapl_cnty_df, oldest_aapl_state_df) = COVID_IO.initAaplMobilityDataframes()\n",
    "# Retrieve Google Mobility Dataframe\n",
    "(oldest_goog_cnty_df, oldest_goog_state_df) = COVID_IO.initgoogMobilityDataframes()\n",
    "# Retrieve IMHE Dataframes\n",
    "(oldest_summary_df, oldest_hospitalization_df) = COVID_IO.GetIMHEDataFrames()\n",
    "\n",
    "# Narrow data down to local subsets\n",
    "midpt= time.perf_counter()\n",
    "print(f\"({midpt-start:0.2f} sec elapsed) ... Building local datasets and restructuring data  \", end='')\n",
    "\n",
    "# Build local dataframes for John Hopkins Data\n",
    "oldest_MN_CDR_df = COVID_IO.GetCDRState(MNFIPS, oldest_JH_state_df)\n",
    "oldest_ND_CDR_df = COVID_IO.GetCDRState(NDFIPS, oldest_JH_state_df)\n",
    "oldest_CLAY_CDR_df = COVID_IO.GetCDRCounty(ClayFIPS, oldest_JH_cnty_df)\n",
    "oldest_CASS_CDR_df = COVID_IO.GetCDRCounty(CassFIPS, oldest_JH_cnty_df)\n",
    "\n",
    "# Build local dataframes of mobility data\n",
    "oldest_CLAY_aapl_df = COVID_IO.getAaplCountyMobility(ClayFIPS, oldest_aapl_cnty_df)\n",
    "oldest_CASS_aapl_df = COVID_IO.getAaplCountyMobility(CassFIPS, oldest_aapl_cnty_df)\n",
    "oldest_MN_aapl_df = COVID_IO.getAaplStateMobility(MNFIPS, oldest_aapl_state_df)\n",
    "oldest_ND_aapl_df = COVID_IO.getAaplStateMobility(NDFIPS, oldest_aapl_state_df)\n",
    "oldest_CLAY_goog_df = COVID_IO.getGoogleCountyMobility(ClayFIPS, oldest_goog_cnty_df)\n",
    "oldest_CASS_goog_df = COVID_IO.getGoogleCountyMobility(CassFIPS, oldest_goog_cnty_df)\n",
    "oldest_MN_goog_df = COVID_IO.getGoogleStateMobility(MNFIPS, oldest_goog_state_df)\n",
    "oldest_ND_goog_df = COVID_IO.getGoogleStateMobility(NDFIPS, oldest_goog_state_df)\n",
    "\n",
    "# Build local dataframes/variables of IMHE data\n",
    "oldest_MN_equip_df = COVID_IO.GetEquipData(MNFIPS, oldest_summary_df)\n",
    "oldest_MN_icu_beds = COVID_IO.GetNumICUBeds(MNFIPS, oldest_summary_df)\n",
    "oldest_MN_all_beds = COVID_IO.GetNumAllBeds(MNFIPS, oldest_summary_df)\n",
    "oldest_MN_icu_usage = COVID_IO.GetICUBedUsage(MNFIPS, oldest_summary_df)\n",
    "oldest_MN_allbed_usage = COVID_IO.GetAllBedUsage(MNFIPS, oldest_summary_df)\n",
    "oldest_MN_hospital_df = COVID_IO.GetHospitalizationData(MNFIPS, oldest_hospitalization_df)\n",
    "oldest_ND_equip_df = COVID_IO.GetEquipData(NDFIPS, oldest_summary_df)\n",
    "oldest_ND_icu_beds = COVID_IO.GetNumICUBeds(NDFIPS, oldest_summary_df)\n",
    "oldest_ND_all_beds = COVID_IO.GetNumAllBeds(NDFIPS, oldest_summary_df)\n",
    "oldest_ND_icu_usage = COVID_IO.GetICUBedUsage(NDFIPS, oldest_summary_df)\n",
    "oldest_ND_allbed_usage = COVID_IO.GetAllBedUsage(NDFIPS, oldest_summary_df)\n",
    "oldest_ND_hospital_df = COVID_IO.GetHospitalizationData(NDFIPS, oldest_hospitalization_df)\n",
    "\n",
    "end= time.perf_counter()\n",
    "\n",
    "print(f\"({end-midpt:0.2f} sec elapsed) ... Done ({end-start:0.2f} sec total for all operations)\")"
   ]
  },
  {
   "cell_type": "markdown",
   "metadata": {},
   "source": [
    "## Previous DataIO approach\n",
    "\n",
    "This approach loads the CSV files in memory and messages the entire dataframe at once to clean up the data.  This means any later subselections of the data are really fast."
   ]
  },
  {
   "cell_type": "code",
   "execution_count": 4,
   "metadata": {
    "lines_to_next_cell": 2
   },
   "outputs": [
    {
     "name": "stdout",
     "output_type": "stream",
     "text": [
      "Loading Complete COVID Dataset into memory from CSV files and restructuring data (14.23 sec elapsed) ... Building local datasets  (0.02 sec elapsed) ... Done (14.25 sec total for all operations)\n"
     ]
    }
   ],
   "source": [
    "# Load all the dataframes into memory\n",
    "print(\"Loading Complete COVID Dataset into memory from CSV files and restructuring data \", end='')\n",
    "\n",
    "start= time.perf_counter()\n",
    "# Retrieve John Hopkins dataframes\n",
    "(old_JH_state_df, old_JH_cnty_df) = COVID_IO.CSVtoCDRDataFrames()\n",
    "# Retrieve Apple Mobility Dataframe\n",
    "(old_aapl_cnty_df, old_aapl_state_df) = COVID_IO.CSVtoAAPLMobilityDataFrames()\n",
    "# Retrieve Google Mobility Dataframe\n",
    "(old_goog_cnty_df, old_goog_state_df) = COVID_IO.CSVtoGOOGMobilityDataFrames()\n",
    "# Retrieve IMHE Dataframes\n",
    "(old_summary_df, old_hospitalization_df) = COVID_IO.CSVtoIMHEDataFrames()\n",
    "end= time.perf_counter()\n",
    "\n",
    "# Narrow data down to local subsets\n",
    "midpt= time.perf_counter()\n",
    "print(f\"({midpt-start:0.2f} sec elapsed) ... Building local datasets  \", end='')\n",
    "\n",
    "# Build local dataframes for John Hopkins Data\n",
    "old_MN_CDR_df = COVID_IO.getLocalDataFrame(MNFIPS, old_JH_state_df)\n",
    "old_ND_CDR_df = COVID_IO.getLocalDataFrame(NDFIPS, old_JH_state_df)\n",
    "old_CLAY_CDR_df = COVID_IO.getLocalDataFrame(ClayFIPS, old_JH_cnty_df)\n",
    "old_CASS_CDR_df = COVID_IO.getLocalDataFrame(CassFIPS, old_JH_cnty_df)\n",
    "\n",
    "# Build local dataframes of mobility data\n",
    "old_CLAY_aapl_df = COVID_IO.getLocalDataFrame(ClayFIPS, old_aapl_cnty_df)\n",
    "old_CASS_aapl_df = COVID_IO.getLocalDataFrame(CassFIPS, old_aapl_cnty_df)\n",
    "old_MN_aapl_df = COVID_IO.getLocalDataFrame(MNFIPS, old_aapl_state_df)\n",
    "old_ND_aapl_df = COVID_IO.getLocalDataFrame(NDFIPS, old_aapl_state_df)\n",
    "old_CLAY_goog_df = COVID_IO.getLocalDataFrame(ClayFIPS, old_goog_cnty_df)\n",
    "old_CASS_goog_df = COVID_IO.getLocalDataFrame(CassFIPS, old_goog_cnty_df)\n",
    "old_MN_goog_df = COVID_IO.getLocalDataFrame(MNFIPS, old_goog_state_df)\n",
    "old_ND_goog_df = COVID_IO.getLocalDataFrame(NDFIPS, old_goog_state_df)\n",
    "\n",
    "# Build local dataframes/variables of IMHE data\n",
    "old_MN_equip_df = COVID_IO.getLocalDataFrame(MNFIPS, old_summary_df)\n",
    "old_MN_icu_beds = COVID_IO.GetNumICUBeds(MNFIPS, old_summary_df)\n",
    "old_MN_all_beds = COVID_IO.GetNumAllBeds(MNFIPS, old_summary_df)\n",
    "old_MN_icu_usage = COVID_IO.GetICUBedUsage(MNFIPS, old_summary_df)\n",
    "old_MN_allbed_usage = COVID_IO.GetAllBedUsage(MNFIPS, old_summary_df)\n",
    "old_MN_hospital_df = COVID_IO.getLocalDataFrame(MNFIPS, old_hospitalization_df)\n",
    "old_ND_equip_df = COVID_IO.getLocalDataFrame(NDFIPS, old_summary_df)\n",
    "old_ND_icu_beds = COVID_IO.GetNumICUBeds(NDFIPS, old_summary_df)\n",
    "old_ND_all_beds = COVID_IO.GetNumAllBeds(NDFIPS, old_summary_df)\n",
    "old_ND_icu_usage = COVID_IO.GetICUBedUsage(NDFIPS, old_summary_df)\n",
    "old_ND_allbed_usage = COVID_IO.GetAllBedUsage(NDFIPS, old_summary_df)\n",
    "old_ND_hospital_df = COVID_IO.getLocalDataFrame(NDFIPS, old_hospitalization_df)\n",
    "\n",
    "end= time.perf_counter()\n",
    "\n",
    "print(f\"({end-midpt:0.2f} sec elapsed) ... Done ({end-start:0.2f} sec total for all operations)\")"
   ]
  },
  {
   "cell_type": "markdown",
   "metadata": {},
   "source": [
    "## Pickling DataIO approach\n",
    "\n",
    "Picking is an approach that takes a variable/object in memory and constructs a binary representation of it that is written to disk.  We can then simply read that binary representation and get back the exact object in memory.  No data processing necessary.  This cell implements that.  Its a bit slower than just reading the CSV and modifying the data for each FIPS as needed, BUT if we have to switch between different FIPS subsets, there will be only 0.02 sec versus ~0.15 sec to make the switch based on my timing here)."
   ]
  },
  {
   "cell_type": "code",
   "execution_count": 5,
   "metadata": {},
   "outputs": [
    {
     "name": "stdout",
     "output_type": "stream",
     "text": [
      "Loading Complete COVID Dataset into memory from Pickle files ... (0.59 sec elapsed) ... Building local datasets  (0.02 sec elapsed) ... Done (0.61 sec total for all operations)\n"
     ]
    }
   ],
   "source": [
    "# Load all the dataframes into memory\n",
    "print(\"Loading Complete COVID Dataset into memory from Pickle files ... \", end='')\n",
    "\n",
    "start= time.perf_counter()\n",
    "# Retrieve John Hopkins dataframes\n",
    "(JH_state_df, JH_cnty_df) = COVID_IO.PtoCDRDataFrames()\n",
    "# Retrieve Apple Mobility Dataframe\n",
    "(aapl_cnty_df, aapl_state_df) = COVID_IO.PtoAAPLMobilityDataFrames()\n",
    "# Retrieve Google Mobility Dataframe\n",
    "(goog_cnty_df, goog_state_df) = COVID_IO.PtoGOOGMobilityDataFrames()\n",
    "# Retrieve IMHE Dataframes\n",
    "(summary_df, hospitalization_df) = COVID_IO.PtoIMHEDataFrames()\n",
    "end= time.perf_counter()\n",
    "\n",
    "# Narrow data down to local subsets\n",
    "midpt= time.perf_counter()\n",
    "print(f\"({midpt-start:0.2f} sec elapsed) ... Building local datasets  \", end='')\n",
    "\n",
    "# Build local dataframes for John Hopkins Data\n",
    "MN_CDR_df = COVID_IO.getLocalDataFrame(MNFIPS, JH_state_df)\n",
    "ND_CDR_df = COVID_IO.getLocalDataFrame(NDFIPS, JH_state_df)\n",
    "CLAY_CDR_df = COVID_IO.getLocalDataFrame(ClayFIPS, JH_cnty_df)\n",
    "CASS_CDR_df = COVID_IO.getLocalDataFrame(CassFIPS, JH_cnty_df)\n",
    "\n",
    "# Build local dataframes of mobility data\n",
    "CLAY_aapl_df = COVID_IO.getLocalDataFrame(ClayFIPS, aapl_cnty_df)\n",
    "CASS_aapl_df = COVID_IO.getLocalDataFrame(CassFIPS, aapl_cnty_df)\n",
    "MN_aapl_df = COVID_IO.getLocalDataFrame(MNFIPS, aapl_state_df)\n",
    "ND_aapl_df = COVID_IO.getLocalDataFrame(NDFIPS, aapl_state_df)\n",
    "CLAY_goog_df = COVID_IO.getLocalDataFrame(ClayFIPS, goog_cnty_df)\n",
    "CASS_goog_df = COVID_IO.getLocalDataFrame(CassFIPS, goog_cnty_df)\n",
    "MN_goog_df = COVID_IO.getLocalDataFrame(MNFIPS, goog_state_df)\n",
    "ND_goog_df = COVID_IO.getLocalDataFrame(NDFIPS, goog_state_df)\n",
    "\n",
    "# Build local dataframes/variables of IMHE data\n",
    "MN_equip_df = COVID_IO.getLocalDataFrame(MNFIPS, summary_df)\n",
    "MN_icu_beds = COVID_IO.GetNumICUBeds(MNFIPS, summary_df)\n",
    "MN_all_beds = COVID_IO.GetNumAllBeds(MNFIPS, summary_df)\n",
    "MN_icu_usage = COVID_IO.GetICUBedUsage(MNFIPS, summary_df)\n",
    "MN_allbed_usage = COVID_IO.GetAllBedUsage(MNFIPS, summary_df)\n",
    "MN_hospital_df = COVID_IO.getLocalDataFrame(MNFIPS, hospitalization_df)\n",
    "ND_equip_df = COVID_IO.getLocalDataFrame(NDFIPS, summary_df)\n",
    "ND_icu_beds = COVID_IO.GetNumICUBeds(NDFIPS, summary_df)\n",
    "ND_all_beds = COVID_IO.GetNumAllBeds(NDFIPS, summary_df)\n",
    "ND_icu_usage = COVID_IO.GetICUBedUsage(NDFIPS, summary_df)\n",
    "ND_allbed_usage = COVID_IO.GetAllBedUsage(NDFIPS, summary_df)\n",
    "ND_hospital_df = COVID_IO.getLocalDataFrame(NDFIPS, hospitalization_df)\n",
    "\n",
    "end= time.perf_counter()\n",
    "\n",
    "print(f\"({end-midpt:0.2f} sec elapsed) ... Done ({end-start:0.2f} sec total for all operations)\")"
   ]
  },
  {
   "cell_type": "code",
   "execution_count": null,
   "metadata": {},
   "outputs": [],
   "source": []
  }
 ],
 "metadata": {
  "jupytext": {
   "encoding": "# -*- coding: utf-8 -*-"
  },
  "kernelspec": {
   "display_name": "Python 3",
   "language": "python",
   "name": "python3"
  },
  "language_info": {
   "codemirror_mode": {
    "name": "ipython",
    "version": 3
   },
   "file_extension": ".py",
   "mimetype": "text/x-python",
   "name": "python",
   "nbconvert_exporter": "python",
   "pygments_lexer": "ipython3",
   "version": "3.7.6"
  }
 },
 "nbformat": 4,
 "nbformat_minor": 4
}
