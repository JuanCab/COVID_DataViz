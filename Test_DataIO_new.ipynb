{
 "cells": [
  {
   "cell_type": "markdown",
   "metadata": {},
   "source": [
    "# Test DataIO Python Library (New) routines\n",
    "\n",
    "This Jupyter notebook is a revised testing notebook aimed at testing the new CSV importing functions that\n",
    "manipulate the strings on import to convert them into the expected lists."
   ]
  },
  {
   "cell_type": "code",
   "execution_count": 46,
   "metadata": {},
   "outputs": [
    {
     "name": "stdout",
     "output_type": "stream",
     "text": [
      "The autoreload extension is already loaded. To reload it, use:\n",
      "  %reload_ext autoreload\n"
     ]
    }
   ],
   "source": [
    "# This forces a reload of any external library file if it changes.  \n",
    "# Useful when developing external libraries since otherwise Jupyter \n",
    "# will not re-import any library without restarting the python kernel.\n",
    "\n",
    "%load_ext autoreload\n",
    "%autoreload 2"
   ]
  },
  {
   "cell_type": "code",
   "execution_count": 47,
   "metadata": {},
   "outputs": [],
   "source": [
    "import os\n",
    "import numpy as np\n",
    "import matplotlib.pyplot as plt\n",
    "import matplotlib.dates as mdates\n",
    "import pandas as pd\n",
    "\n",
    "# Import COVID data IO routines from external python library\n",
    "import COVIDlib.data_IO as COVID_IO\n",
    "\n",
    "## Define variables of interest below\n",
    "data_dir = 'our_data/'    # Data directory for the COVID datafiles\n",
    "test_dir = 'test_data/'   # Data directory for storing test datafiles\n",
    "\n",
    "## Define FIPS corresponding to various local areas\n",
    "ClayFIPS = 27027\n",
    "CassFIPS = 38017\n",
    "MNFIPS = 27\n",
    "NDFIPS = 38"
   ]
  },
  {
   "cell_type": "markdown",
   "metadata": {},
   "source": [
    "# Test John Hopkins DataIO\n",
    "\n",
    "Execute and test the John Hopkins DataIO routines first authored by Luke"
   ]
  },
  {
   "cell_type": "code",
   "execution_count": 57,
   "metadata": {
    "lines_to_next_cell": 2
   },
   "outputs": [],
   "source": [
    "# Trying the new routines to import dataframes from CSV with\n",
    "# conversion of strings to lists.  Also allows a single \n",
    "# getLocalDataFrame() function for pulling to local data from\n",
    "# ANY of our dataframes (since they all index based on FIPS).\n",
    "\n",
    "# Retrieve John Hopkins dataframes\n",
    "(JH_state_df, JH_cnty_df) = COVID_IO.CSVtoCDRDataFrames()\n",
    "# Retrieve State-Level data for Minnesota\n",
    "MN_df = COVID_IO.getLocalDataFrame(MNFIPS, JH_state_df)\n",
    "# Retrieve County-level data for Clay County\n",
    "CLAY_df = COVID_IO.getLocalDataFrame(ClayFIPS, JH_cnty_df)\n",
    "\n",
    "# Retrieve Test John Hopkins dataframes\n",
    "test_cntyfile = test_dir+\"TEST_countylevel_combinedCDR.csv\"\n",
    "test_statefile = test_dir+\"TEST_statelevel_combinedCDR.csv\"\n",
    "(testJH_state_df, testJH_cnty_df) = COVID_IO.CSVtoCDRDataFrames(stateFile = test_statefile, countyFile = test_cntyfile)\n",
    "# Retrieve TEST State-Level data for Minnesota\n",
    "TESTMN_df = COVID_IO.getLocalDataFrame(MNFIPS, testJH_state_df)\n",
    "# Retrieve TEST County-level data for Clay County\n",
    "TESTCLAY_df = COVID_IO.getLocalDataFrame(ClayFIPS, testJH_cnty_df)"
   ]
  },
  {
   "cell_type": "code",
   "execution_count": 58,
   "metadata": {},
   "outputs": [
    {
     "name": "stdout",
     "output_type": "stream",
     "text": [
      "Testing John Hopkins Test Data\n",
      "----------------------------------------------------------------------------------------------------\n",
      "Correct Date format: 2020-03-22 Compared to 2020-03-22 & Correct Death Format: 0.0 compared to 0\n",
      "Correct Date format: 2020-03-22 Compared to 2020-03-22 & Correct Death Format: 10.0 compared to 10\n"
     ]
    }
   ],
   "source": [
    "print(\"Testing John Hopkins Test Data\")\n",
    "print((\"-\"*100))\n",
    "if TESTMN_df['Dates'].values[0][0] == np.datetime64('2020-03-22') and TESTMN_df['Confirmed'].values[0][0] == 0:\n",
    "    print(\"Correct Date format: {0} Compared to 2020-03-22 & Correct Death Format: {1} compared to 0\".format(TESTMN_df['Dates'].values[0][0],TESTMN_df['Confirmed'].values[0][0]))\n",
    "else:\n",
    "    print(\"Inccorrect Results\")\n",
    "if TESTCLAY_df['Dates'].values[0][0] == np.datetime64('2020-03-22') and TESTCLAY_df['Confirmed'].values[0][0] == 10:\n",
    "    print(\"Correct Date format: {0} Compared to 2020-03-22 & Correct Death Format: {1} compared to 10\".format(TESTCLAY_df['Dates'].values[0][0],TESTCLAY_df['Confirmed'].values[0][0]))\n",
    "else:\n",
    "    print(\"Inccorrect Results\")"
   ]
  },
  {
   "cell_type": "code",
   "execution_count": 59,
   "metadata": {},
   "outputs": [],
   "source": [
    "##\n",
    "## The Clay county data should have a steady 10 confirmed per day starting March 22, 2020, so the number of confirmed increases as 10 cases per day (means dConfirmed is 10/day)\n",
    "## First death occurs 14 days later (since I \"kill\" 10% of the infected at the end of 14 days, the other 90% are recovered).  Check this!\n",
    "\n",
    "##\n",
    "## The Minnesota data should have an unreal situation of 10 additional new cases a day from March 22 to June 1.  We still \"kill\" 10% of the infected 14 days later and mark the\n",
    "## other 90% \"recovered.\"  Check this."
   ]
  },
  {
   "cell_type": "markdown",
   "metadata": {},
   "source": [
    "## Test Apple and Google Mobility DataIO\n",
    "\n",
    "Execute and test the Apple and Google Mobility DataIO routines first authored by Dio"
   ]
  },
  {
   "cell_type": "code",
   "execution_count": 69,
   "metadata": {},
   "outputs": [],
   "source": [
    "# Trying the new routines to import dataframes from CSV with\n",
    "# conversion of strings to lists.  Also allows a single \n",
    "# getLocalDataFrame() function for pulling to local data from\n",
    "# ANY of our dataframes (since they all index based on FIPS).\n",
    "\n",
    "\n",
    "## \n",
    "## Retrieve the Apple Mobility Data\n",
    "##\n",
    "\n",
    "# Retrieve Apple Mobility Dataframe\n",
    "(aapl_cnty_df, aapl_state_df) = COVID_IO.CSVtoAAPLMobilityDataFrames()\n",
    "# Get real Clay county and Minnesota mobility data\n",
    "aapl_CLAY_df = COVID_IO.getLocalDataFrame(ClayFIPS, aapl_cnty_df)\n",
    "aapl_MN_df = COVID_IO.getLocalDataFrame(MNFIPS, aapl_state_df)\n",
    "\n",
    "# Retrieve TEST Apple Mobility Dataframe\n",
    "test_cntyfile = test_dir+\"TEST_aapl_mobility_cnty.csv\"\n",
    "test_statefile = test_dir+\"TEST_aapl_mobility_state.csv\"\n",
    "(testaapl_cnty_df, testaapl_state_df) = COVID_IO.CSVtoAAPLMobilityDataFrames(countyFile = test_cntyfile, stateFile = test_statefile)\n",
    "# Get TEST Clay county and Minnesota mobility data\n",
    "testaapl_CLAY_df = COVID_IO.getLocalDataFrame(ClayFIPS, testaapl_cnty_df)\n",
    "testaapl_MN_df = COVID_IO.getLocalDataFrame(MNFIPS, testaapl_state_df)\n",
    "\n",
    "## \n",
    "## Retrieve the Google Mobility Data\n",
    "##\n",
    "\n",
    "# Retrieve Google Mobility Dataframe\n",
    "(goog_cnty_df, goog_state_df) = COVID_IO.CSVtoGOOGMobilityDataFrames()\n",
    "# Get real Clay county and Minnesota mobility data\n",
    "goog_CLAY_df = COVID_IO.getLocalDataFrame(ClayFIPS, goog_cnty_df)\n",
    "goog_MN_df = COVID_IO.getLocalDataFrame(MNFIPS, goog_state_df)\n",
    "\n",
    "# Retrieve TEST Google Mobility Dataframe\n",
    "test_cntyfile = test_dir+\"TEST_goog_mobility_cnty.csv\"\n",
    "test_statefile = test_dir+\"TEST_goog_mobility_state.csv\"\n",
    "(testgoog_cnty_df, testgoog_state_df) = COVID_IO.CSVtoGOOGMobilityDataFrames(countyFile = test_cntyfile, stateFile = test_statefile)\n",
    "# Get TEST Clay county and Minnesota mobility data\n",
    "testgoog_CLAY_df = COVID_IO.getLocalDataFrame(ClayFIPS, testgoog_cnty_df)\n",
    "testgoog_MN_df = COVID_IO.getLocalDataFrame(MNFIPS, testgoog_state_df)"
   ]
  },
  {
   "cell_type": "code",
   "execution_count": 71,
   "metadata": {},
   "outputs": [
    {
     "name": "stdout",
     "output_type": "stream",
     "text": [
      "Testing Mobility Test Data\n",
      "----------------------------------------------------------------------------------------------------\n",
      "Correct Date format: 2020-02-15 Compared to 2020-02-15 & Retail/Rec % Format: 0.0 compared to 0.0\n",
      "Correct State format: Minnesota Compared to Minnesota & Correct Res% Format: 5.0 compared to 5.0\n"
     ]
    }
   ],
   "source": [
    "print(\"Testing Mobility Test Data\")\n",
    "print((\"-\"*100))\n",
    "if testgoog_CLAY_df['dates'].values[0][0] == np.datetime64('2020-02-15') and testgoog_CLAY_df['retail_and_recreation_percent_change_from_baseline'].values[0][0] == 0.0:\n",
    "    print(\"Correct Date format: {0} Compared to 2020-02-15 & Retail/Rec % Format: {1} compared to 0.0\".format(testgoog_CLAY_df['dates'].values[0][0],testgoog_CLAY_df['retail_and_recreation_percent_change_from_baseline'].values[0][0]))\n",
    "else:\n",
    "    print(\"Inccorrect Results\")\n",
    "if testgoog_MN_df['state'].values[0] == \"Minnesota\" and testgoog_MN_df['residential_percent_change_from_baseline'].values[0][0] == 5.0:\n",
    "    print(\"Correct State format: {0} Compared to Minnesota & Correct Res% Format: {1} compared to 5.0\".format(testgoog_MN_df['state'].values[0],testgoog_MN_df['residential_percent_change_from_baseline'].values[0][0]))\n",
    "else:\n",
    "    print(\"Inccorrect Results\")"
   ]
  },
  {
   "cell_type": "code",
   "execution_count": null,
   "metadata": {},
   "outputs": [],
   "source": [
    "##\n",
    "## Test Apple Mobility Data should be checked\n",
    "##  - For Clay county, the test data is a sawtooth pattern from -30 to +30 with a 7 day period starting on Feb. 15, 2020\n",
    "##  - For Minnesota, the test data is a boxcar pattern 4 days at 30 followed by four days at -30 and back again starting on Feb. 15, 2020 starting on Feb. 15, 2020"
   ]
  },
  {
   "cell_type": "code",
   "execution_count": null,
   "metadata": {},
   "outputs": [],
   "source": [
    "##\n",
    "## Test Google Mobility Data should be checked\n",
    "##  - For Clay county, the test data is a sine wave with an amplitude of 20 and wavelength of 30 days starting on Feb. 15, 2020\n",
    "##  - For Minnesota, the test data is a cosine wave with an amplitude of 20 and wavelength of 30 days starting on Feb. 15, 2020"
   ]
  },
  {
   "cell_type": "code",
   "execution_count": null,
   "metadata": {},
   "outputs": [],
   "source": []
  },
  {
   "cell_type": "markdown",
   "metadata": {},
   "source": [
    "## Test IMHE DataIO\n",
    "\n",
    "Execute and test the Apple and Google Mobility DataIO routines first authored by Luke"
   ]
  },
  {
   "cell_type": "code",
   "execution_count": 65,
   "metadata": {},
   "outputs": [],
   "source": [
    "# Trying the new routines to import dataframes from CSV with\n",
    "# conversion of strings to lists.  Also allows a single \n",
    "# getLocalDataFrame() function for pulling to local data from\n",
    "# ANY of our dataframes (since they all index based on FIPS).\n",
    "\n",
    "## \n",
    "## Retrieve the IMHE Data\n",
    "##\n",
    "\n",
    "# Retrieve IMHE Dataframes\n",
    "(summary_df, hospitalization_df) = COVID_IO.CSVtoIMHEDataFrames()\n",
    "# Retrieve specific Dataframes and Data for MN\n",
    "equip_df = COVID_IO.getLocalDataFrame(MNFIPS, summary_df)\n",
    "icu_beds = COVID_IO.GetNumICUBeds(MNFIPS, summary_df)\n",
    "all_beds = COVID_IO.GetNumAllBeds(MNFIPS, summary_df)\n",
    "icu_usage = COVID_IO.GetICUBedUsage(MNFIPS, summary_df)\n",
    "allbed_usage = COVID_IO.GetAllBedUsage(MNFIPS, summary_df)\n",
    "hospital_df = COVID_IO.getLocalDataFrame(MNFIPS, hospitalization_df)\n",
    "\n",
    "# Retrieve TEST IMHE Dataframes\n",
    "testsummaryfile = test_dir+\"TEST_imhe_summary.csv\"\n",
    "testhospitalizationfile = test_dir+\"TEST_imhe_hospitalizations.csv\"\n",
    "(testsummary_df, testhospitalization_df) = COVID_IO.CSVtoIMHEDataFrames(summaryFile = testsummaryfile, hospitalFile = testhospitalizationfile)\n",
    "# Retrieve specific TEST Dataframes and Data for MN\n",
    "testequip_df = COVID_IO.getLocalDataFrame(MNFIPS, testsummary_df)\n",
    "testicu_beds = COVID_IO.GetNumICUBeds(MNFIPS, testsummary_df)\n",
    "testall_beds = COVID_IO.GetNumAllBeds(MNFIPS, testsummary_df)\n",
    "testicu_usage = COVID_IO.GetICUBedUsage(MNFIPS, testsummary_df)\n",
    "testallbed_usage = COVID_IO.GetAllBedUsage(MNFIPS, testsummary_df)\n",
    "testhospital_df = COVID_IO.getLocalDataFrame(MNFIPS, testhospitalization_df)"
   ]
  },
  {
   "cell_type": "code",
   "execution_count": 66,
   "metadata": {},
   "outputs": [],
   "source": [
    "##\n",
    "## Test IMHE data for Minnesota should be checked.\n",
    "##  All summary dates were set to May 15, 2020 (lower May 1, upper June 15)\n",
    "##  Bed capacity was set to 2000 and ICU capacity to 200. \n",
    "##  The test data assumes 100% usage.\n"
   ]
  },
  {
   "cell_type": "code",
   "execution_count": 67,
   "metadata": {},
   "outputs": [
    {
     "name": "stdout",
     "output_type": "stream",
     "text": [
      "Testing Functions for IMHE Summary Data\n",
      "----------------------------------------\n",
      "\n",
      "GetNumICUBeds : Passed\n",
      "Expected value: 200 - Actual value: 200\n",
      "GetNumAllBeds : Passed\n",
      "Expected value: 2000 - Actual value: 2000\n",
      "\n",
      "GetICUBedUsage : Passed\n",
      "Expected value: 200 - Actual value: 200\n",
      "GetNumAllBeds : Passed\n",
      "Expected value: 2000 - Actual value: 2000\n",
      "\n",
      "Peak Bed Day Mean - Passed\n",
      "Peak ICU Bed Day Mean - Passed\n",
      "Peak Vent Day Mean - Passed\n"
     ]
    }
   ],
   "source": [
    "# Testing Functions for IMHE Summary Data\n",
    "print(\"Testing Functions for IMHE Summary Data\\n----------------------------------------\\n\")\n",
    "if testicu_beds == 200:\n",
    "    print(\"GetNumICUBeds : Passed\")\n",
    "else:\n",
    "    print(\"GetNumICUBeds : Failed\")\n",
    "print(\"Expected value: 200 - Actual value: {0}\".format(testicu_beds))\n",
    "    \n",
    "if testall_beds == 2000:\n",
    "    print(\"GetNumAllBeds : Passed\")\n",
    "else:\n",
    "    print(\"GetNumAllBeds : Failed\")\n",
    "print(\"Expected value: 2000 - Actual value: {0}\".format(testall_beds) + \"\\n\")\n",
    "    \n",
    "if testicu_usage == 200:\n",
    "    print(\"GetICUBedUsage : Passed\")\n",
    "else:\n",
    "    print(\"GetICUBedUsage : Failed\")\n",
    "print(\"Expected value: 200 - Actual value: {0}\".format(testicu_usage))\n",
    "\n",
    "if testallbed_usage == 2000:\n",
    "    print(\"GetNumAllBeds : Passed\")\n",
    "else:\n",
    "    print(\"GetNumAllBeds : Failed\")\n",
    "print(\"Expected value: 2000 - Actual value: {0}\".format(testallbed_usage) + \"\\n\")\n",
    "\n",
    "if testequip_df['peak_bed_day_mean'].values[0] == np.datetime64('2020-05-15'):\n",
    "    print(\"Peak Bed Day Mean - Passed\")\n",
    "else:\n",
    "    print(\"Peak Bed Day Mean - Failed\")\n",
    "\n",
    "if testequip_df['peak_icu_bed_day_mean'].values[0] == np.datetime64('2020-05-15'):\n",
    "    print(\"Peak ICU Bed Day Mean - Passed\")\n",
    "else:\n",
    "    print(\"Peak ICU Bed Day Mean - Failed\")\n",
    "    \n",
    "if testequip_df['peak_vent_day_mean'].values[0] == np.datetime64('2020-05-15'):\n",
    "    print(\"Peak Vent Day Mean - Passed\")\n",
    "else:\n",
    "    print(\"Peak Vent Day Mean - Failed\")"
   ]
  },
  {
   "cell_type": "code",
   "execution_count": null,
   "metadata": {},
   "outputs": [],
   "source": [
    "##\n",
    "## Test IMHE data for Minnesota should be checked.\n",
    "##  All summary dates were set to May 15, 2020 (lower May 1, upper June 15)\n",
    "##  Bed capacity was set to 2000 and ICU capacity to 200. \n",
    "##  The test data assumes 100% usage.\n",
    "\n",
    "# The hospitalization data starts on March 22, 2020\n",
    "# test_imhe_hospitalizations['allbed_mean'] is increasing at 1000 per day (10% margins of error on lower/upper)\n",
    "# test_imhe_hospitalizations['ICUbed_mean'] is increasing at 100 per day (10% margins of error on lower/upper)\n",
    "# test_imhe_hospitalizations['InvVen_mean'] is increasing at 50 per day (10% margins of error on lower/upper)\n",
    "# For the hospitalization deaths/admits/ICU use, the test data has a constant 10 deaths/100 admits/20 ICU a day \n",
    "# (with 10% margins of error on lower/upper)"
   ]
  },
  {
   "cell_type": "code",
   "execution_count": null,
   "metadata": {},
   "outputs": [],
   "source": []
  }
 ],
 "metadata": {
  "jupytext": {
   "encoding": "# -*- coding: utf-8 -*-"
  },
  "kernelspec": {
   "display_name": "Python 3",
   "language": "python",
   "name": "python3"
  },
  "language_info": {
   "codemirror_mode": {
    "name": "ipython",
    "version": 3
   },
   "file_extension": ".py",
   "mimetype": "text/x-python",
   "name": "python",
   "nbconvert_exporter": "python",
   "pygments_lexer": "ipython3",
   "version": "3.7.6"
  }
 },
 "nbformat": 4,
 "nbformat_minor": 4
}
