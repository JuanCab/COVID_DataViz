{
 "cells": [
  {
   "cell_type": "markdown",
   "metadata": {},
   "source": [
    "# Test DataIO Python Library (New) routines\n",
    "\n",
    "This Jupyter notebook is a revised testing notebook aimed at testing the new CSV importing functions that\n",
    "manipulate the strings on import to convert them into the expected lists."
   ]
  },
  {
   "cell_type": "code",
   "execution_count": null,
   "metadata": {},
   "outputs": [],
   "source": [
    "# This forces a reload of any external library file if it changes.  \n",
    "# Useful when developing external libraries since otherwise Jupyter \n",
    "# will not re-import any library without restarting the python kernel.\n",
    "\n",
    "%load_ext autoreload\n",
    "%autoreload 2"
   ]
  },
  {
   "cell_type": "code",
   "execution_count": null,
   "metadata": {},
   "outputs": [],
   "source": [
    "import os\n",
    "import numpy as np\n",
    "import matplotlib.pyplot as plt\n",
    "import matplotlib.dates as mdates\n",
    "import pandas as pd\n",
    "\n",
    "# Import COVID data IO routines from external python library\n",
    "import COVIDlib.data_IO as COVID_IO\n",
    "\n",
    "## Define variables of interest below\n",
    "data_dir = 'our_data/'    # Data directory for the COVID datafiles\n",
    "test_dir = 'test_data/'   # Data directory for storing test datafiles\n",
    "\n",
    "## Define FIPS corresponding to various local areas\n",
    "ClayFIPS = 27027\n",
    "CassFIPS = 38017\n",
    "MNFIPS = 27\n",
    "NDFIPS = 38"
   ]
  },
  {
   "cell_type": "markdown",
   "metadata": {},
   "source": [
    "# Test John Hopkins DataIO\n",
    "\n",
    "Execute and test the John Hopkins DataIO routines first authored by Luke"
   ]
  },
  {
   "cell_type": "code",
   "execution_count": null,
   "metadata": {
    "lines_to_next_cell": 2
   },
   "outputs": [],
   "source": [
    "# Trying the new routines to import dataframes from CSV with\n",
    "# conversion of strings to lists.  Also allows a single \n",
    "# getLocalDataFrame() function for pulling to local data from\n",
    "# ANY of our dataframes (since they all index based on FIPS).\n",
    "\n",
    "# Retrieve John Hopkins dataframes\n",
    "(newJH_state_df, newJH_cnty_df) = COVID_IO.CSVtoCDRDataFrames()\n",
    "\n",
    "# Retrieve Test dataframes\n",
    "test_cntyfile = test_dir+\"TEST_countylevel_combinedCDR.csv\"\n",
    "test_statefile = test_dir+\"TEST_statelevel_combinedCDR.csv\"\n",
    "(TESTnewJH_state_df, TESTnewJH_cnty_df) = COVID_IO.CSVtoCDRDataFrames(stateFile = test_statefile, countyFile = test_cntyfile)\n",
    "\n",
    "# Retrieve State-Level data for Minnesota\n",
    "newMN_df = COVID_IO.getLocalDataFrame(MNFIPS, newJH_state_df)\n",
    "# Retrieve County-level data for Clay County\n",
    "newCLAY_df = COVID_IO.getLocalDataFrame(ClayFIPS, newJH_cnty_df)\n",
    "\n",
    "# Retrieve TEST State-Level data for Minnesota\n",
    "TESTnewMN_df = COVID_IO.getLocalDataFrame(MNFIPS, TESTnewJH_state_df)\n",
    "# Retrieve TEST County-level data for Clay County\n",
    "TESTnewCLAY_df = COVID_IO.getLocalDataFrame(ClayFIPS, TESTnewJH_cnty_df)"
   ]
  },
  {
   "cell_type": "code",
   "execution_count": null,
   "metadata": {},
   "outputs": [],
   "source": [
    "##\n",
    "## The Clay county data should have a steady 10 confirmed per day starting March 22, 2020, so the number of confirmed increases as 10 cases per day (means dConfirmed is 10/day)\n",
    "## First death occurs 14 days later (since I \"kill\" 10% of the infected at the end of 14 days, the other 90% are recovered).  Check this!\n",
    "\n",
    "##\n",
    "## The Minnesota data should have an unreal situation of 10 additional new cases a day from March 22 to June 1.  We still \"kill\" 10% of the infected 14 days later and mark the\n",
    "## other 90% \"recovered.\"  Check this."
   ]
  },
  {
   "cell_type": "markdown",
   "metadata": {},
   "source": [
    "## Test Apple and Google Mobility DataIO\n",
    "\n",
    "Execute and test the Apple and Google Mobility DataIO routines first authored by Dio"
   ]
  },
  {
   "cell_type": "code",
   "execution_count": null,
   "metadata": {},
   "outputs": [],
   "source": [
    "# Trying the new routines to import dataframes from CSV with\n",
    "# conversion of strings to lists.  Also allows a single \n",
    "# getLocalDataFrame() function for pulling to local data from\n",
    "# ANY of our dataframes (since they all index based on FIPS).\n",
    "\n",
    "\n",
    "## \n",
    "## Retrieve the Apple Mobility Data\n",
    "##\n",
    "\n",
    "# Retrieve Apple Mobility Dataframe\n",
    "(newaapl_cnty_df, newaapl_state_df) = COVID_IO.CSVtoAAPLMobilityDataFrames()\n",
    "# Get real Clay county and Minnesota mobility data\n",
    "newaapl_CLAY_df = COVID_IO.getLocalDataFrame(ClayFIPS, newaapl_cnty_df)\n",
    "newaapl_MN_df = COVID_IO.getLocalDataFrame(MNFIPS, newaapl_state_df)\n",
    "\n",
    "# Retrieve TEST Apple Mobility Dataframe\n",
    "test_cntyfile = test_dir+\"TEST_aapl_mobility_cnty.csv\"\n",
    "test_statefile = test_dir+\"TEST_aapl_mobility_state.csv\"\n",
    "(testnewaapl_cnty_df, testnewaapl_state_df) = COVID_IO.CSVtoAAPLMobilityDataFrames(countyFile = test_cntyfile, stateFile = test_statefile)\n",
    "# Get TEST Clay county and Minnesota mobility data\n",
    "testnewaapl_CLAY_df = COVID_IO.getLocalDataFrame(ClayFIPS, testaapl_cnty_df)\n",
    "testnewaapl_MN_df = COVID_IO.getLocalDataFrame(MNFIPS, testaapl_state_df)\n",
    "\n",
    "## \n",
    "## Retrieve the Google Mobility Data\n",
    "##\n",
    "\n",
    "# Retrieve Google Mobility Dataframe\n",
    "(newgoog_cnty_df, newgoog_state_df) = COVID_IO.CSVtoGOOGMobilityDataFrames()\n",
    "# Get real Clay county and Minnesota mobility data\n",
    "newgoog_CLAY_df = COVID_IO.getLocalDataFrame(ClayFIPS, newgoog_cnty_df)\n",
    "newgoog_MN_df = COVID_IO.getLocalDataFrame(MNFIPS, newgoog_state_df)\n",
    "\n",
    "# Retrieve TEST Google Mobility Dataframe\n",
    "test_cntyfile = test_dir+\"TEST_goog_mobility_cnty.csv\"\n",
    "test_statefile = test_dir+\"TEST_goog_mobility_state.csv\"\n",
    "(testnewgoog_cnty_df, testnewgoog_state_df) = COVID_IO.CSVtoGOOGMobilityDataFrames(countyFile = test_cntyfile, stateFile = test_statefile)\n",
    "# Get TEST Clay county and Minnesota mobility data\n",
    "testnewgoog_CLAY_df = COVID_IO.getLocalDataFrame(ClayFIPS, testnewgoog_cnty_df)\n",
    "testnewgoog_MN_df = COVID_IO.getLocalDataFrame(MNFIPS, testnewgoog_state_df)"
   ]
  },
  {
   "cell_type": "code",
   "execution_count": null,
   "metadata": {},
   "outputs": [],
   "source": [
    "##\n",
    "## Test Apple Mobility Data should be checked\n",
    "##  - For Clay county, the test data is a sawtooth pattern from -30 to +30 with a 7 day period starting on Feb. 15, 2020\n",
    "##  - For Minnesota, the test data is a boxcar pattern 4 days at 30 followed by four days at -30 and back again starting on Feb. 15, 2020 starting on Feb. 15, 2020"
   ]
  },
  {
   "cell_type": "code",
   "execution_count": null,
   "metadata": {},
   "outputs": [],
   "source": [
    "##\n",
    "## Test Google Mobility Data should be checked\n",
    "##  - For Clay county, the test data is a sine wave with an amplitude of 20 and wavelength of 30 days starting on Feb. 15, 2020\n",
    "##  - For Minnesota, the test data is a cosine wave with an amplitude of 20 and wavelength of 30 days starting on Feb. 15, 2020"
   ]
  },
  {
   "cell_type": "code",
   "execution_count": null,
   "metadata": {},
   "outputs": [],
   "source": []
  },
  {
   "cell_type": "markdown",
   "metadata": {},
   "source": [
    "## Test IMHE DataIO\n",
    "\n",
    "Execute and test the Apple and Google Mobility DataIO routines first authored by Luke"
   ]
  },
  {
   "cell_type": "code",
   "execution_count": null,
   "metadata": {},
   "outputs": [],
   "source": [
    "# Trying the new routines to import dataframes from CSV with\n",
    "# conversion of strings to lists.  Also allows a single \n",
    "# getLocalDataFrame() function for pulling to local data from\n",
    "# ANY of our dataframes (since they all index based on FIPS).\n",
    "\n",
    "# Retrieve IMHE Dataframes\n",
    "(newsummary_df, newhospitalization_df) = COVID_IO.CSVtoIMHEDataFrames()\n",
    "# Retrieve specific Dataframes and Data for MN\n",
    "equip_df = COVID_IO.getLocalDataFrame(MNFIPS, newsummary_df)\n",
    "icu_beds = COVID_IO.GetNumICUBeds(MNFIPS, newsummary_df)\n",
    "all_beds = COVID_IO.GetNumAllBeds(MNFIPS, newsummary_df)\n",
    "icu_usage = COVID_IO.GetICUBedUsage(MNFIPS, newsummary_df)\n",
    "allbed_usage = COVID_IO.GetAllBedUsage(MNFIPS, newsummary_df)\n",
    "hospital_df = COVID_IO.getLocalDataFrame(MNFIPS, newhospitalization_df)\n",
    "\n",
    "# Retrieve TEST IMHE Dataframes\n",
    "testsummaryfile = test_dir+\"TEST_imhe_summary.csv\"\n",
    "testhospitalizationfile = test_dir+\"TEST_imhe_hospitalizations.csv\"\n",
    "(TESTnewsummary_df, TESTnewhospitalization_df) = COVID_IO.GetIMHEDataFrames(summaryFile = testsummaryfile, hospitalFile = testhospitalizationfile)\n",
    "# Retrieve specific TEST Dataframes and Data for MN\n",
    "testnewequip_df = COVID_IO.getLocalDataFrame(MNFIPS, TESTnewsummary_df)\n",
    "testnewicu_beds = COVID_IO.GetNumICUBeds(MNFIPS, TESTnewsummary_df)\n",
    "testnewall_beds = COVID_IO.GetNumAllBeds(MNFIPS, TESTnewsummary_df)\n",
    "testnewicu_usage = COVID_IO.GetICUBedUsage(MNFIPS, TESTnewsummary_df)\n",
    "testnewallbed_usage = COVID_IO.GetAllBedUsage(MNFIPS, TESTnewsummary_df)\n",
    "testnewhospital_df = COVID_IO.getLocalDataFrame(MNFIPS, TESTnewhospitalization_df)"
   ]
  },
  {
   "cell_type": "code",
   "execution_count": null,
   "metadata": {},
   "outputs": [],
   "source": [
    "##\n",
    "## Test IMHE data for Minnesota should be checked.\n",
    "##  All summary dates were set to May 15, 2020 (lower May 1, upper June 15)\n",
    "##  Bed capacity was set to 2000 and ICU capacity to 200. \n",
    "##  The test data assumes 100% usage.\n",
    "\n",
    "# The hospitalization data starts on March 22, 2020\n",
    "# test_imhe_hospitalizations['allbed_mean'] is increasing at 1000 per day (10% margins of error on lower/upper)\n",
    "# test_imhe_hospitalizations['ICUbed_mean'] is increasing at 100 per day (10% margins of error on lower/upper)\n",
    "# test_imhe_hospitalizations['InvVen_mean'] is increasing at 50 per day (10% margins of error on lower/upper)\n",
    "# For the hospitalization deaths/admits/ICU use, the test data has a constant 10 deaths/100 admits/20 ICU a day \n",
    "# (with 10% margins of error on lower/upper)"
   ]
  },
  {
   "cell_type": "code",
   "execution_count": null,
   "metadata": {},
   "outputs": [],
   "source": []
  }
 ],
 "metadata": {
  "jupytext": {
   "encoding": "# -*- coding: utf-8 -*-"
  },
  "kernelspec": {
   "display_name": "Python 3",
   "language": "python",
   "name": "python3"
  },
  "language_info": {
   "codemirror_mode": {
    "name": "ipython",
    "version": 3
   },
   "file_extension": ".py",
   "mimetype": "text/x-python",
   "name": "python",
   "nbconvert_exporter": "python",
   "pygments_lexer": "ipython3",
   "version": "3.7.6"
  }
 },
 "nbformat": 4,
 "nbformat_minor": 4
}
