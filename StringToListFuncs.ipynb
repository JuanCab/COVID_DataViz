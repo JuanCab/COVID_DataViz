{
 "cells": [
  {
   "cell_type": "code",
   "execution_count": 1,
   "metadata": {},
   "outputs": [],
   "source": [
    "from datetime import datetime "
   ]
  },
  {
   "cell_type": "code",
   "execution_count": 2,
   "metadata": {},
   "outputs": [],
   "source": [
    "# Converts string to list of date objects\n",
    "def StringToListDate(string):\n",
    "    dates_str_list = string.replace('\\'','').strip('][').split(', ')\n",
    "    dates_list = [datetime.strptime(date, '%Y-%m-%d').date() for date in dates_str_list]\n",
    "    return dates_list"
   ]
  },
  {
   "cell_type": "code",
   "execution_count": 3,
   "metadata": {},
   "outputs": [],
   "source": [
    "# Converts string to list of ints\n",
    "def StringToListInt(integer):\n",
    "    int_list = list(map(int, integer.replace('\\'','').strip('][').split(', '))) \n",
    "    return int_list"
   ]
  },
  {
   "cell_type": "code",
   "execution_count": 4,
   "metadata": {},
   "outputs": [],
   "source": [
    "# Converts string to list of floats\n",
    "def StringToListFloat(flt):\n",
    "    flt_list = list(map(float, flt.replace('\\'','').strip('][').split(', ')))\n",
    "    return flt_list"
   ]
  }
 ],
 "metadata": {
  "kernelspec": {
   "display_name": "Python 3",
   "language": "python",
   "name": "python3"
  },
  "language_info": {
   "codemirror_mode": {
    "name": "ipython",
    "version": 3
   },
   "file_extension": ".py",
   "mimetype": "text/x-python",
   "name": "python",
   "nbconvert_exporter": "python",
   "pygments_lexer": "ipython3",
   "version": "3.7.6"
  }
 },
 "nbformat": 4,
 "nbformat_minor": 4
}
