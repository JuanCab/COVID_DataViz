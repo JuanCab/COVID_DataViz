{
 "cells": [
  {
   "cell_type": "code",
   "execution_count": null,
   "metadata": {},
   "outputs": [],
   "source": [
    "import numpy as np\n",
    "import pandas as pd\n",
    "\n",
    "#import Collect_Data as origin\n",
    "\n",
    "ClayFIPS = 27027\n",
    "CassFIPS = 38017\n",
    "MNFIPS = 27\n",
    "NDFIPS = 38"
   ]
  },
  {
   "cell_type": "code",
   "execution_count": null,
   "metadata": {},
   "outputs": [],
   "source": [
    "# function reads csv retries FIPS,county,dates and driving mobility information\n",
    "def getAaplCountyMobility(countyFIPS, fileName = 'our_data/aapl_mobility_cnty.csv'):\n",
    "    \n",
    "    #reads csv file and places into variable\n",
    "    countyMobilityFile = pd.read_csv(fileName)\n",
    "    county = countyMobilityFile[countyMobilityFile['FIPS'] == countyFIPS]['county']   \n",
    "    dates = countyMobilityFile[countyMobilityFile['FIPS'] == countyFIPS]['dates']\n",
    "    driving_mobility = countyMobilityFile[countyMobilityFile['FIPS'] == countyFIPS]['driving_mobility']\n",
    "    #creates data frame for the output \n",
    "    outputFrame = pd.DataFrame({'FIPS':countyFIPS, 'state':county,\n",
    "                    'dates':dates, 'driving_mobility':driving_mobility,})\n",
    "    return outputFrame\n",
    "    \n",
    "#getAaplCountyMobility(ClayFIPS)"
   ]
  },
  {
   "cell_type": "code",
   "execution_count": null,
   "metadata": {
    "scrolled": true
   },
   "outputs": [],
   "source": [
    "# function reads csv retries FIPS,state,dates and driving mobility information\n",
    "def getAaplStateMobility(stateFIPS, fileName = 'our_data/aapl_mobility_state.csv'):\n",
    "    \n",
    "    #reads csv file and places into variable\n",
    "    stateMobilityFile = pd.read_csv(fileName)\n",
    "    states = stateMobilityFile[stateMobilityFile['FIPS'] == stateFIPS]['state']\n",
    "    dates = stateMobilityFile[stateMobilityFile['FIPS'] == stateFIPS]['dates']\n",
    "    driving_mobility = stateMobilityFile[stateMobilityFile['FIPS'] == stateFIPS]['driving_mobility']\n",
    "    \n",
    "    #creates data frame for the output \n",
    "    outputFrame = pd.DataFrame({'FIPS':stateFIPS, 'state':states,'dates':dates, 'driving_mobility':driving_mobility,})\n",
    "    #returns output for function\n",
    "    return outputFrame\n",
    "    \n",
    "#getAaplStateMobility(MNFIPS)"
   ]
  },
  {
   "cell_type": "code",
   "execution_count": null,
   "metadata": {},
   "outputs": [],
   "source": []
  },
  {
   "cell_type": "code",
   "execution_count": null,
   "metadata": {},
   "outputs": [],
   "source": []
  },
  {
   "cell_type": "code",
   "execution_count": null,
   "metadata": {},
   "outputs": [],
   "source": []
  },
  {
   "cell_type": "code",
   "execution_count": null,
   "metadata": {},
   "outputs": [],
   "source": []
  }
 ],
 "metadata": {
  "kernelspec": {
   "display_name": "Python 3",
   "language": "python",
   "name": "python3"
  },
  "language_info": {
   "codemirror_mode": {
    "name": "ipython",
    "version": 3
   },
   "file_extension": ".py",
   "mimetype": "text/x-python",
   "name": "python",
   "nbconvert_exporter": "python",
   "pygments_lexer": "ipython3",
   "version": "3.7.6"
  }
 },
 "nbformat": 4,
 "nbformat_minor": 4
}
