{
 "cells": [
  {
   "cell_type": "code",
   "execution_count": 47,
   "metadata": {},
   "outputs": [],
   "source": [
    "import numpy as np\n",
    "import pandas as pd\n",
    "\n",
    "#import Collect_Data as origin\n",
    "\n",
    "ClayFIPS = 27027\n",
    "CassFIPS = 38017\n",
    "MNFIPS = 27\n",
    "NDFIPS = 38"
   ]
  },
  {
   "cell_type": "code",
   "execution_count": 48,
   "metadata": {},
   "outputs": [],
   "source": [
    "# Gets number of confirmed cases, deaths and recoveries at the state level\n",
    "def getAaplCountyMobility(countyFIPS, fileName = 'our_data/aapl_mobility_cnty.csv'):\n",
    "    # Creates initial data frame from CSV on disk\n",
    "    countyMobilityFile = pd.read_csv(fileName)\n",
    "    \n",
    "    county = countyMobilityFile[countyMobilityFile['FIPS'] == countyFIPS]['county']\n",
    "    \n",
    "    dates = countyMobilityFile[countyMobilityFile['FIPS'] == countyFIPS]['dates']\n",
    "    driving_mobility = countyMobilityFile[countyMobilityFile['FIPS'] == countyFIPS]['driving_mobility']\n",
    "    \n",
    "    \n",
    "    outputFrame = pd.DataFrame({'FIPS':countyFIPS, 'state':county,\n",
    "                    'dates':dates, 'driving_mobility':driving_mobility,})\n",
    "    return outputFrame\n",
    "    \n",
    "#getAaplCountyMobility(ClayFIPS)"
   ]
  },
  {
   "cell_type": "code",
   "execution_count": 49,
   "metadata": {
    "scrolled": true
   },
   "outputs": [],
   "source": [
    "# Gets number of confirmed cases, deaths and recoveries at the state level\n",
    "def getAaplStateMobility(stateFIPS, fileName = 'our_data/aapl_mobility_state.csv'):\n",
    "    # Creates initial data frame from CSV on disk\n",
    "    stateMobilityFile = pd.read_csv(fileName)\n",
    "    \n",
    "    states = stateMobilityFile[stateMobilityFile['FIPS'] == stateFIPS]['state']\n",
    "    \n",
    "    dates = stateMobilityFile[stateMobilityFile['FIPS'] == stateFIPS]['dates']\n",
    "    driving_mobility = stateMobilityFile[stateMobilityFile['FIPS'] == stateFIPS]['driving_mobility']\n",
    "    \n",
    "    \n",
    "    outputFrame = pd.DataFrame({'FIPS':stateFIPS, 'state':states,\n",
    "                    'dates':dates, 'driving_mobility':driving_mobility,})\n",
    "    return outputFrame\n",
    "    \n",
    "#getAaplStateMobility(MNFIPS)"
   ]
  },
  {
   "cell_type": "code",
   "execution_count": 50,
   "metadata": {},
   "outputs": [
    {
     "data": {
      "text/html": [
       "<div>\n",
       "<style scoped>\n",
       "    .dataframe tbody tr th:only-of-type {\n",
       "        vertical-align: middle;\n",
       "    }\n",
       "\n",
       "    .dataframe tbody tr th {\n",
       "        vertical-align: top;\n",
       "    }\n",
       "\n",
       "    .dataframe thead th {\n",
       "        text-align: right;\n",
       "    }\n",
       "</style>\n",
       "<table border=\"1\" class=\"dataframe\">\n",
       "  <thead>\n",
       "    <tr style=\"text-align: right;\">\n",
       "      <th></th>\n",
       "      <th>FIPS</th>\n",
       "      <th>state</th>\n",
       "      <th>dates</th>\n",
       "      <th>driving_mobility</th>\n",
       "    </tr>\n",
       "  </thead>\n",
       "  <tbody>\n",
       "    <tr>\n",
       "      <th>1998</th>\n",
       "      <td>38017</td>\n",
       "      <td>Cass County</td>\n",
       "      <td>['2020-01-13', '2020-01-14', '2020-01-15', '20...</td>\n",
       "      <td>[100.0, 98.66, 96.48, 103.98, 84.36, 76.42, 92...</td>\n",
       "    </tr>\n",
       "  </tbody>\n",
       "</table>\n",
       "</div>"
      ],
      "text/plain": [
       "       FIPS        state                                              dates  \\\n",
       "1998  38017  Cass County  ['2020-01-13', '2020-01-14', '2020-01-15', '20...   \n",
       "\n",
       "                                       driving_mobility  \n",
       "1998  [100.0, 98.66, 96.48, 103.98, 84.36, 76.42, 92...  "
      ]
     },
     "execution_count": 50,
     "metadata": {},
     "output_type": "execute_result"
    }
   ],
   "source": []
  },
  {
   "cell_type": "code",
   "execution_count": null,
   "metadata": {},
   "outputs": [],
   "source": []
  },
  {
   "cell_type": "code",
   "execution_count": null,
   "metadata": {},
   "outputs": [],
   "source": []
  },
  {
   "cell_type": "code",
   "execution_count": null,
   "metadata": {},
   "outputs": [],
   "source": []
  }
 ],
 "metadata": {
  "kernelspec": {
   "display_name": "Python 3",
   "language": "python",
   "name": "python3"
  },
  "language_info": {
   "codemirror_mode": {
    "name": "ipython",
    "version": 3
   },
   "file_extension": ".py",
   "mimetype": "text/x-python",
   "name": "python",
   "nbconvert_exporter": "python",
   "pygments_lexer": "ipython3",
   "version": "3.7.6"
  }
 },
 "nbformat": 4,
 "nbformat_minor": 4
}
