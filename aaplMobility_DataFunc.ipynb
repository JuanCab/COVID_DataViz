{
 "cells": [
  {
   "cell_type": "code",
   "execution_count": null,
   "metadata": {},
   "outputs": [],
   "source": [
    "#imports libaries that are needed for the functions\n",
    "import pandas as pd\n",
    "# FIPS that will be important for this function\n",
    "ClayFIPS = 27027\n",
    "CassFIPS = 38017\n",
    "MNFIPS = 27\n",
    "NDFIPS = 38"
   ]
  },
  {
   "cell_type": "code",
   "execution_count": null,
   "metadata": {},
   "outputs": [],
   "source": [
    "# function reads dataFrame retrives FIPS,state,data and driving mobility Information\n",
    "def getAaplCountyMobility(countyFIPS, countyMobilityFile):\n",
    "    \n",
    "    county = countyMobilityFile[countyMobilityFile['FIPS'] == countyFIPS]['county']   \n",
    "    dates = countyMobilityFile[countyMobilityFile['FIPS'] == countyFIPS]['dates']\n",
    "    driving_mobility = countyMobilityFile[countyMobilityFile['FIPS'] == countyFIPS]['driving_mobility']\n",
    "    #creates data frame for the output \n",
    "    outputFrame = pd.DataFrame({'FIPS':countyFIPS, 'state':county,\n",
    "                    'dates':dates, 'driving_mobility':driving_mobility,})\n",
    "    return outputFrame\n",
    "#used inconjunction with initgoogMobilityDataframes()\n",
    "#getAaplCountyMobility(ClayFIPS,countyMobilityFile)"
   ]
  },
  {
   "cell_type": "code",
   "execution_count": null,
   "metadata": {
    "scrolled": true
   },
   "outputs": [],
   "source": [
    "# function reads dataFrame retrives FIPS,state,data and driving mobility Information\n",
    "def getAaplStateMobility(stateFIPS, stateMobilityFile):\n",
    "    \n",
    "\n",
    "    states = stateMobilityFile[stateMobilityFile['FIPS'] == stateFIPS]['state']\n",
    "    dates = stateMobilityFile[stateMobilityFile['FIPS'] == stateFIPS]['dates']\n",
    "    driving_mobility = stateMobilityFile[stateMobilityFile['FIPS'] == stateFIPS]['driving_mobility']\n",
    "    \n",
    "    #creates data frame for the output \n",
    "    outputFrame = pd.DataFrame({'FIPS':stateFIPS, 'state':states,'dates':dates, 'driving_mobility':driving_mobility,})\n",
    "    #returns output for function\n",
    "    return outputFrame\n",
    "\n",
    "#used inconjunction with initgoogMobilityDataframes()    \n",
    "#getAaplStateMobility(MNFIPS,stateMobilityFile)"
   ]
  }
 ],
 "metadata": {
  "kernelspec": {
   "display_name": "Python 3",
   "language": "python",
   "name": "python3"
  },
  "language_info": {
   "codemirror_mode": {
    "name": "ipython",
    "version": 3
   },
   "file_extension": ".py",
   "mimetype": "text/x-python",
   "name": "python",
   "nbconvert_exporter": "python",
   "pygments_lexer": "ipython3",
   "version": "3.7.6"
  }
 },
 "nbformat": 4,
 "nbformat_minor": 4
}
