{
 "cells": [
  {
   "cell_type": "markdown",
   "metadata": {},
   "source": [
    "# COVID Data Plotting/Visualization Examples\n",
    "\n",
    "This Notebook is mostly here to show the various plotting and visualization functions we have written into our libraries.  It could also be viewed as a way of testing the pieces we needed to develop for the Dashboard notebook.\n"
   ]
  },
  {
   "cell_type": "code",
   "execution_count": null,
   "metadata": {},
   "outputs": [],
   "source": [
    "# This forces a reload of any external library file if it changes.  \n",
    "# Useful when developing external libraries since otherwise Jupyter \n",
    "# will not re-import any library without restarting the python kernel.\n",
    "\n",
    "%load_ext autoreload\n",
    "%autoreload 2"
   ]
  },
  {
   "cell_type": "code",
   "execution_count": null,
   "metadata": {},
   "outputs": [],
   "source": [
    "import os\n",
    "import numpy as np\n",
    "import matplotlib.pyplot as plt\n",
    "import matplotlib.dates as mdates\n",
    "import matplotlib as mpl\n",
    "import ipywidgets as widgets\n",
    "\n",
    "from cycler import cycler\n",
    "import pandas as pd\n",
    "import datetime\n",
    "import time\n",
    "from IPython.core.display import display, HTML\n",
    "from COVIDlib.collectors import days_since\n",
    "\n",
    "# Import COVID IO routines from external python libraries\n",
    "import COVIDlib.data_IO as COVID_IO\n",
    "import COVIDlib.dashboard_IO as COVID_Dash\n",
    "import COVIDlib.dashboard_maps as COVID_Maps\n",
    "\n",
    "# Store the original 10 color sequence of colors used by Matplotlib by default to avoid having\n",
    "# Seaborn override it\n",
    "original_cycle = mpl.rcParams['axes.prop_cycle']\n",
    "\n",
    "# Set up nicer Seaborn style as default\n",
    "mpl.style.use('seaborn')\n",
    "mpl.rcParams['axes.prop_cycle']= original_cycle\n",
    "\n",
    "## Define variables of interest below\n",
    "data_dir = 'our_data/'    # Data directory for the COVID datafiles\n",
    "\n",
    "## Define FIPS corresponding to various local areas\n",
    "ClayFIPS = 27027\n",
    "CassFIPS = 38017\n",
    "MNFIPS = 27\n",
    "NDFIPS = 38"
   ]
  },
  {
   "cell_type": "code",
   "execution_count": null,
   "metadata": {},
   "outputs": [],
   "source": [
    "# Load all the dataframes into memory\n",
    "print(\"Loading COVID Dataset ... \", end='')\n",
    "\n",
    "start= time.perf_counter()\n",
    "# Retrieve John Hopkins dataframes and add \"rates\" of deaths/infections\n",
    "(JH_state_df, JH_cnty_df) = COVID_IO.PtoCDRDataFrames()\n",
    "\n",
    "# Construct dictionary of FIPS values by placename\n",
    "FIPSd = COVID_Dash.build_fipsdict(JH_cnty_df, JH_state_df)\n",
    "\n",
    "# Retrieve Apple Mobility Dataframe\n",
    "(aapl_cnty_df, aapl_state_df) = COVID_IO.PtoAAPLMobilityDataFrames()\n",
    "\n",
    "# Retrieve Google Mobility Dataframe\n",
    "(goog_cnty_df, goog_state_df) = COVID_IO.PtoGOOGMobilityDataFrames()\n",
    "\n",
    "# Retrieve IMHE Dataframes\n",
    "(summary_df, hospitalization_df) = COVID_IO.PtoIMHEDataFrames()\n",
    "\n",
    "# Retrieve Rt Live DataFrames\n",
    "RtLive_df = COVID_IO.PtoRtDataFrames()\n",
    "\n",
    "end= time.perf_counter()\n",
    "\n",
    "print(f\"Done ({end-start:0.2f} sec)\")"
   ]
  },
  {
   "cell_type": "markdown",
   "metadata": {},
   "source": [
    "# Extracting numerical data from the dataframes\n",
    "\n",
    "Just quickly showing how the `getLocalDataFrame()` can extract a entries for single states or counties from any of these dataframes based on the FIPS number, in this case from the Apple Mobility Dataframes for counties and states."
   ]
  },
  {
   "cell_type": "code",
   "execution_count": null,
   "metadata": {},
   "outputs": [],
   "source": [
    "#Retriving Apple county Mobility Data\n",
    "claycountyData=COVID_IO.getLocalDataFrame(ClayFIPS,aapl_cnty_df)\n",
    "casscountyData=COVID_IO.getLocalDataFrame(CassFIPS,aapl_cnty_df)\n",
    "#Retriving Apple State Mobility Data\n",
    "MNStateData =COVID_IO.getLocalDataFrame(MNFIPS,aapl_state_df)\n",
    "NDStateData =COVID_IO.getLocalDataFrame(NDFIPS,aapl_state_df)"
   ]
  },
  {
   "cell_type": "code",
   "execution_count": null,
   "metadata": {},
   "outputs": [],
   "source": [
    "print(\"-----------------------------------------------\\n 5 Most Recent Days of Clay County Apple Driving Mobility\\n-----------------------------------------------\\n\")\n",
    "applDatesCounty=(claycountyData['dates']).iloc[0][-5:]\n",
    "aaplDrivingMobility=(claycountyData['driving_mobility']).iloc[0][-5:]\n",
    "for item,datesin in zip(aaplDrivingMobility, applDatesCounty):\n",
    "    print(f\"{datesin} Driving mobility is {item}% the January 13, 2020 level\")\n",
    "    \n",
    "print(\"\\n-----------------------------------------------\\n 5 Most Recent Days of  Cass County Apple Driving Mobility\\n-----------------------------------------------\\n\")\n",
    "applDatesCass=(casscountyData['dates']).iloc[0][-5:]\n",
    "aaplDrivingMobilityCass=(casscountyData['driving_mobility']).iloc[0][-5:]\n",
    "for item,datesin in zip(aaplDrivingMobilityCass, applDatesCass):\n",
    "    print(f\"{datesin} Driving mobility is {item}% the January 13, 2020 level\")\n",
    "\n",
    "print(\"\\n-----------------------------------------------\\n Most Recent Minnesota State Apple Driving Mobility\\n-----------------------------------------------\\n\")\n",
    "applDatesMN=(MNStateData['dates']).iloc[0][-5:]\n",
    "aaplDrivingMobilityMN=(MNStateData['driving_mobility']).iloc[0][-5:]\n",
    "for item,datesin in zip(aaplDrivingMobilityMN, applDatesMN):\n",
    "    print(f\"{datesin} Driving mobility is {item}% the January 13, 2020 level\")\n",
    "\n",
    "print(\"\\n-----------------------------------------------\\n Most Recent North Dakota State Apple Driving Mobility\\n-----------------------------------------------\\n\")\n",
    "applDatesND=(NDStateData['dates']).iloc[0][-5:]\n",
    "aaplDrivingMobilityND=(NDStateData['driving_mobility']).iloc[0][-5:]\n",
    "for item,datesin in zip(aaplDrivingMobilityND, applDatesND):\n",
    "    print(f\"{datesin} Driving mobility is {item}% the January 13, 2020 level\")"
   ]
  },
  {
   "cell_type": "code",
   "execution_count": null,
   "metadata": {},
   "outputs": [],
   "source": [
    "# Quick experiment to see if we can sum up all the current Infections and Deaths in the US\n",
    "display(HTML(f'<h1>COVID-19 Information</h1>'))\n",
    "\n",
    "# Print status reports\n",
    "states = [FIPSd['United States'], MNFIPS, NDFIPS]\n",
    "COVID_Dash.html_status(JH_state_df, states, summary_df)\n",
    "# Added hospital bed summary to html_status via call to html_status_beds\n",
    "#COVID_Dash.html_status_beds(summary_df, [MNFIPS, NDFIPS])\n",
    "counties = [ClayFIPS, CassFIPS, FIPSd['Stearns (Minnesota)'], FIPSd['Olmsted (Minnesota)']]\n",
    "COVID_Dash.html_status(JH_cnty_df, counties)\n",
    "#Added the predictions not finished"
   ]
  },
  {
   "cell_type": "code",
   "execution_count": null,
   "metadata": {},
   "outputs": [],
   "source": [
    "#\n",
    "# Testing my function for plotting up time-series data (using states)\n",
    "#\n",
    "states = [FIPSd['United States']]\n",
    "\n",
    "# Set up a figure of 2 x 2 plots\n",
    "fig, axs = plt.subplots(2, 2, figsize=(15,10))\n",
    "fig.tight_layout(pad=5.0)\n",
    "\n",
    "# Axis numbers here can be viewed as [row, col]\n",
    "COVID_Dash.ts_plot(JH_state_df, 'Confirmed', states, fig=fig, ax=axs[0, 0]) # Upper Left\n",
    "COVID_Dash.ts_plot(JH_state_df, 'ConfirmedRate', states, fig=fig, ax=axs[1, 0]) # Lower Left\n",
    "COVID_Dash.ts_plot(JH_state_df, 'Deaths', states, fig=fig, ax=axs[0, 1]) # Upper Right\n",
    "COVID_Dash.ts_plot(JH_state_df, 'DeathRate', states, fig=fig, ax=axs[1, 1]) # Lower Right"
   ]
  },
  {
   "cell_type": "code",
   "execution_count": null,
   "metadata": {},
   "outputs": [],
   "source": [
    "#\n",
    "# Lets plot up the infection and death rates per day\n",
    "#\n",
    "states = [FIPSd['United States']]\n",
    "\n",
    "# Set up a figure of 2 x 2 plots\n",
    "fig, axs = plt.subplots(2, 2, figsize=(15,10))\n",
    "fig.tight_layout(pad=5.0)\n",
    "\n",
    "# Axis numbers here can be viewed as [row, col] for single row\n",
    "COVID_Dash.ts_plot(JH_state_df, 'dConfirmed', states, connectdots=True, fig=fig, ax=axs[0, 0])\n",
    "COVID_Dash.ts_plot(JH_state_df, 'dConfirmed', states, connectdots=True, running_avg=7, fig=fig, ax=axs[0, 0])\n",
    "COVID_Dash.ts_plot(JH_state_df, 'dDeaths', states, connectdots=True, fig=fig, ax=axs[0, 1])\n",
    "COVID_Dash.ts_plot(JH_state_df, 'dDeaths', states, connectdots=True, running_avg=7, fig=fig, ax=axs[0, 1])\n",
    "COVID_Dash.ts_plot(JH_state_df, 'd2Confirmed', states, connectdots=True, fig=fig, ax=axs[1, 0])\n",
    "COVID_Dash.ts_plot(JH_state_df, 'd2Confirmed', states, connectdots=True, running_avg=7, fig=fig, ax=axs[1, 0])\n",
    "COVID_Dash.ts_plot(JH_state_df, 'd2Deaths', states, connectdots=True, fig=fig, ax=axs[1, 1])\n",
    "COVID_Dash.ts_plot(JH_state_df, 'd2Deaths', states, connectdots=True, running_avg=7, fig=fig, ax=axs[1, 1])"
   ]
  },
  {
   "cell_type": "code",
   "execution_count": null,
   "metadata": {},
   "outputs": [],
   "source": [
    "# Try to make a bar graph version of the infections and deaths as well\n",
    "\n",
    "#\n",
    "# Lets plot up the infection and death rates per day\n",
    "#\n",
    "\n",
    "# Set up a figure of 1 x 2 plots\n",
    "fig, axs = plt.subplots(2, 2, figsize=(15,10))\n",
    "fig.tight_layout(pad=5.0)\n",
    "\n",
    "# Axis numbers here can be viewed as [row, col] for single row\n",
    "# COVID_Dash.ts_barplot can only handle a SINGLE FIPS number, not a list\n",
    "COVID_Dash.ts_barplot(JH_state_df, 'dConfirmed', FIPSd['United States'], running_avg=7, fig=fig, ax=axs[0, 0])\n",
    "COVID_Dash.ts_barplot(JH_state_df, 'dDeaths', FIPSd['United States'], running_avg=7, fig=fig, ax=axs[0, 1])\n",
    "COVID_Dash.ts_barplot(JH_state_df, 'dConfirmed', FIPSd['Minnesota'], running_avg=7, fig=fig, ax=axs[1, 0])\n",
    "COVID_Dash.ts_barplot(JH_state_df, 'dDeaths', FIPSd['Minnesota'], running_avg=7, fig=fig, ax=axs[1, 1])\n",
    "\n",
    "# Adjust the minimum date to be March 15 on all plots\n",
    "adjust_bounds00 = axs[0, 0].set_xlim( [datetime.date(2020, 3, 15), axs[0, 0].get_xlim()[1]])\n",
    "adjust_bounds01 = axs[0, 1].set_xlim( [datetime.date(2020, 3, 15), axs[0, 1].get_xlim()[1]])\n",
    "adjust_bounds10 = axs[1, 0].set_xlim( [datetime.date(2020, 3, 15), axs[1, 0].get_xlim()[1]])\n",
    "adjust_bounds11 = axs[1, 1].set_xlim( [datetime.date(2020, 3, 15), axs[1, 1].get_xlim()[1]])"
   ]
  },
  {
   "cell_type": "markdown",
   "metadata": {},
   "source": [
    "## Infections and Deaths for Nearby States"
   ]
  },
  {
   "cell_type": "code",
   "execution_count": null,
   "metadata": {},
   "outputs": [],
   "source": [
    "#\n",
    "# Testing my function for plotting up time-series data (using states)\n",
    "#\n",
    "states = [MNFIPS, NDFIPS, FIPSd['South Dakota'], FIPSd['Wisconsin'], FIPSd['Iowa']]\n",
    "statesNus = [MNFIPS, NDFIPS, FIPSd['South Dakota'], FIPSd['Wisconsin'], FIPSd['Iowa'], FIPSd['United States']]\n",
    "\n",
    "# Set up a figure of 2 x 2 plots\n",
    "fig, axs = plt.subplots(2, 2, figsize=(15,10))\n",
    "fig.tight_layout(pad=5.0)\n",
    "\n",
    "# Axis numbers here can be viewed as [row, col]\n",
    "COVID_Dash.ts_plot(JH_state_df, 'Confirmed', states, ylog=True, fig=fig, ax=axs[0, 0]) # Upper Left\n",
    "COVID_Dash.ts_plot(JH_state_df, 'ConfirmedRate', statesNus, fig=fig, ax=axs[1, 0]) # Lower Left\n",
    "COVID_Dash.ts_plot(JH_state_df, 'Deaths', states, ylog=True, fig=fig, ax=axs[0, 1]) # Upper Right\n",
    "COVID_Dash.ts_plot(JH_state_df, 'DeathRate', statesNus, fig=fig, ax=axs[1, 1]) # Lower Right"
   ]
  },
  {
   "cell_type": "markdown",
   "metadata": {},
   "source": [
    "## Infections and Deaths for Some Selected Counties"
   ]
  },
  {
   "cell_type": "code",
   "execution_count": null,
   "metadata": {},
   "outputs": [],
   "source": [
    "#\n",
    "# Testing my function for plotting up time-series data (using counties)\n",
    "#\n",
    "counties = [ClayFIPS, CassFIPS, FIPSd['Hennepin (Minnesota)'], FIPSd['Stearns (Minnesota)'], FIPSd['Olmsted (Minnesota)']]\n",
    "\n",
    "# Set up a figure of 2 x 2 plots\n",
    "fig, axs = plt.subplots(2, 2, figsize=(15,10))\n",
    "fig.tight_layout(pad=5.0)\n",
    "\n",
    "# Axis numbers here can be viewed as [row, col]\n",
    "COVID_Dash.ts_plot(JH_cnty_df, 'Confirmed', counties, fig=fig, ax=axs[0, 0]) # Upper Left\n",
    "COVID_Dash.ts_plot(JH_cnty_df, 'ConfirmedRate', counties, fig=fig, ax=axs[1, 0]) # Lower Left\n",
    "COVID_Dash.ts_plot(JH_cnty_df, 'Deaths', counties, fig=fig, ax=axs[0, 1]) # Upper Right\n",
    "COVID_Dash.ts_plot(JH_cnty_df, 'DeathRate', counties, fig=fig, ax=axs[1, 1]) # Lower Right\n",
    "    "
   ]
  },
  {
   "cell_type": "markdown",
   "metadata": {},
   "source": [
    "## Infections and Deaths for a Mixture of States and Counties"
   ]
  },
  {
   "cell_type": "code",
   "execution_count": null,
   "metadata": {},
   "outputs": [],
   "source": [
    "#\n",
    "# Producing a plot of 2 plots next to each other, this makes the axis argument returned by subplots a 1-D list\n",
    "# This example also shows how we can overlay state and county data when appropriate, just run the time-series function\n",
    "# on the same axis element and it will update it instead of erasing it.\n",
    "#\n",
    "states = [MNFIPS, NDFIPS, FIPSd['South Dakota'], FIPSd['Wisconsin'], FIPSd['Iowa']]\n",
    "counties = [ClayFIPS, CassFIPS, FIPSd['Hennepin (Minnesota)'], FIPSd['Stearns (Minnesota)'], FIPSd['Olmsted (Minnesota)']]\n",
    "\n",
    "# Set up a single figure\n",
    "fig, axs = plt.subplots(1, 2, figsize=(15,10))\n",
    "\n",
    "COVID_Dash.ts_plot(JH_cnty_df, 'ConfirmedRate', counties, fig=fig, ax=axs[0]) # Counties\n",
    "COVID_Dash.ts_plot(JH_state_df, 'ConfirmedRate', states, fig=fig, ax=axs[0]) # States\n",
    "COVID_Dash.ts_plot(JH_cnty_df, 'DeathRate', counties, connectdots=True, fig=fig, ax=axs[1]) # Counties\n",
    "COVID_Dash.ts_plot(JH_state_df, 'DeathRate', states, connectdots=True, fig=fig, ax=axs[1]) # States\n",
    "\n",
    "# You could execute a command like this to save the image to a file (it automatically determines file\n",
    "# format based on the suffix).  \n",
    "# plt.savefig(\"COVID_data.png\")"
   ]
  },
  {
   "cell_type": "markdown",
   "metadata": {},
   "source": [
    "## People Tested in Nearby States"
   ]
  },
  {
   "cell_type": "code",
   "execution_count": null,
   "metadata": {},
   "outputs": [],
   "source": [
    "#\n",
    "# Producing a single plot makes the axis argument returned by subplots a scalar, also using\n",
    "# logarithmic axis by adjusting the plot after the fact\n",
    "#\n",
    "states = [MNFIPS, NDFIPS, FIPSd['South Dakota'], FIPSd['Wisconsin'], FIPSd['Iowa'], FIPSd['United States']]\n",
    "\n",
    "# Set up a single figure\n",
    "fig, axs = plt.subplots(1, 1, figsize=(15,10))\n",
    "\n",
    "COVID_Dash.ts_plot(JH_state_df, 'People_Tested', states, connectdots=True, ylog=True,  fig=fig, ax=axs) # States"
   ]
  },
  {
   "cell_type": "markdown",
   "metadata": {},
   "source": [
    "## Infection and Death  Per Day"
   ]
  },
  {
   "cell_type": "code",
   "execution_count": null,
   "metadata": {},
   "outputs": [],
   "source": [
    "#\n",
    "# Lets plot up the infection and death rates per day\n",
    "#\n",
    "states = [MNFIPS, NDFIPS, FIPSd['South Dakota'], FIPSd['Wisconsin'], FIPSd['Iowa']]\n",
    "counties = [ClayFIPS, CassFIPS, FIPSd['Hennepin (Minnesota)'], FIPSd['Stearns (Minnesota)'], FIPSd['Olmsted (Minnesota)']]\n",
    "\n",
    "# Set up a figure of 2 x 2 plots\n",
    "fig, axs = plt.subplots(2, 2, figsize=(15,10))\n",
    "fig.tight_layout(pad=5.0)\n",
    "\n",
    "# Axis numbers here can be viewed as [row, col]\n",
    "COVID_Dash.ts_plot(JH_cnty_df, 'dConfirmed', counties, connectdots=True, fig=fig, ax=axs[0, 0]) # Upper Left\n",
    "COVID_Dash.ts_plot(JH_state_df, 'dConfirmed', states, connectdots=True, fig=fig, ax=axs[1, 0]) # Lower Left\n",
    "COVID_Dash.ts_plot(JH_cnty_df, 'dDeaths', counties, connectdots=True, fig=fig, ax=axs[0, 1]) # Upper Right\n",
    "COVID_Dash.ts_plot(JH_state_df, 'dDeaths', states, connectdots=True, fig=fig, ax=axs[1, 1]) # Lower Right"
   ]
  },
  {
   "cell_type": "markdown",
   "metadata": {},
   "source": [
    "## Change in Rate of Infections and Deaths Per Day for Selected Counties"
   ]
  },
  {
   "cell_type": "code",
   "execution_count": null,
   "metadata": {},
   "outputs": [],
   "source": [
    "#\n",
    "# Lets plot up the changes in those infection and death rates per day (This shows that this data likely needs to be smoothed\n",
    "# to see trends).mobiiliuty\n",
    "#\n",
    "states = [MNFIPS, NDFIPS, FIPSd['South Dakota'], FIPSd['Wisconsin'], FIPSd['Iowa']]\n",
    "counties = [ClayFIPS, CassFIPS, FIPSd['Hennepin (Minnesota)'], FIPSd['Stearns (Minnesota)'], FIPSd['Olmsted (Minnesota)']]\n",
    "\n",
    "# Set up a figure of 2 x 2 plots\n",
    "fig, axs = plt.subplots(2, 2, figsize=(15,10))\n",
    "fig.tight_layout(pad=5.0)\n",
    "\n",
    "# Axis numbers here can be viewed as [row, col]\n",
    "COVID_Dash.ts_plot(JH_cnty_df, 'd2Confirmed', counties, connectdots=True, fig=fig, ax=axs[0, 0]) # Upper Left\n",
    "COVID_Dash.ts_plot(JH_state_df, 'd2Confirmed', states, connectdots=True, fig=fig, ax=axs[1, 0]) # Lower Left\n",
    "COVID_Dash.ts_plot(JH_cnty_df, 'd2Deaths', counties, connectdots=True, fig=fig, ax=axs[0, 1]) # Upper Right\n",
    "COVID_Dash.ts_plot(JH_state_df, 'd2Deaths', states, connectdots=True, fig=fig, ax=axs[1, 1]) # Lower Right"
   ]
  },
  {
   "cell_type": "code",
   "execution_count": null,
   "metadata": {},
   "outputs": [],
   "source": [
    "#\n",
    "# Testing my function for plotting up time-series mobility data\n",
    "#\n",
    "states = [MNFIPS, NDFIPS, FIPSd['South Dakota'], FIPSd['Wisconsin'], FIPSd['Iowa']]\n",
    "counties = [ClayFIPS, CassFIPS, FIPSd['Olmsted (Minnesota)']]\n",
    "\n",
    "# Set up a figure of 2 x 2 plots\n",
    "fig, axs = plt.subplots(2, 2, figsize=(15,10))\n",
    "fig.tight_layout(pad=5.0)\n",
    "\n",
    "# Axis numbers here can be viewed as [row, col]\n",
    "COVID_Dash.ts_plot(aapl_cnty_df, 'driving_mobility_Percent', counties, connectdots=True, fig=fig, ax=axs[0, 0])\n",
    "COVID_Dash.ts_plot(aapl_state_df, 'driving_mobility_Percent', states, connectdots=True, fig=fig, ax=axs[0, 1]) \n",
    "COVID_Dash.ts_plot(aapl_cnty_df, 'driving_mobility_Percent', counties, running_avg=7, connectdots=True, fig=fig, ax=axs[1, 0])\n",
    "COVID_Dash.ts_plot(aapl_state_df, 'driving_mobility_Percent', states, running_avg=7, connectdots=True, fig=fig, ax=axs[1, 1]) "
   ]
  },
  {
   "cell_type": "code",
   "execution_count": null,
   "metadata": {},
   "outputs": [],
   "source": [
    "#\n",
    "# Again, testing my function for plotting up time-series mobility data \n",
    "# (this time using running averages to smooth the data).\n",
    "#\n",
    "states = [MNFIPS, NDFIPS, FIPSd['South Dakota'], FIPSd['Wisconsin'], FIPSd['Iowa']]\n",
    "counties = [ClayFIPS, CassFIPS, FIPSd['Olmsted (Minnesota)']]\n",
    "\n",
    "# Set up a figure of 6 x 2 plots\n",
    "fig, axs = plt.subplots(6, 2, figsize=(15,30))\n",
    "fig.tight_layout(pad=5.0)\n",
    "\n",
    "# Axis numbers here can be viewed as [row, col] \n",
    "COVID_Dash.ts_plot(goog_cnty_df, 'workplace_Percent', counties, running_avg=7, fig=fig, ax=axs[0,0])\n",
    "COVID_Dash.ts_plot(goog_state_df, 'workplace_Percent', states, running_avg=7, fig=fig, ax=axs[1, 0]) \n",
    "COVID_Dash.ts_plot(goog_cnty_df, 'residential_Percent', counties, running_avg=7, fig=fig, ax=axs[0, 1])\n",
    "COVID_Dash.ts_plot(goog_state_df, 'residential_Percent', states, running_avg=7, fig=fig, ax=axs[1, 1]) \n",
    "COVID_Dash.ts_plot(goog_cnty_df, 'retail_recreation_Percent', counties, running_avg=7, fig=fig, ax=axs[2, 0])\n",
    "COVID_Dash.ts_plot(goog_state_df, 'retail_recreation_Percent', states, running_avg=7, fig=fig, ax=axs[2, 1]) \n",
    "COVID_Dash.ts_plot(goog_cnty_df, 'grocery_pharm_Percent', counties, running_avg=7, fig=fig, ax=axs[3, 0])\n",
    "COVID_Dash.ts_plot(goog_state_df, 'grocery_pharm_Percent', states, running_avg=7, fig=fig, ax=axs[3, 1]) \n",
    "COVID_Dash.ts_plot(goog_cnty_df, 'parks_Percent', counties, running_avg=7, fig=fig, ax=axs[4, 0])\n",
    "COVID_Dash.ts_plot(goog_state_df, 'parks_Percent', states, running_avg=7, fig=fig, ax=axs[4, 1]) \n",
    "COVID_Dash.ts_plot(goog_cnty_df, 'transit_stations_Percent', counties, running_avg=7, fig=fig, ax=axs[5, 0])\n",
    "COVID_Dash.ts_plot(goog_state_df, 'transit_stations_Percent', states, running_avg=7, fig=fig, ax=axs[5, 1]) "
   ]
  },
  {
   "cell_type": "markdown",
   "metadata": {},
   "source": [
    "## Hospitaliziation Data Current Values & Predictions"
   ]
  },
  {
   "cell_type": "code",
   "execution_count": null,
   "metadata": {},
   "outputs": [],
   "source": [
    "fig, axs = plt.subplots(2, 2, figsize=(15,10))\n",
    "fig.tight_layout(pad=5.0)\n",
    "\n",
    "# Axis numbers here can be viewed as [row, col]\n",
    "COVID_Dash.ts_plot_Hos(hospitalization_df, 'allbed_mean', states, fig=fig, ax=axs[0, 0]) # Upper Left\n",
    "COVID_Dash.ts_plot_Hos(hospitalization_df, 'InvVen_mean', states, fig=fig, ax=axs[1, 0]) # Lower Left\n",
    "COVID_Dash.ts_plot_Hos(hospitalization_df, 'ICUbed_mean', states, fig=fig, ax=axs[0, 1]) # Upper Right\n",
    "COVID_Dash.ts_plot_Hos(hospitalization_df, 'admis_mean', states, fig=fig, ax=axs[1, 1]) # Lower Right"
   ]
  },
  {
   "cell_type": "markdown",
   "metadata": {},
   "source": [
    "## Implementing Maps using iPyLeaflet \n",
    "\n",
    "***WARNING and hint for developers***: Because of the way updating overlays works in ipyleaflet, if you generate two different state maps using `update_us_statesmap()` or two different county maps using `build_us_cntymap()` in the same notebook, the overlays (which we use to display tooltips of current parameter values as you hover over locations) will interfere with one another. If you examine the source code, you are welcome to write a custom plotting and overlay updating functions by copying our functions and changing the overlay variable name, making sure it is global and unique for each separate map you want to display, so the updating functions don't collide"
   ]
  },
  {
   "cell_type": "code",
   "execution_count": null,
   "metadata": {},
   "outputs": [],
   "source": [
    "# Pick the data column to plot\n",
    "colname = 'dConfirmedRate'\n",
    "\n",
    "# Plot the US Map with State-level data\n",
    "test_map, test_legend, test_overlay = COVID_Maps.build_us_statesmap(JH_state_df, colname)\n",
    "\n",
    "display(test_map)"
   ]
  },
  {
   "cell_type": "code",
   "execution_count": null,
   "metadata": {},
   "outputs": [],
   "source": [
    "# This command can be used to update an existing state-level map but we need to pass it the map, legend, and overlay \n",
    "# (tooltip) objects to update\n",
    "COVID_Maps.update_us_statesmap(JH_state_df, 'dDeathsRate', test_map, test_legend, test_overlay)"
   ]
  },
  {
   "cell_type": "code",
   "execution_count": null,
   "metadata": {},
   "outputs": [],
   "source": [
    "# Pick the data column to plot\n",
    "colname = 'dConfirmedRate'\n",
    "\n",
    "# Plot the US Map with State-level data\n",
    "test_map2, test_legend2, test_overlay2 = COVID_Maps.build_us_cntymap(JH_cnty_df, colname)\n",
    "\n",
    "display(test_map2)"
   ]
  },
  {
   "cell_type": "code",
   "execution_count": null,
   "metadata": {},
   "outputs": [],
   "source": [
    "# To make updates work properly, we have to pass the map, legend, and overlay objects we want to modify\n",
    "COVID_Maps.update_us_cntymap(JH_cnty_df, 'dDeathsRate', test_map2, test_legend2, test_overlay2)"
   ]
  },
  {
   "cell_type": "code",
   "execution_count": null,
   "metadata": {},
   "outputs": [],
   "source": [
    "# We can even replace a existing county map with a state-level map, we just update using the state\n",
    "# update routine pointed at the county-level map. (uncomment the last line in this cell to try.  However, right now, \n",
    "# you can't have two state-level maps in the same notebook without the overlayed tooltips interfering.)\n",
    "# COVID_Maps.update_us_statesmap(JH_state_df, 'dDeathsRate', test_map2, test_legend2, test_overlay2)"
   ]
  },
  {
   "cell_type": "markdown",
   "metadata": {},
   "source": [
    "# Plot $R_t$ (Effective Reproduction Rate) as a function of time\n",
    "\n",
    "$R_t$ is an estimate of the number of new people each infected person infects."
   ]
  },
  {
   "cell_type": "code",
   "execution_count": null,
   "metadata": {},
   "outputs": [],
   "source": [
    "#\n",
    "# Testing my function for plotting up time-series R_t data\n",
    "#\n",
    "states = [MNFIPS, NDFIPS, FIPSd['South Dakota'], FIPSd['Wisconsin'], FIPSd['Iowa']]\n",
    "\n",
    "# Set up a single plot\n",
    "COVID_Dash.ts_plot_Rt(RtLive_df, states, connectdots=True)"
   ]
  },
  {
   "cell_type": "code",
   "execution_count": null,
   "metadata": {},
   "outputs": [],
   "source": []
  }
 ],
 "metadata": {
  "jupytext": {
   "encoding": "# -*- coding: utf-8 -*-"
  },
  "kernelspec": {
   "display_name": "Python 3",
   "language": "python",
   "name": "python3"
  },
  "language_info": {
   "codemirror_mode": {
    "name": "ipython",
    "version": 3
   },
   "file_extension": ".py",
   "mimetype": "text/x-python",
   "name": "python",
   "nbconvert_exporter": "python",
   "pygments_lexer": "ipython3",
   "version": "3.8.3"
  }
 },
 "nbformat": 4,
 "nbformat_minor": 4
}
