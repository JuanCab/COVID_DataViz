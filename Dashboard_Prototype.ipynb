{
 "cells": [
  {
   "cell_type": "markdown",
   "metadata": {},
   "source": [
    "# (Prototype) COVID Dashboard\n",
    "\n",
    "This is a prototype COVID Dashboard for testing text and graphical display of COVID-related data"
   ]
  },
  {
   "cell_type": "code",
   "execution_count": 11,
   "metadata": {},
   "outputs": [
    {
     "name": "stdout",
     "output_type": "stream",
     "text": [
      "The autoreload extension is already loaded. To reload it, use:\n",
      "  %reload_ext autoreload\n"
     ]
    }
   ],
   "source": [
    "# This forces a reload of any external library file if it changes.  \n",
    "# Useful when developing external libraries since otherwise Jupyter \n",
    "# will not re-import any library without restarting the python kernel.\n",
    "\n",
    "%load_ext autoreload\n",
    "%autoreload 2"
   ]
  },
  {
   "cell_type": "code",
   "execution_count": 12,
   "metadata": {},
   "outputs": [],
   "source": [
    "import os\n",
    "import numpy as np\n",
    "import matplotlib.pyplot as plt\n",
    "import matplotlib.dates as mdates\n",
    "import pandas as pd\n",
    "import datetime\n",
    "import time\n",
    "\n",
    "# Import COVID data IO routines from external python library\n",
    "import COVIDlib.data_IO as COVID_IO\n",
    "\n",
    "## Define variables of interest below\n",
    "data_dir = 'our_data/'    # Data directory for the COVID datafiles\n",
    "\n",
    "## Define FIPS corresponding to various local areas\n",
    "ClayFIPS = 27027\n",
    "CassFIPS = 38017\n",
    "MNFIPS = 27\n",
    "NDFIPS = 38"
   ]
  },
  {
   "cell_type": "code",
   "execution_count": 13,
   "metadata": {
    "lines_to_next_cell": 2
   },
   "outputs": [
    {
     "name": "stdout",
     "output_type": "stream",
     "text": [
      "Loading Complete COVID Dataset into memory from CSV files ... Done (16.81 sec)\n"
     ]
    }
   ],
   "source": [
    "# Load all the dataframes into memory\n",
    "print(\"Loading Complete COVID Dataset into memory from CSV files ... \", end='')\n",
    "\n",
    "start= time.perf_counter()\n",
    "# Retrieve John Hopkins dataframes\n",
    "(JH_state_df, JH_cnty_df) = COVID_IO.CSVtoCDRDataFrames()\n",
    "# Retrieve Apple Mobility Dataframe\n",
    "(aapl_cnty_df, aapl_state_df) = COVID_IO.CSVtoAAPLMobilityDataFrames()\n",
    "# Retrieve Google Mobility Dataframe\n",
    "(goog_cnty_df, goog_state_df) = COVID_IO.CSVtoGOOGMobilityDataFrames()\n",
    "# Retrieve IMHE Dataframes\n",
    "(summary_df, hospitalization_df) = COVID_IO.CSVtoIMHEDataFrames()\n",
    "end= time.perf_counter()\n",
    "\n",
    "print(f\"Done ({end-start:0.2f} sec)\")"
   ]
  },
  {
   "cell_type": "code",
   "execution_count": 14,
   "metadata": {},
   "outputs": [
    {
     "name": "stdout",
     "output_type": "stream",
     "text": [
      "Loading Complete COVID Dataset into memory from Pickle files ... "
     ]
    },
    {
     "ename": "NameError",
     "evalue": "name 'pickle' is not defined",
     "output_type": "error",
     "traceback": [
      "\u001b[0;31m---------------------------------------------------------------------------\u001b[0m",
      "\u001b[0;31mNameError\u001b[0m                                 Traceback (most recent call last)",
      "\u001b[0;32m<ipython-input-14-c922871ecb7d>\u001b[0m in \u001b[0;36m<module>\u001b[0;34m\u001b[0m\n\u001b[1;32m      4\u001b[0m \u001b[0mstart\u001b[0m\u001b[0;34m=\u001b[0m \u001b[0mtime\u001b[0m\u001b[0;34m.\u001b[0m\u001b[0mperf_counter\u001b[0m\u001b[0;34m(\u001b[0m\u001b[0;34m)\u001b[0m\u001b[0;34m\u001b[0m\u001b[0;34m\u001b[0m\u001b[0m\n\u001b[1;32m      5\u001b[0m \u001b[0;31m# Retrieve John Hopkins dataframes\u001b[0m\u001b[0;34m\u001b[0m\u001b[0;34m\u001b[0m\u001b[0;34m\u001b[0m\u001b[0m\n\u001b[0;32m----> 6\u001b[0;31m \u001b[0;34m(\u001b[0m\u001b[0mJH_state_df\u001b[0m\u001b[0;34m,\u001b[0m \u001b[0mJH_cnty_df\u001b[0m\u001b[0;34m)\u001b[0m \u001b[0;34m=\u001b[0m \u001b[0mCOVID_IO\u001b[0m\u001b[0;34m.\u001b[0m\u001b[0mPtoCDRDataFrames\u001b[0m\u001b[0;34m(\u001b[0m\u001b[0;34m)\u001b[0m\u001b[0;34m\u001b[0m\u001b[0;34m\u001b[0m\u001b[0m\n\u001b[0m\u001b[1;32m      7\u001b[0m \u001b[0;31m# Retrieve Apple Mobility Dataframe\u001b[0m\u001b[0;34m\u001b[0m\u001b[0;34m\u001b[0m\u001b[0;34m\u001b[0m\u001b[0m\n\u001b[1;32m      8\u001b[0m \u001b[0;34m(\u001b[0m\u001b[0maapl_cnty_df\u001b[0m\u001b[0;34m,\u001b[0m \u001b[0maapl_state_df\u001b[0m\u001b[0;34m)\u001b[0m \u001b[0;34m=\u001b[0m \u001b[0mCOVID_IO\u001b[0m\u001b[0;34m.\u001b[0m\u001b[0mPtoAAPLMobilityDataFrames\u001b[0m\u001b[0;34m(\u001b[0m\u001b[0;34m)\u001b[0m\u001b[0;34m\u001b[0m\u001b[0;34m\u001b[0m\u001b[0m\n",
      "\u001b[0;32m~/Documents/Teaching/2006- MSUM/2020-21/Professional Development/CSIS 340 (Software Engineering)/Group Project/COVID_DataViz/COVIDlib/data_IO.py\u001b[0m in \u001b[0;36mPtoCDRDataFrames\u001b[0;34m(stateFile, countyFile)\u001b[0m\n\u001b[1;32m    155\u001b[0m     \u001b[0;31m# Import pickle files and convert appropriate columns\u001b[0m\u001b[0;34m\u001b[0m\u001b[0;34m\u001b[0m\u001b[0;34m\u001b[0m\u001b[0m\n\u001b[1;32m    156\u001b[0m     \u001b[0mpickle_file\u001b[0m \u001b[0;34m=\u001b[0m \u001b[0mopen\u001b[0m\u001b[0;34m(\u001b[0m\u001b[0mcountyFile\u001b[0m\u001b[0;34m,\u001b[0m\u001b[0;34m'rb'\u001b[0m\u001b[0;34m)\u001b[0m\u001b[0;34m\u001b[0m\u001b[0;34m\u001b[0m\u001b[0m\n\u001b[0;32m--> 157\u001b[0;31m     \u001b[0mcountyDataFrame\u001b[0m \u001b[0;34m=\u001b[0m \u001b[0mpickle\u001b[0m\u001b[0;34m.\u001b[0m\u001b[0mload\u001b[0m\u001b[0;34m(\u001b[0m\u001b[0mpickle_file\u001b[0m\u001b[0;34m)\u001b[0m\u001b[0;34m\u001b[0m\u001b[0;34m\u001b[0m\u001b[0m\n\u001b[0m\u001b[1;32m    158\u001b[0m     \u001b[0mpickle_file\u001b[0m\u001b[0;34m.\u001b[0m\u001b[0mclose\u001b[0m\u001b[0;34m(\u001b[0m\u001b[0;34m)\u001b[0m\u001b[0;34m\u001b[0m\u001b[0;34m\u001b[0m\u001b[0m\n\u001b[1;32m    159\u001b[0m \u001b[0;34m\u001b[0m\u001b[0m\n",
      "\u001b[0;31mNameError\u001b[0m: name 'pickle' is not defined"
     ]
    }
   ],
   "source": [
    "# Load all the dataframes into memory\n",
    "print(\"Loading Complete COVID Dataset into memory from Pickle files ... \", end='')\n",
    "\n",
    "start= time.perf_counter()\n",
    "# Retrieve John Hopkins dataframes\n",
    "(JH_state_df, JH_cnty_df) = COVID_IO.PtoCDRDataFrames()\n",
    "# Retrieve Apple Mobility Dataframe\n",
    "(aapl_cnty_df, aapl_state_df) = COVID_IO.PtoAAPLMobilityDataFrames()\n",
    "# Retrieve Google Mobility Dataframe\n",
    "(goog_cnty_df, goog_state_df) = COVID_IO.PtoGOOGMobilityDataFrames()\n",
    "# Retrieve IMHE Dataframes\n",
    "(summary_df, hospitalization_df) = COVID_IO.PtoIMHEDataFrames()\n",
    "end= time.perf_counter()\n",
    "\n",
    "print(f\"Done ({end-start:0.2f} sec)\")"
   ]
  },
  {
   "cell_type": "code",
   "execution_count": 10,
   "metadata": {},
   "outputs": [
    {
     "name": "stdout",
     "output_type": "stream",
     "text": [
      "Building local datasets ... Done (0.03 sec)\n"
     ]
    }
   ],
   "source": [
    "# Narrow data down to local subsets\n",
    "print(\"Building local datasets ... \", end='')\n",
    "\n",
    "start= time.perf_counter()\n",
    "# Build local dataframes for John Hopkins Data\n",
    "MN_CDR_df = COVID_IO.getLocalDataFrame(MNFIPS, JH_state_df)\n",
    "ND_CDR_df = COVID_IO.getLocalDataFrame(NDFIPS, JH_state_df)\n",
    "CLAY_CDR_df = COVID_IO.getLocalDataFrame(ClayFIPS, JH_cnty_df)\n",
    "CASS_CDR_df = COVID_IO.getLocalDataFrame(CassFIPS, JH_cnty_df)\n",
    "\n",
    "# Build local dataframes of mobility data\n",
    "CLAY_aapl_df = COVID_IO.getLocalDataFrame(ClayFIPS, aapl_cnty_df)\n",
    "CASS_aapl_df = COVID_IO.getLocalDataFrame(CassFIPS, aapl_cnty_df)\n",
    "MN_aapl_df = COVID_IO.getLocalDataFrame(MNFIPS, aapl_state_df)\n",
    "ND_aapl_df = COVID_IO.getLocalDataFrame(NDFIPS, aapl_state_df)\n",
    "CLAY_goog_df = COVID_IO.getLocalDataFrame(ClayFIPS, goog_cnty_df)\n",
    "CASS_goog_df = COVID_IO.getLocalDataFrame(CassFIPS, goog_cnty_df)\n",
    "MN_goog_df = COVID_IO.getLocalDataFrame(MNFIPS, goog_state_df)\n",
    "ND_goog_df = COVID_IO.getLocalDataFrame(NDFIPS, goog_state_df)\n",
    "\n",
    "# Build local dataframes/variables of IMHE data\n",
    "MN_equip_df = COVID_IO.getLocalDataFrame(MNFIPS, summary_df)\n",
    "MN_icu_beds = COVID_IO.GetNumICUBeds(MNFIPS, summary_df)\n",
    "MN_all_beds = COVID_IO.GetNumAllBeds(MNFIPS, summary_df)\n",
    "MN_icu_usage = COVID_IO.GetICUBedUsage(MNFIPS, summary_df)\n",
    "MN_allbed_usage = COVID_IO.GetAllBedUsage(MNFIPS, summary_df)\n",
    "MN_hospital_df = COVID_IO.getLocalDataFrame(MNFIPS, hospitalization_df)\n",
    "ND_equip_df = COVID_IO.getLocalDataFrame(NDFIPS, summary_df)\n",
    "ND_icu_beds = COVID_IO.GetNumICUBeds(NDFIPS, summary_df)\n",
    "ND_all_beds = COVID_IO.GetNumAllBeds(NDFIPS, summary_df)\n",
    "ND_icu_usage = COVID_IO.GetICUBedUsage(NDFIPS, summary_df)\n",
    "ND_allbed_usage = COVID_IO.GetAllBedUsage(NDFIPS, summary_df)\n",
    "ND_hospital_df = COVID_IO.getLocalDataFrame(NDFIPS, hospitalization_df)\n",
    "\n",
    "end= time.perf_counter()\n",
    "\n",
    "print(f\"Done ({end-start:0.2f} sec)\")"
   ]
  },
  {
   "cell_type": "code",
   "execution_count": null,
   "metadata": {},
   "outputs": [],
   "source": []
  }
 ],
 "metadata": {
  "jupytext": {
   "encoding": "# -*- coding: utf-8 -*-"
  },
  "kernelspec": {
   "display_name": "Python 3",
   "language": "python",
   "name": "python3"
  },
  "language_info": {
   "codemirror_mode": {
    "name": "ipython",
    "version": 3
   },
   "file_extension": ".py",
   "mimetype": "text/x-python",
   "name": "python",
   "nbconvert_exporter": "python",
   "pygments_lexer": "ipython3",
   "version": "3.7.6"
  }
 },
 "nbformat": 4,
 "nbformat_minor": 4
}
