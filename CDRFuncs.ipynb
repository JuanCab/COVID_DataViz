{
 "cells": [
  {
   "cell_type": "code",
   "execution_count": 1,
   "metadata": {},
   "outputs": [],
   "source": [
    "import numpy as np\n",
    "import pandas as pd\n",
    "\n",
    "#import Collect_Data as origin\n",
    "\n",
    "ClayFIPS = 27027\n",
    "CassFIPS = 38017\n",
    "MNFIPS = 27\n",
    "NDFIPS = 38"
   ]
  },
  {
   "cell_type": "code",
   "execution_count": 2,
   "metadata": {},
   "outputs": [],
   "source": [
    "# This function creates the data frames which are used in the functions below\n",
    "\n",
    "def GetCDRDataFrames(stateFile = 'our_data/statelevel_combinedCDR.csv', countyFile = 'our_data/countylevel_combinedCDR.csv'):\n",
    "    \n",
    "    stateDataFrame = pd.read_csv(stateFile)\n",
    "    countyDataFrame = pd.read_csv(countyFile)\n",
    "    \n",
    "    return stateDataFrame, countyDataFrame\n",
    "\n",
    "# stateDF, countyDF = GetCDRDataFrames()\n",
    "# stateDF"
   ]
  },
  {
   "cell_type": "code",
   "execution_count": 3,
   "metadata": {},
   "outputs": [],
   "source": [
    "# Note: This function requires calling the GetCDRDataFrames first; this uses the first data frame returned\n",
    "\n",
    "# Gets number of confirmed cases, deaths and recoveries at the state level\n",
    "def GetCDRState(stateFIPS, stateDataFrame):\n",
    "    \n",
    "    state = stateDataFrame[stateDataFrame['FIPS'] == stateFIPS]['State']\n",
    "    \n",
    "    confirmed = stateDataFrame[stateDataFrame['FIPS'] == stateFIPS]['Confirmed']\n",
    "    deaths = stateDataFrame[stateDataFrame['FIPS'] == stateFIPS]['Deaths']\n",
    "    recovered = stateDataFrame[stateDataFrame['FIPS'] == stateFIPS]['Recovered']\n",
    "    \n",
    "    dConfirmed = stateDataFrame[stateDataFrame['FIPS'] == stateFIPS]['dConfirmed']\n",
    "    d2Confirmed = stateDataFrame[stateDataFrame['FIPS'] == stateFIPS]['d2Confirmed']\n",
    "    dDeaths = stateDataFrame[stateDataFrame['FIPS'] == stateFIPS]['dDeaths'] \n",
    "    d2Deaths = stateDataFrame[stateDataFrame['FIPS'] == stateFIPS]['d2Deaths']\n",
    "    \n",
    "    outDF = pd.DataFrame({'FIPS':stateFIPS, 'state':state,\n",
    "                    'Confirmed':confirmed, 'Deaths':deaths,\n",
    "                    'Recovered':recovered, 'dConfirmed':dConfirmed,\n",
    "                    'd2Confirmed':d2Confirmed, 'dDeaths':dDeaths,\n",
    "                    'd2Deaths':d2Deaths})\n",
    "    return outDF\n",
    "    \n",
    "# GetCDRState(MNFIPS, stateDF)\n"
   ]
  },
  {
   "cell_type": "code",
   "execution_count": 4,
   "metadata": {},
   "outputs": [],
   "source": [
    "# Note: This function requires calling the GetCDRDataFrames first; this uses the second data frame returned\n",
    "\n",
    "# Gets number of confirmed cases, deaths and recoveries at the state level\n",
    "def GetCDRCounty(countyFIPS, countyDataFrame):\n",
    "    \n",
    "    county = countyDataFrame[countyDataFrame['FIPS'] == countyFIPS]['County']\n",
    "    \n",
    "    confirmed = countyDataFrame[countyDataFrame['FIPS'] == countyFIPS]['Confirmed']\n",
    "    deaths = countyDataFrame[countyDataFrame['FIPS'] == countyFIPS]['Deaths']\n",
    "    recovered = countyDataFrame[countyDataFrame['FIPS'] == countyFIPS]['Recovered']\n",
    "    \n",
    "    dConfirmed = countyDataFrame[countyDataFrame['FIPS'] == countyFIPS]['dConfirmed']\n",
    "    d2Confirmed = countyDataFrame[countyDataFrame['FIPS'] == countyFIPS]['d2Confirmed']\n",
    "    dDeaths = countyDataFrame[countyDataFrame['FIPS'] == countyFIPS]['dDeaths'] \n",
    "    d2Deaths = countyDataFrame[countyDataFrame['FIPS'] == countyFIPS]['d2Deaths']\n",
    "    \n",
    "    outDF = pd.DataFrame({'FIPS':countyFIPS, 'County':county,\n",
    "                    'Confirmed':confirmed, 'Deaths':deaths,\n",
    "                    'Recovered':recovered, 'dConfirmed':dConfirmed,\n",
    "                    'd2Confirmed':d2Confirmed, 'dDeaths':dDeaths,\n",
    "                    'd2Deaths':d2Deaths})\n",
    "    return outDF\n",
    "# GetCDRCounty(CassFIPS, countyDF)"
   ]
  },
  {
   "cell_type": "code",
   "execution_count": null,
   "metadata": {},
   "outputs": [],
   "source": []
  }
 ],
 "metadata": {
  "kernelspec": {
   "display_name": "Python 3",
   "language": "python",
   "name": "python3"
  },
  "language_info": {
   "codemirror_mode": {
    "name": "ipython",
    "version": 3
   },
   "file_extension": ".py",
   "mimetype": "text/x-python",
   "name": "python",
   "nbconvert_exporter": "python",
   "pygments_lexer": "ipython3",
   "version": "3.7.6"
  }
 },
 "nbformat": 4,
 "nbformat_minor": 4
}
