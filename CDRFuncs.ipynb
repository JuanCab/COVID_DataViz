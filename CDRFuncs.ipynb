{
 "cells": [
  {
   "cell_type": "code",
   "execution_count": 1,
   "metadata": {},
   "outputs": [],
   "source": [
    "import numpy as np\n",
    "import pandas as pd\n",
    "\n",
    "#import Collect_Data as origin\n",
    "\n",
    "ClayFIPS = 27027\n",
    "CassFIPS = 38017\n",
    "MNFIPS = 27\n",
    "NDFIPS = 38"
   ]
  },
  {
   "cell_type": "code",
   "execution_count": 2,
   "metadata": {},
   "outputs": [],
   "source": [
    "# Gets number of confirmed cases, deaths and recoveries at the state level\n",
    "def GetCDRState(stateFIPS, fileName = 'our_data/statelevel_combinedCDR.csv'):\n",
    "    # Creates initial data frame from CSV on disk\n",
    "    cdr_local_data = pd.read_csv(fileName)\n",
    "    \n",
    "    state = cdr_local_data[cdr_local_data['FIPS'] == stateFIPS]['State']\n",
    "    \n",
    "    confirmed = cdr_local_data[cdr_local_data['FIPS'] == stateFIPS]['Confirmed']\n",
    "    deaths = cdr_local_data[cdr_local_data['FIPS'] == stateFIPS]['Deaths']\n",
    "    recovered = cdr_local_data[cdr_local_data['FIPS'] == stateFIPS]['Recovered']\n",
    "    \n",
    "    dConfirmed = cdr_local_data[cdr_local_data['FIPS'] == stateFIPS]['dConfirmed']\n",
    "    d2Confirmed = cdr_local_data[cdr_local_data['FIPS'] == stateFIPS]['d2Confirmed']\n",
    "    dDeaths = cdr_local_data[cdr_local_data['FIPS'] == stateFIPS]['dDeaths'] \n",
    "    d2Deaths = cdr_local_data[cdr_local_data['FIPS'] == stateFIPS]['d2Deaths']\n",
    "    \n",
    "    outDF = pd.DataFrame({'FIPS':stateFIPS, 'state':state,\n",
    "                    'Confirmed':confirmed, 'Deaths':deaths,\n",
    "                    'Recovered':recovered, 'dConfirmed':dConfirmed,\n",
    "                    'd2Confirmed':d2Confirmed, 'dDeaths':dDeaths,\n",
    "                    'd2Deaths':d2Deaths})\n",
    "    return outDF\n",
    "    \n",
    "#GetCDRState(MNFIPS)\n"
   ]
  },
  {
   "cell_type": "code",
   "execution_count": 3,
   "metadata": {},
   "outputs": [],
   "source": [
    "# Gets number of confirmed cases, deaths and recoveries at the state level\n",
    "def GetCDRCounty(countyFIPS, fileName = 'our_data/countylevel_combinedCDR.csv'):\n",
    "    # Creates initial data frame from CSV on disk\n",
    "    cdr_local_data = pd.read_csv(fileName)\n",
    "    \n",
    "    county = cdr_local_data[cdr_local_data['FIPS'] == countyFIPS]['County']\n",
    "    \n",
    "    confirmed = cdr_local_data[cdr_local_data['FIPS'] == countyFIPS]['Confirmed']\n",
    "    deaths = cdr_local_data[cdr_local_data['FIPS'] == countyFIPS]['Deaths']\n",
    "    recovered = cdr_local_data[cdr_local_data['FIPS'] == countyFIPS]['Recovered']\n",
    "    \n",
    "    dConfirmed = cdr_local_data[cdr_local_data['FIPS'] == countyFIPS]['dConfirmed']\n",
    "    d2Confirmed = cdr_local_data[cdr_local_data['FIPS'] == countyFIPS]['d2Confirmed']\n",
    "    dDeaths = cdr_local_data[cdr_local_data['FIPS'] == countyFIPS]['dDeaths'] \n",
    "    d2Deaths = cdr_local_data[cdr_local_data['FIPS'] == countyFIPS]['d2Deaths']\n",
    "    \n",
    "    outDF = pd.DataFrame({'FIPS':countyFIPS, 'County':county,\n",
    "                    'Confirmed':confirmed, 'Deaths':deaths,\n",
    "                    'Recovered':recovered, 'dConfirmed':dConfirmed,\n",
    "                    'd2Confirmed':d2Confirmed, 'dDeaths':dDeaths,\n",
    "                    'd2Deaths':d2Deaths})\n",
    "    return outDF\n",
    "#GetCDRCounty(CassFIPS)"
   ]
  },
  {
   "cell_type": "code",
   "execution_count": null,
   "metadata": {},
   "outputs": [],
   "source": []
  }
 ],
 "metadata": {
  "kernelspec": {
   "display_name": "Python 3",
   "language": "python",
   "name": "python3"
  },
  "language_info": {
   "codemirror_mode": {
    "name": "ipython",
    "version": 3
   },
   "file_extension": ".py",
   "mimetype": "text/x-python",
   "name": "python",
   "nbconvert_exporter": "python",
   "pygments_lexer": "ipython3",
   "version": "3.7.6"
  }
 },
 "nbformat": 4,
 "nbformat_minor": 4
}
