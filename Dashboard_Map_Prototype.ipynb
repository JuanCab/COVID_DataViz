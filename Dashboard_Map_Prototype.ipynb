{
 "cells": [
  {
   "cell_type": "markdown",
   "metadata": {},
   "source": [
    "# (Prototype) COVID Dashboard Map\n",
    "\n",
    "This is a prototype COVID Dashboard for testing displaying COVID data on maps (initially testing using the folium library)."
   ]
  },
  {
   "cell_type": "code",
   "execution_count": 2,
   "metadata": {},
   "outputs": [],
   "source": [
    "# This forces a reload of any external library file if it changes.  \n",
    "# Useful when developing external libraries since otherwise Jupyter \n",
    "# will not re-import any library without restarting the python kernel.\n",
    "\n",
    "%load_ext autoreload\n",
    "%autoreload 2"
   ]
  },
  {
   "cell_type": "code",
   "execution_count": 3,
   "metadata": {},
   "outputs": [],
   "source": [
    "import os\n",
    "import pandas as pd\n",
    "import numpy as np\n",
    "import ipywidgets as widgets\n",
    "\n",
    "# Import COVID IO routines from external python libraries\n",
    "import COVIDlib.data_IO as COVID_IO\n",
    "import COVIDlib.dashboard_IO as COVID_Dash\n",
    "import COVIDlib.dashboard_maps as COVID_Maps\n",
    "\n",
    "## Define variables of interest below\n",
    "data_dir = 'our_data/'    # Data directory for the COVID datafiles"
   ]
  },
  {
   "cell_type": "code",
   "execution_count": 4,
   "metadata": {},
   "outputs": [],
   "source": [
    "# Load all the dataframes into memory\n",
    "\n",
    "# Retrieve John Hopkins dataframes and add \"rates\" of deaths/infections\n",
    "(JH_state_df, JH_cnty_df) = COVID_IO.PtoCDRDataFrames()\n",
    "JH_state_df = COVID_Dash.cleanJHdata(JH_state_df)\n",
    "JH_cnty_df = COVID_Dash.cleanJHdata(JH_cnty_df)\n",
    "\n",
    "# Construct dictionary of FIPS values by placename\n",
    "FIPSd = COVID_Dash.build_fipsdict(JH_cnty_df, JH_state_df)\n",
    "\n",
    "# Retrieve Apple Mobility Dataframes\n",
    "(aapl_cnty_df, aapl_state_df) = COVID_IO.PtoAAPLMobilityDataFrames()\n",
    "COVID_Dash.cleanAAPLdata(aapl_cnty_df)\n",
    "COVID_Dash.cleanAAPLdata(aapl_state_df)\n",
    "# Retrieve Google Mobility Dataframes\n",
    "(goog_cnty_df, goog_state_df) = COVID_IO.PtoGOOGMobilityDataFrames()\n",
    "# Load mobility variable descriptions\n",
    "mobilityVarDict = COVID_Dash.BuildMobilityVarDict()\n",
    "\n",
    "# Retrieve IMHE Dataframes\n",
    "(summary_df, hospitalization_df) = COVID_IO.PtoIMHEDataFrames()\n",
    "IMHEVarDict = COVID_Dash.BuildIMHEHospitalizationVarDict()"
   ]
  },
  {
   "cell_type": "markdown",
   "metadata": {},
   "source": [
    "## Implementing Maps using iPyLeaflet "
   ]
  },
  {
   "cell_type": "code",
   "execution_count": 5,
   "metadata": {},
   "outputs": [],
   "source": [
    "# ipyleaflet map testing below\n",
    "# The reason for using ipyleaflet is that it directly supports widgets\n",
    "# Luke's to do: get JSON data to work, add choropleth"
   ]
  },
  {
   "cell_type": "code",
   "execution_count": 6,
   "metadata": {},
   "outputs": [
    {
     "data": {
      "application/vnd.jupyter.widget-view+json": {
       "model_id": "c019d2f327174926a89e75cc237195ef",
       "version_major": 2,
       "version_minor": 0
      },
      "text/plain": [
       "Map(center=[38.0, -93.0], controls=(ZoomControl(options=['position', 'zoom_in_text', 'zoom_in_title', 'zoom_ou…"
      ]
     },
     "metadata": {},
     "output_type": "display_data"
    }
   ],
   "source": [
    "# Pick the data column to plot\n",
    "colname = 'dConfirmedRate'\n",
    "\n",
    "# Plot the US Map with State-level data\n",
    "test_map = COVID_Maps.build_us_statesmap(JH_state_df, colname)\n",
    "\n",
    "display(test_map)"
   ]
  },
  {
   "cell_type": "code",
   "execution_count": 7,
   "metadata": {},
   "outputs": [],
   "source": [
    "# Example of contents of state GEOJSON data structure (WHICH DOES WORK)\n",
    "# {'type': 'FeatureCollection',\n",
    "#  'features': [{'type': 'Feature',\n",
    "#    'id': 'AL',\n",
    "#    'properties': {'name': 'Alabama'},\n",
    "#    'geometry': {'type': 'Polygon',\n",
    "#     'coordinates': [[[-87.359296, 35.00118],\n",
    "#       [-85.606675, 34.984749],\n",
    "#       [-85.431413, 34.124869],\n",
    "#       [-85.184951, 32.859696],\n",
    "#       [-85.069935, 32.580372],\n",
    "#       [-84.960397, 32.421541],\n",
    "\n",
    "# Example of the 2018 US Census Bureau derived county boundaries (WHICH DOESN'T WORK WITHOUT MODIFICATION)\n",
    "# {'type': 'FeatureCollection',\n",
    "#  'name': 'cb_2018_us_county_20m',\n",
    "#  'crs': {'type': 'name', 'properties': {'name': 'urn:ogc:def:crs:EPSG::4269'}},\n",
    "#  'features': [{'type': 'Feature',\n",
    "#    'properties': {'STATEFP': '37',\n",
    "#     'COUNTYFP': '017',\n",
    "#     'COUNTYNS': '01026336',\n",
    "#     'AFFGEOID': '0500000US37017',\n",
    "#     'GEOID': '37017',\n",
    "#     'NAME': 'Bladen',\n",
    "#     'LSAD': '06',\n",
    "#     'ALAND': 2265887723,\n",
    "#     'AWATER': 33010866},\n",
    "#    'geometry': {'type': 'Polygon',\n",
    "#     'coordinates': [[[-78.901998, 34.835268],\n",
    "#       [-78.799597, 34.850857],\n",
    "#       [-78.516123, 34.845919],\n",
    "#       [-78.494705, 34.856182],\n",
    "#       [-78.390748, 34.749463],\n",
    "#       [-78.391978, 34.741265],\n",
    "#       [-78.374363, 34.700722],\n",
    "#       [-78.254441, 34.553595],\n",
    "#       [-78.255468, 34.508614],\n",
    "\n",
    "# I confirmed if I just loop through the list of dictionaries in 'features' and create an 'id' entry equal to the \n",
    "# 'GEOID' of that entry's 'properties' we can get plotting to work."
   ]
  },
  {
   "cell_type": "code",
   "execution_count": 20,
   "metadata": {},
   "outputs": [
    {
     "data": {
      "application/vnd.jupyter.widget-view+json": {
       "model_id": "ad7c41401fbf41409e52ec2eec66aaee",
       "version_major": 2,
       "version_minor": 0
      },
      "text/plain": [
       "Map(center=[38.0, -93.0], controls=(ZoomControl(options=['position', 'zoom_in_text', 'zoom_in_title', 'zoom_ou…"
      ]
     },
     "metadata": {},
     "output_type": "display_data"
    }
   ],
   "source": [
    "# Pick the data column to plot\n",
    "colname = 'dConfirmedRate'\n",
    "\n",
    "# Plot the US Map with State-level data\n",
    "test_map2 = COVID_Maps.build_us_cntymap(JH_cnty_df, colname)\n",
    "\n",
    "display(test_map2)"
   ]
  },
  {
   "cell_type": "code",
   "execution_count": 18,
   "metadata": {},
   "outputs": [
    {
     "data": {
      "text/plain": [
       "Index(['FIPS', 'county', 'state', 'Lat', 'Long_', 'dates', 'Confirmed',\n",
       "       'Deaths', 'Recovered', 'dConfirmed', 'd2Confirmed', 'dDeaths',\n",
       "       'd2Deaths', 'PopEst2019', 'PopChg2019', 'postal', 'ConfirmedRate',\n",
       "       'DeathRate', 'dConfirmedRate', 'dDeathsRate', 'd2ConfirmedRate',\n",
       "       'd2DeathsRate', 'Active'],\n",
       "      dtype='object')"
      ]
     },
     "execution_count": 18,
     "metadata": {},
     "output_type": "execute_result"
    }
   ],
   "source": [
    "JH_cnty_df.columns"
   ]
  },
  {
   "cell_type": "code",
   "execution_count": 21,
   "metadata": {},
   "outputs": [],
   "source": [
    "# Still can't update the map above properly... the legend gets mangled and the overlay and \n",
    "# actual map disappears, sigh\n",
    "COVID_Maps.update_us_cntymap(JH_cnty_df, 'Deaths', test_map2)"
   ]
  },
  {
   "cell_type": "code",
   "execution_count": null,
   "metadata": {},
   "outputs": [],
   "source": []
  }
 ],
 "metadata": {
  "jupytext": {
   "encoding": "# -*- coding: utf-8 -*-"
  },
  "kernelspec": {
   "display_name": "Python 3",
   "language": "python",
   "name": "python3"
  },
  "language_info": {
   "codemirror_mode": {
    "name": "ipython",
    "version": 3
   },
   "file_extension": ".py",
   "mimetype": "text/x-python",
   "name": "python",
   "nbconvert_exporter": "python",
   "pygments_lexer": "ipython3",
   "version": "3.8.3"
  }
 },
 "nbformat": 4,
 "nbformat_minor": 4
}
