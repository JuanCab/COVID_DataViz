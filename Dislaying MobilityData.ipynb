{
 "cells": [
  {
   "cell_type": "code",
   "execution_count": 168,
   "metadata": {},
   "outputs": [],
   "source": [
    "#imports libaries that are needed for the functions\n",
    "import numpy as np\n",
    "import pandas as pd\n",
    "import COVIDlib.data_IO as io\n",
    "from datetime import datetime \n",
    "## Define FIPS corresponding to various local areas\n",
    "ClayFIPS = 27027\n",
    "CassFIPS = 38017\n",
    "MNFIPS = 27\n",
    "NDFIPS = 38"
   ]
  },
  {
   "cell_type": "code",
   "execution_count": 169,
   "metadata": {},
   "outputs": [],
   "source": [
    "#Retriving Country and State frame from Apple\n",
    "countyFrame,stateFrame = io.PtoAAPLMobilityDataFrames()\n",
    "#Retriving Country and State Frame from Google \n",
    "googCntyFrame,googStateFrame=io.PtoGOOGMobilityDataFrames()"
   ]
  },
  {
   "cell_type": "code",
   "execution_count": 170,
   "metadata": {},
   "outputs": [],
   "source": [
    "#Retriving Apple county Mobility Data\n",
    "countyData=io.getLocalDataFrame(ClayFIPS,countyFrame)\n",
    "classcountyData=io.getLocalDataFrame(CassFIPS,countyFrame)\n",
    "#Retriving Apple State Mobility Data\n",
    "MNStateData =io.getLocalDataFrame(MNFIPS,stateFrame)\n",
    "NDStateData =io.getLocalDataFrame(NDFIPS,stateFrame)\n",
    "#Retriving Google county Mobility Data\n",
    "clayGoogData  = io.getLocalDataFrame(ClayFIPS,googCntyFrame)\n",
    "classGoogData = io.getLocalDataFrame(CassFIPS,googCntyFrame)\n",
    "#Retriving Google State Mobility Data\n",
    "mnGoogData=io.getLocalDataFrame(MNFIPS,googStateFrame)\n",
    "ndGoogData=io.getLocalDataFrame(NDFIPS,googStateFrame)"
   ]
  },
  {
   "cell_type": "markdown",
   "metadata": {},
   "source": [
    "# This is the code for Apple Mobility in counties"
   ]
  },
  {
   "cell_type": "code",
   "execution_count": 171,
   "metadata": {},
   "outputs": [
    {
     "name": "stdout",
     "output_type": "stream",
     "text": [
      "-----------------------------------------------\n",
      " Most Recent Clay County Apple Driving Mobility\n",
      "-----------------------------------------------\n",
      "\n",
      "Change in Driving mobility: 182.58 Dates: 2020-06-05\n",
      "Change in Driving mobility: 146.41 Dates: 2020-06-06\n",
      "Change in Driving mobility: 121.09 Dates: 2020-06-07\n",
      "Change in Driving mobility: 143.9 Dates: 2020-06-08\n",
      "Change in Driving mobility: 134.69 Dates: 2020-06-09\n"
     ]
    }
   ],
   "source": [
    "print(\"-----------------------------------------------\\n Most Recent Clay County Apple Driving Mobility\\n-----------------------------------------------\\n\")\n",
    "applDatesCounty=(countyData['dates']).iloc[0][-5:]\n",
    "aaplDrivingMobility=(countyData['driving_mobility']).iloc[0][-5:]\n",
    "\n",
    "for item,datesin in zip(aaplDrivingMobility,applDatesCounty):\n",
    "    print(\"Change in Driving mobility:\",item, \"Dates:\",datesin)"
   ]
  },
  {
   "cell_type": "code",
   "execution_count": 172,
   "metadata": {},
   "outputs": [
    {
     "name": "stdout",
     "output_type": "stream",
     "text": [
      "-----------------------------------------------\n",
      " Most Recent Class County Apple Driving Mobility\n",
      "-----------------------------------------------\n",
      "\n",
      "Change in Driving mobility: 2020-06-05 Dates: 171.16\n",
      "Change in Driving mobility: 2020-06-06 Dates: 139.32\n",
      "Change in Driving mobility: 2020-06-07 Dates: 112.76\n",
      "Change in Driving mobility: 2020-06-08 Dates: 158.97\n",
      "Change in Driving mobility: 2020-06-09 Dates: 146.91\n"
     ]
    }
   ],
   "source": [
    "print(\"-----------------------------------------------\\n Most Recent Class County Apple Driving Mobility\\n-----------------------------------------------\\n\")\n",
    "applDatesClass=(classcountyData['dates']).iloc[0][-5:]\n",
    "aaplDrivingMobilityClass=(classcountyData['driving_mobility']).iloc[0][-5:]\n",
    "for item,datesin in zip(applDatesClass,aaplDrivingMobilityClass):\n",
    "    print(\"Change in Driving mobility:\",item, \"Dates:\",datesin)"
   ]
  },
  {
   "cell_type": "code",
   "execution_count": 173,
   "metadata": {},
   "outputs": [
    {
     "name": "stdout",
     "output_type": "stream",
     "text": [
      "-----------------------------------------------\n",
      " Most Recent Minnesota State Apple Driving Mobility\n",
      "-----------------------------------------------\n",
      "\n",
      "Change in Driving mobility: 152.77 Dates: 2020-06-05\n",
      "Change in Driving mobility: 131.69 Dates: 2020-06-06\n",
      "Change in Driving mobility: 114.7 Dates: 2020-06-07\n",
      "Change in Driving mobility: 129.75 Dates: 2020-06-08\n",
      "Change in Driving mobility: 121.81 Dates: 2020-06-09\n"
     ]
    }
   ],
   "source": [
    "print(\"-----------------------------------------------\\n Most Recent Minnesota State Apple Driving Mobility\\n-----------------------------------------------\\n\")\n",
    "applDatesMN=(MNStateData['dates']).iloc[0][-5:]\n",
    "aaplDrivingMobilityMN=(MNStateData['driving_mobility']).iloc[0][-5:]\n",
    "for item,datesin in zip(aaplDrivingMobilityMN,applDatesMN):\n",
    "    print(\"Change in Driving mobility:\",item, \"Dates:\",datesin)"
   ]
  },
  {
   "cell_type": "code",
   "execution_count": 174,
   "metadata": {},
   "outputs": [
    {
     "name": "stdout",
     "output_type": "stream",
     "text": [
      "-----------------------------------------------\n",
      " Most Recent North Dakota State Apple Driving Mobility\n",
      "-----------------------------------------------\n",
      "\n",
      "Change in Driving mobility: 180.24 Dates: 2020-06-05\n",
      "Change in Driving mobility: 149.65 Dates: 2020-06-06\n",
      "Change in Driving mobility: 129.75 Dates: 2020-06-07\n",
      "Change in Driving mobility: 153.31 Dates: 2020-06-08\n",
      "Change in Driving mobility: 152.33 Dates: 2020-06-09\n"
     ]
    }
   ],
   "source": [
    "print(\"-----------------------------------------------\\n Most Recent North Dakota State Apple Driving Mobility\\n-----------------------------------------------\\n\")\n",
    "applDatesND=(NDStateData['dates']).iloc[0][-5:]\n",
    "aaplDrivingMobilityND=(NDStateData['driving_mobility']).iloc[0][-5:]\n",
    "for item,datesin in zip(aaplDrivingMobilityND,applDatesND):\n",
    "    print(\"Change in Driving mobility:\",item, \"Dates:\",datesin)"
   ]
  },
  {
   "cell_type": "markdown",
   "metadata": {},
   "source": [
    "# This code displaying google Mobility Data"
   ]
  },
  {
   "cell_type": "code",
   "execution_count": 175,
   "metadata": {},
   "outputs": [
    {
     "name": "stdout",
     "output_type": "stream",
     "text": [
      "-----------------------------------------------\n",
      " Most Recent Clay County Google Driving Mobility\n",
      "-----------------------------------------------\n",
      "\n",
      "dates: 2020-06-03 retail_rec:   4.0 Grocery_Pharm: 20.0 Park: nan Transit_Stations: nan Residental:  9.0 Workplace: -33.0\n",
      "dates: 2020-06-04 retail_rec:  -6.0 Grocery_Pharm: 16.0 Park: nan Transit_Stations: nan Residental: 10.0 Workplace: -33.0\n",
      "dates: 2020-06-05 retail_rec: -12.0 Grocery_Pharm: 16.0 Park: nan Transit_Stations: nan Residental:  8.0 Workplace: -31.0\n",
      "dates: 2020-06-06 retail_rec: -18.0 Grocery_Pharm:  8.0 Park: nan Transit_Stations: nan Residental:  nan Workplace: -11.0\n",
      "dates: 2020-06-07 retail_rec:  -6.0 Grocery_Pharm:  7.0 Park: nan Transit_Stations: nan Residental:  nan Workplace: -19.0\n"
     ]
    }
   ],
   "source": [
    "print(\"-----------------------------------------------\\n Most Recent Clay County Google Driving Mobility\\n-----------------------------------------------\\n\")\n",
    "clayDatesGoogle=(clayGoogData['dates']).iloc[0][-5:]\n",
    "clayRet_rec=(clayGoogData['retail_recreation_Percent']).iloc[0][-5:]\n",
    "clayGroc_Pharm=(clayGoogData['grocery_pharm_Percent']).iloc[0][-5:]\n",
    "clayParks=(clayGoogData['parks_Percent']).iloc[0][-5:]\n",
    "clayTransit_station=(clayGoogData['transit_stations_Percent']).iloc[0][-5:]\n",
    "clayResidential=(clayGoogData['residential_Percent']).iloc[0][-5:]\n",
    "clayWork =(clayGoogData['workplace_Percent']).iloc[0][-5:]\n",
    "for date,rec,groc,park,transit,resident,work in zip(clayDatesGoogle,clayRet_rec,clayGroc_Pharm,clayParks,clayTransit_station,clayResidential,clayWork):\n",
    "    print(\"dates: {:} retail_rec: {:>5} Grocery_Pharm: {:>4} Park: {} Transit_Stations: {} Residental: {:>4} Workplace: {}\".format(date,rec,groc,park,transit,resident,work))"
   ]
  },
  {
   "cell_type": "code",
   "execution_count": 176,
   "metadata": {},
   "outputs": [
    {
     "name": "stdout",
     "output_type": "stream",
     "text": [
      "-----------------------------------------------\n",
      " Most Recent Class County Google Driving Mobility\n",
      "-----------------------------------------------\n",
      "\n",
      "dates: 2020-06-03 retail_rec:  -3.0 Grocery_Pharm:   3.0 Park: nan Transit_Stations:   4.0 Residental:  9.0 Workplace: -32.0\n",
      "dates: 2020-06-04 retail_rec:  -5.0 Grocery_Pharm:  -1.0 Park: nan Transit_Stations:  -3.0 Residental: 10.0 Workplace: -31.0\n",
      "dates: 2020-06-05 retail_rec: -16.0 Grocery_Pharm:  -4.0 Park: nan Transit_Stations:   7.0 Residental:  8.0 Workplace: -30.0\n",
      "dates: 2020-06-06 retail_rec: -29.0 Grocery_Pharm: -10.0 Park: nan Transit_Stations: -10.0 Residental:  nan Workplace:  -8.0\n",
      "dates: 2020-06-07 retail_rec: -18.0 Grocery_Pharm:  -9.0 Park: nan Transit_Stations: -16.0 Residental:  nan Workplace: -11.0\n"
     ]
    }
   ],
   "source": [
    "print(\"-----------------------------------------------\\n Most Recent Class County Google Driving Mobility\\n-----------------------------------------------\\n\")\n",
    "classDatesGoogle=(classGoogData['dates']).iloc[0][-5:]\n",
    "classRet_rec=(classGoogData['retail_recreation_Percent']).iloc[0][-5:]\n",
    "classGroc_Pharm=(classGoogData['grocery_pharm_Percent']).iloc[0][-5:]\n",
    "classParks=(classGoogData['parks_Percent']).iloc[0][-5:]\n",
    "classTransit_station=(classGoogData['transit_stations_Percent']).iloc[0][-5:]\n",
    "classResidential=(classGoogData['residential_Percent']).iloc[0][-5:]\n",
    "classWork =(classGoogData['workplace_Percent']).iloc[0][-5:]\n",
    "for date,rec,groc,park,transit,resident,work in zip(classDatesGoogle,classRet_rec,classGroc_Pharm,classParks,classTransit_station,clayResidential,classWork):\n",
    "    print(\"dates: {:} retail_rec: {:>5} Grocery_Pharm: {:>5} Park: {} Transit_Stations: {:>5} Residental: {:>4} Workplace: {:>5}\".format(date,rec,groc,park,transit,resident,work))"
   ]
  },
  {
   "cell_type": "code",
   "execution_count": 177,
   "metadata": {},
   "outputs": [
    {
     "name": "stdout",
     "output_type": "stream",
     "text": [
      "-----------------------------------------------\n",
      " Most Recent Minnesota State Google Driving Mobility\n",
      "-----------------------------------------------\n",
      "\n",
      "dates: 2020-06-03 retail_rec: -10.0 Grocery_Pharm:  12.0 Park: 165.0 Transit_Stations: -43.0 Residental: 13.0 Workplace: -39.0\n",
      "dates: 2020-06-04 retail_rec: -15.0 Grocery_Pharm:  10.0 Park: 145.0 Transit_Stations: -43.0 Residental: 13.0 Workplace: -39.0\n",
      "dates: 2020-06-05 retail_rec: -17.0 Grocery_Pharm:  10.0 Park: 172.0 Transit_Stations: -41.0 Residental: 12.0 Workplace: -39.0\n",
      "dates: 2020-06-06 retail_rec: -26.0 Grocery_Pharm:   6.0 Park: 132.0 Transit_Stations: -37.0 Residental:  5.0 Workplace: -11.0\n",
      "dates: 2020-06-07 retail_rec: -16.0 Grocery_Pharm:   8.0 Park: 189.0 Transit_Stations: -40.0 Residental:  2.0 Workplace: -14.0\n"
     ]
    }
   ],
   "source": [
    "print(\"-----------------------------------------------\\n Most Recent Minnesota State Google Driving Mobility\\n-----------------------------------------------\\n\")\n",
    "MNDatesGoogle=(mnGoogData['dates']).iloc[0][-5:]\n",
    "MNRet_rec=(mnGoogData['retail_recreation_Percent']).iloc[0][-5:]\n",
    "MNGroc_Pharm=(mnGoogData['grocery_pharm_Percent']).iloc[0][-5:]\n",
    "MNParks=(mnGoogData['parks_Percent']).iloc[0][-5:]\n",
    "MNTransit_station=(mnGoogData['transit_stations_Percent']).iloc[0][-5:]\n",
    "MNResidential=(mnGoogData['residential_Percent']).iloc[0][-5:]\n",
    "MNWork =(mnGoogData['workplace_Percent']).iloc[0][-5:]\n",
    "for date,rec,groc,park,transit,resident,work in zip(MNDatesGoogle,MNRet_rec,MNGroc_Pharm,MNParks,MNTransit_station,MNResidential,MNWork):\n",
    "    print(\"dates: {:} retail_rec: {:>5} Grocery_Pharm: {:>5} Park: {} Transit_Stations: {:>5} Residental: {:>4} Workplace: {:>5}\".format(date,rec,groc,park,transit,resident,work))"
   ]
  },
  {
   "cell_type": "code",
   "execution_count": 179,
   "metadata": {},
   "outputs": [
    {
     "name": "stdout",
     "output_type": "stream",
     "text": [
      "-----------------------------------------------\n",
      " Most Recent North Dakota State Google Driving Mobility\n",
      "-----------------------------------------------\n",
      "\n",
      "dates: 2020-06-03 retail_rec:  2.0 Grocery_Pharm: 8.0 Park:   nan Transit_Stations:  -2.0 Residental:  6.0 Workplace: -25.0\n",
      "dates: 2020-06-04 retail_rec:  1.0 Grocery_Pharm: 7.0 Park: 161.0 Transit_Stations:  -5.0 Residental:  7.0 Workplace: -25.0\n",
      "dates: 2020-06-05 retail_rec: -7.0 Grocery_Pharm: 4.0 Park: 205.0 Transit_Stations:  -1.0 Residental:  6.0 Workplace: -25.0\n",
      "dates: 2020-06-06 retail_rec:-17.0 Grocery_Pharm: 0.0 Park: 113.0 Transit_Stations: -13.0 Residental:  4.0 Workplace:  -7.0\n",
      "dates: 2020-06-07 retail_rec: -4.0 Grocery_Pharm: 6.0 Park: 209.0 Transit_Stations: -12.0 Residental:  0.0 Workplace:  -9.0\n"
     ]
    }
   ],
   "source": [
    "print(\"-----------------------------------------------\\n Most Recent North Dakota State Google Driving Mobility\\n-----------------------------------------------\\n\")\n",
    "NDDatesGoogle=(ndGoogData['dates']).iloc[0][-5:]\n",
    "NDRet_rec=(ndGoogData['retail_recreation_Percent']).iloc[0][-5:]\n",
    "NDGroc_Pharm=(ndGoogData['grocery_pharm_Percent']).iloc[0][-5:]\n",
    "NDParks=(ndGoogData['parks_Percent']).iloc[0][-5:]\n",
    "NDTransit_station=(ndGoogData['transit_stations_Percent']).iloc[0][-5:]\n",
    "NDResidential=(ndGoogData['residential_Percent']).iloc[0][-5:]\n",
    "NDWork =(ndGoogData['workplace_Percent']).iloc[0][-5:]\n",
    "for date,rec,groc,park,transit,resident,work in zip(NDDatesGoogle,NDRet_rec,NDGroc_Pharm,NDParks,NDTransit_station,NDResidential,NDWork):\n",
    "    print(\"dates: {:} retail_rec:{:>5} Grocery_Pharm:{:>4} Park: {:>5} Transit_Stations:{:>6} Residental: {:>4} Workplace: {:>5}\".format(date,rec,groc,park,transit,resident,work))"
   ]
  },
  {
   "cell_type": "code",
   "execution_count": null,
   "metadata": {},
   "outputs": [],
   "source": []
  }
 ],
 "metadata": {
  "kernelspec": {
   "display_name": "Python 3",
   "language": "python",
   "name": "python3"
  },
  "language_info": {
   "codemirror_mode": {
    "name": "ipython",
    "version": 3
   },
   "file_extension": ".py",
   "mimetype": "text/x-python",
   "name": "python",
   "nbconvert_exporter": "python",
   "pygments_lexer": "ipython3",
   "version": "3.7.6"
  }
 },
 "nbformat": 4,
 "nbformat_minor": 4
}
