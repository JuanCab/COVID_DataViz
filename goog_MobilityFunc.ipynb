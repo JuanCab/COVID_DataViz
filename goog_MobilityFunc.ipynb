{
 "cells": [
  {
   "cell_type": "code",
   "execution_count": null,
   "metadata": {},
   "outputs": [],
   "source": [
    "#imports libaries that are needed for the functions\n",
    "import numpy as np\n",
    "import pandas as pd\n",
    "# FIPS that will be important for this function\n",
    "ClayFIPS = 27027\n",
    "CassFIPS = 38017\n",
    "MNFIPS = 27\n",
    "NDFIPS = 38"
   ]
  },
  {
   "cell_type": "code",
   "execution_count": null,
   "metadata": {},
   "outputs": [],
   "source": [
    "# function dataFrame retries FIPS,county,dates and driving mobility information\n",
    "def getGoogleCountyMobility(countyFIPS,countyMobilityFile):\n",
    "    #dataframe is being used from another function\n",
    "    county = countyMobilityFile[countyMobilityFile['FIPS'] == countyFIPS]['county']   \n",
    "    dates = countyMobilityFile[countyMobilityFile['FIPS'] == countyFIPS]['dates']\n",
    "    #All of the percentages are changes from the baseline\n",
    "    retail_recreation_Percent = countyMobilityFile[countyMobilityFile['FIPS'] == countyFIPS]['retail_and_recreation_percent_change_from_baseline']\n",
    "    grocery_pharm_Percent = countyMobilityFile[countyMobilityFile['FIPS'] == countyFIPS]['grocery_and_pharmacy_percent_change_from_baseline']\n",
    "    parks_Percent = countyMobilityFile[countyMobilityFile['FIPS'] == countyFIPS]['parks_percent_change_from_baseline']\n",
    "    transit_stations_percent = countyMobilityFile[countyMobilityFile['FIPS'] == countyFIPS]['transit_stations_percent_change_from_baseline']\n",
    "    residential_percent = countyMobilityFile[countyMobilityFile['FIPS'] == countyFIPS]['workplaces_percent_change_from_baseline']\n",
    "    workplace_percent = countyMobilityFile[countyMobilityFile['FIPS'] == countyFIPS]['residential_percent_change_from_baseline']\n",
    "    \n",
    "    \n",
    "    outputFrame = pd.DataFrame({'FIPS':countyFIPS, 'county':county,\n",
    "                    'dates':dates, 'retail_recreation_Percent':retail_recreation_Percent,\n",
    "                               'grocery_pharm_Percent':grocery_pharm_Percent,'parks_Percent':parks_Percent,\n",
    "                               'transit_stations_percent':transit_stations_percent,'residential_percent':residential_percent,\n",
    "                               'workplace_percent':workplace_percent})\n",
    "    return outputFrame\n",
    "#used inconjunction with initgoogMobilityDataframes()   \n",
    "#getGoogleCountyMobility(ClayFIPS,countyMobilityFile)"
   ]
  },
  {
   "cell_type": "code",
   "execution_count": null,
   "metadata": {},
   "outputs": [],
   "source": [
    "# function dataframe retries FIPS,county,dates and driving mobility information\n",
    "def getGoogleStateMobility(stateFIPS, stateMobilityFile):\n",
    "    #dataframe is being used from another function\n",
    "    State = countyMobilityFile[countyMobilityFile['FIPS'] == stateFIPS]['state']   \n",
    "    dates = countyMobilityFile[countyMobilityFile['FIPS'] == stateFIPS]['dates']\n",
    "    #All of the percentages are changes from the baseline\n",
    "    retail_recreation_Percent = countyMobilityFile[countyMobilityFile['FIPS'] == stateFIPS]['retail_and_recreation_percent_change_from_baseline']\n",
    "    grocery_pharm_Percent = countyMobilityFile[countyMobilityFile['FIPS'] == stateFIPS]['grocery_and_pharmacy_percent_change_from_baseline']\n",
    "    parks_Percent = countyMobilityFile[countyMobilityFile['FIPS'] == stateFIPS]['parks_percent_change_from_baseline']\n",
    "    transit_stations_percent = countyMobilityFile[countyMobilityFile['FIPS'] == stateFIPS]['transit_stations_percent_change_from_baseline']\n",
    "    residential_percent = countyMobilityFile[countyMobilityFile['FIPS'] == stateFIPS]['workplaces_percent_change_from_baseline']\n",
    "    workplace_percent = countyMobilityFile[countyMobilityFile['FIPS'] == stateFIPS]['residential_percent_change_from_baseline']\n",
    "    \n",
    "    \n",
    "    outputFrame = pd.DataFrame({'FIPS':stateFIPS, 'State':State,\n",
    "                    'dates':dates, 'retail_recreation_Percent':retail_recreation_Percent,\n",
    "                               'grocery_pharm_Percent':grocery_pharm_Percent,'parks_Percent':parks_Percent,\n",
    "                               'transit_stations_percent':transit_stations_percent,'residential_percent':residential_percent,\n",
    "                               'workplace_percent':workplace_percent})\n",
    "    return outputFrame\n",
    "\n",
    "#used inconjunction with initgoogMobilityDataframes()   \n",
    "#getGoogleStateMobility(MNFIPS,stateMobilityFile)"
   ]
  }
 ],
 "metadata": {
  "kernelspec": {
   "display_name": "Python 3",
   "language": "python",
   "name": "python3"
  },
  "language_info": {
   "codemirror_mode": {
    "name": "ipython",
    "version": 3
   },
   "file_extension": ".py",
   "mimetype": "text/x-python",
   "name": "python",
   "nbconvert_exporter": "python",
   "pygments_lexer": "ipython3",
   "version": "3.7.6"
  }
 },
 "nbformat": 4,
 "nbformat_minor": 4
}
