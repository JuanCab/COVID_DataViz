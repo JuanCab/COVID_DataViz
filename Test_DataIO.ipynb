{
 "cells": [
  {
   "cell_type": "markdown",
   "metadata": {},
   "source": [
    "# Test DataIO Python Library routines\n",
    "\n",
    "This Jupyter notebook can be used to test the recently written dataIO python functions, which have been collected into the data_IO library."
   ]
  },
  {
   "cell_type": "code",
   "execution_count": 131,
   "metadata": {},
   "outputs": [
    {
     "name": "stdout",
     "output_type": "stream",
     "text": [
      "The autoreload extension is already loaded. To reload it, use:\n",
      "  %reload_ext autoreload\n"
     ]
    }
   ],
   "source": [
    "# This forces a reload of any external library file if it changes.  \n",
    "# Useful when developing external libraries since otherwise Jupyter \n",
    "# will not re-import any library without restarting the python kernel.\n",
    "\n",
    "%load_ext autoreload\n",
    "%autoreload 2"
   ]
  },
  {
   "cell_type": "code",
   "execution_count": 132,
   "metadata": {},
   "outputs": [],
   "source": [
    "import os\n",
    "import numpy as np\n",
    "import matplotlib.pyplot as plt\n",
    "import matplotlib.dates as mdates\n",
    "import pandas as pd\n",
    "import datetime\n",
    "\n",
    "# Import COVID data IO routines from external python library\n",
    "import COVIDlib.data_IO as COVID_IO\n",
    "\n",
    "## Define variables of interest below\n",
    "data_dir = 'our_data/'    # Data directory for the COVID datafiles\n",
    "test_dir = 'test_data/'   # Data directory for storing test datafiles\n",
    "\n",
    "## Define FIPS corresponding to various local areas\n",
    "ClayFIPS = 27027\n",
    "CassFIPS = 38017\n",
    "MNFIPS = 27\n",
    "NDFIPS = 38"
   ]
  },
  {
   "cell_type": "markdown",
   "metadata": {},
   "source": [
    "# Test John Hopkins DataIO\n",
    "\n",
    "Execute and test the John Hopkins DataIO routines first authored by Luke"
   ]
  },
  {
   "cell_type": "code",
   "execution_count": 3,
   "metadata": {
    "lines_to_next_cell": 2
   },
   "outputs": [],
   "source": [
    "## \n",
    "## Retrieve the John Hopkins data\n",
    "##\n",
    "\n",
    "# Retrieve John Hopkins dataframes\n",
    "(JH_state_df, JH_cnty_df) = COVID_IO.GetCDRDataFrames()\n",
    "# Retrieve State-Level data for Minnesota\n",
    "MN_df = COVID_IO.GetCDRState(MNFIPS, JH_state_df)\n",
    "# Retrieve County-level data for Clay County\n",
    "CLAY_df = COVID_IO.GetCDRCounty(ClayFIPS, JH_cnty_df)\n",
    "\n",
    "# Retrieve Test John Hopkins dataframes\n",
    "test_cntyfile = test_dir+\"TEST_countylevel_combinedCDR.csv\"\n",
    "test_statefile = test_dir+\"TEST_statelevel_combinedCDR.csv\"\n",
    "(testJH_state_df, testJH_cnty_df) = COVID_IO.GetCDRDataFrames(stateFile = test_statefile, countyFile = test_cntyfile)\n",
    "# Retrieve TEST State-Level data for Minnesota\n",
    "TESTMN_df = COVID_IO.GetCDRState(MNFIPS, testJH_state_df)\n",
    "# Retrieve TEST County-level data for Clay County\n",
    "TESTCLAY_df = COVID_IO.GetCDRCounty(ClayFIPS, testJH_cnty_df)"
   ]
  },
  {
   "cell_type": "code",
   "execution_count": 4,
   "metadata": {},
   "outputs": [
    {
     "name": "stdout",
     "output_type": "stream",
     "text": [
      "Testing John Hopkins Test Data\n",
      "----------------------------------------------------------------------------------------------------\n",
      "Correct Date format: 2020-03-22 Compared to 2020-03-22 & Correct Death Format: 0 compared to 0\n",
      "Correct Date format: 2020-03-22 Compared to 2020-03-22 & Correct Death Format: 10 compared to 10\n"
     ]
    }
   ],
   "source": [
    "print(\"Testing John Hopkins Test Data\")\n",
    "print((\"-\"*100))\n",
    "if TESTMN_df['Dates'].values[0][0] == np.datetime64('2020-03-22') and TESTMN_df['Confirmed'].values[0][0] == 0:\n",
    "    print(\"Correct Date format: {0} Compared to 2020-03-22 & Correct Death Format: {1} compared to 0\".format(TESTMN_df['Dates'].values[0][0],TESTMN_df['Confirmed'].values[0][0]))\n",
    "else:\n",
    "    print(\"Inccorrect Results\")\n",
    "if TESTCLAY_df['Dates'].values[0][0] == np.datetime64('2020-03-22') and TESTCLAY_df['Confirmed'].values[0][0] == 10:\n",
    "    print(\"Correct Date format: {0} Compared to 2020-03-22 & Correct Death Format: {1} compared to 10\".format(TESTCLAY_df['Dates'].values[0][0],TESTCLAY_df['Confirmed'].values[0][0]))\n",
    "else:\n",
    "    print(\"Inccorrect Results\")"
   ]
  },
  {
   "cell_type": "code",
   "execution_count": 5,
   "metadata": {},
   "outputs": [],
   "source": [
    "##\n",
    "## The Clay county data should have a steady 10 confirmed per day starting March 22, 2020, so the number of confirmed increases as 10 cases per day (means dConfirmed is 10/day)\n",
    "## First death occurs 14 days later (since I \"kill\" 10% of the infected at the end of 14 days, the other 90% are recovered).  Check this!\n",
    "\n",
    "##\n",
    "## The Minnesota data should have an unreal situation of 10 additional new cases a day from March 22 to June 1.  We still \"kill\" 10% of the infected 14 days later and mark the\n",
    "## other 90% \"recovered.\"  Check this."
   ]
  },
  {
   "cell_type": "code",
   "execution_count": 92,
   "metadata": {},
   "outputs": [
    {
     "name": "stdout",
     "output_type": "stream",
     "text": [
      "County Confirmed cases - Passed\n",
      "County Deaths - Passed\n",
      "County Recovered - Passed\n"
     ]
    }
   ],
   "source": [
    "testConfirmed = TESTCLAY_df['Confirmed'][0]\n",
    "expectedConfirmed = [10, 20, 30, 40, 50, 60, 70, 80, 90, 100, 110, 120, 130, 140, 150, 160, 170, 180, 190, 200, 210, 220, 230, 240, 250, 260, 270, 280, 290, 300, 310, 320, 330, 340, 350, 360, 370, 380, 390, 400, 410, 420, 430, 440, 450, 460, 470, 480, 490, 500, 510, 520, 530, 540, 550, 560, 570, 580, 590, 600, 610, 620, 630, 640, 650, 660, 670, 680, 690, 700, 710, 720]\n",
    "\n",
    "if testConfirmed == expectedConfirmed:\n",
    "    print(\"County Confirmed cases - Passed\")\n",
    "else:\n",
    "    print(\"County Confirmed cases - Failed\\n\\tExpected: List w/ 10 new cases per day\\tActual: {0}\".format(testConfirmed))\n",
    "\n",
    "testDeaths = TESTCLAY_df['Deaths'][0]\n",
    "expectedDeaths = [0, 0, 0, 0, 0, 0, 0, 0, 0, 0, 0, 0, 0, 0, 1, 2, 3, 4, 5, 6, 7, 8, 9, 10, 11, 12, 13, 14, 15, 16, 17, 18, 19, 20, 21, 22, 23, 24, 25, 26, 27, 28, 29, 30, 31, 32, 33, 34, 35, 36, 37, 38, 39, 40, 41, 42, 43, 44, 45, 46, 47, 48, 49, 50, 51, 52, 53, 54, 55, 56, 57, 58]\n",
    "\n",
    "if testDeaths == expectedDeaths and testDeaths[14] == 1:\n",
    "    print(\"County Deaths - Passed\")\n",
    "else:\n",
    "    print(\"County Deaths - Failed\\n\\tExpected: List w/ 10% of infected patients dying, the first occuring 14 days in\\tActual: {0}\".format(testDeaths))\n",
    "    \n",
    "testRecovery = TESTCLAY_df['Recovered'][0]\n",
    "expectedRecovery = [0, 0, 0, 0, 0, 0, 0, 0, 0, 0, 0, 0, 0, 0, 9, 18, 27, 36, 45, 54, 63, 72, 81, 90, 99, 108, 117, 126, 135, 144, 153, 162, 171, 180, 189, 198, 207, 216, 225, 234, 243, 252, 261, 270, 279, 288, 297, 306, 315, 324, 333, 342, 351, 360, 369, 378, 387, 396, 405, 414, 423, 432, 441, 450, 459, 468, 477, 486, 495, 504, 513, 522]\n",
    "\n",
    "if testRecovery == expectedRecovery:\n",
    "    print(\"County Recovered - Passed\")\n",
    "else:\n",
    "    print(\"County Recovered - Failed\\n\\tExpected: List w/ 90% of infected patients having recovered\\tActual: {0}\".format(testRecovery))\n",
    "\n"
   ]
  },
  {
   "cell_type": "markdown",
   "metadata": {},
   "source": [
    "## Test Apple and Google Mobility DataIO\n",
    "\n",
    "Execute and test the Apple and Google Mobility DataIO routines first authored by Dio"
   ]
  },
  {
   "cell_type": "code",
   "execution_count": 81,
   "metadata": {},
   "outputs": [
    {
     "ename": "ValueError",
     "evalue": "could not convert string to float: '2020-02-15'",
     "output_type": "error",
     "traceback": [
      "\u001b[1;31m---------------------------------------------------------------------------\u001b[0m",
      "\u001b[1;31mValueError\u001b[0m                                Traceback (most recent call last)",
      "\u001b[1;32m<ipython-input-81-017333a2b4b3>\u001b[0m in \u001b[0;36m<module>\u001b[1;34m\u001b[0m\n\u001b[0;32m     24\u001b[0m \u001b[1;33m(\u001b[0m\u001b[0mgoog_cnty_df\u001b[0m\u001b[1;33m,\u001b[0m \u001b[0mgoog_state_df\u001b[0m\u001b[1;33m)\u001b[0m \u001b[1;33m=\u001b[0m \u001b[0mCOVID_IO\u001b[0m\u001b[1;33m.\u001b[0m\u001b[0minitgoogMobilityDataframes\u001b[0m\u001b[1;33m(\u001b[0m\u001b[1;33m)\u001b[0m\u001b[1;33m\u001b[0m\u001b[1;33m\u001b[0m\u001b[0m\n\u001b[0;32m     25\u001b[0m \u001b[1;31m# Get real Clay county and Minnesota mobility data\u001b[0m\u001b[1;33m\u001b[0m\u001b[1;33m\u001b[0m\u001b[1;33m\u001b[0m\u001b[0m\n\u001b[1;32m---> 26\u001b[1;33m \u001b[0mgoog_CLAY_df\u001b[0m \u001b[1;33m=\u001b[0m \u001b[0mCOVID_IO\u001b[0m\u001b[1;33m.\u001b[0m\u001b[0mgetGoogleCountyMobility\u001b[0m\u001b[1;33m(\u001b[0m\u001b[0mClayFIPS\u001b[0m\u001b[1;33m,\u001b[0m \u001b[0mgoog_cnty_df\u001b[0m\u001b[1;33m)\u001b[0m\u001b[1;33m\u001b[0m\u001b[1;33m\u001b[0m\u001b[0m\n\u001b[0m\u001b[0;32m     27\u001b[0m \u001b[0mgoog_MN_df\u001b[0m \u001b[1;33m=\u001b[0m \u001b[0mCOVID_IO\u001b[0m\u001b[1;33m.\u001b[0m\u001b[0mgetGoogleStateMobility\u001b[0m\u001b[1;33m(\u001b[0m\u001b[0mMNFIPS\u001b[0m\u001b[1;33m,\u001b[0m \u001b[0mgoog_state_df\u001b[0m\u001b[1;33m)\u001b[0m\u001b[1;33m\u001b[0m\u001b[1;33m\u001b[0m\u001b[0m\n\u001b[0;32m     28\u001b[0m \u001b[1;33m\u001b[0m\u001b[0m\n",
      "\u001b[1;32m~\\anaconda3\\aaaCovidProject\\COVID_DataViz\\COVIDlib\\data_IO.py\u001b[0m in \u001b[0;36mgetGoogleCountyMobility\u001b[1;34m(countyFIPS, countyMobilityDataframe)\u001b[0m\n\u001b[0;32m    311\u001b[0m     \u001b[0mgrocery_pharm_Percent\u001b[0m \u001b[1;33m=\u001b[0m \u001b[0mStringToListFloat\u001b[0m\u001b[1;33m(\u001b[0m\u001b[0mcountyMobilityDataframe\u001b[0m\u001b[1;33m[\u001b[0m\u001b[0mcountyMobilityDataframe\u001b[0m\u001b[1;33m[\u001b[0m\u001b[1;34m'FIPS'\u001b[0m\u001b[1;33m]\u001b[0m \u001b[1;33m==\u001b[0m \u001b[0mcountyFIPS\u001b[0m\u001b[1;33m]\u001b[0m\u001b[1;33m[\u001b[0m\u001b[1;34m'grocery_and_pharmacy_percent_change_from_baseline'\u001b[0m\u001b[1;33m]\u001b[0m\u001b[1;33m.\u001b[0m\u001b[0mvalues\u001b[0m\u001b[1;33m[\u001b[0m\u001b[1;36m0\u001b[0m\u001b[1;33m]\u001b[0m\u001b[1;33m)\u001b[0m\u001b[1;33m\u001b[0m\u001b[1;33m\u001b[0m\u001b[0m\n\u001b[0;32m    312\u001b[0m     \u001b[0mparks_Percent\u001b[0m \u001b[1;33m=\u001b[0m \u001b[0mStringToListFloat\u001b[0m\u001b[1;33m(\u001b[0m\u001b[0mcountyMobilityDataframe\u001b[0m\u001b[1;33m[\u001b[0m\u001b[0mcountyMobilityDataframe\u001b[0m\u001b[1;33m[\u001b[0m\u001b[1;34m'FIPS'\u001b[0m\u001b[1;33m]\u001b[0m \u001b[1;33m==\u001b[0m \u001b[0mcountyFIPS\u001b[0m\u001b[1;33m]\u001b[0m\u001b[1;33m[\u001b[0m\u001b[1;34m'parks_percent_change_from_baseline'\u001b[0m\u001b[1;33m]\u001b[0m\u001b[1;33m.\u001b[0m\u001b[0mvalues\u001b[0m\u001b[1;33m[\u001b[0m\u001b[1;36m0\u001b[0m\u001b[1;33m]\u001b[0m\u001b[1;33m)\u001b[0m\u001b[1;33m\u001b[0m\u001b[1;33m\u001b[0m\u001b[0m\n\u001b[1;32m--> 313\u001b[1;33m     \u001b[0mtransit_stations_percent\u001b[0m \u001b[1;33m=\u001b[0m \u001b[0mStringToListFloat\u001b[0m\u001b[1;33m(\u001b[0m\u001b[0mcountyMobilityDataframe\u001b[0m\u001b[1;33m[\u001b[0m\u001b[0mcountyMobilityDataframe\u001b[0m\u001b[1;33m[\u001b[0m\u001b[1;34m'FIPS'\u001b[0m\u001b[1;33m]\u001b[0m \u001b[1;33m==\u001b[0m \u001b[0mcountyFIPS\u001b[0m\u001b[1;33m]\u001b[0m\u001b[1;33m[\u001b[0m\u001b[1;34m'transit_stations_percent_change_from_baseline'\u001b[0m\u001b[1;33m]\u001b[0m\u001b[1;33m.\u001b[0m\u001b[0mvalues\u001b[0m\u001b[1;33m[\u001b[0m\u001b[1;36m0\u001b[0m\u001b[1;33m]\u001b[0m\u001b[1;33m)\u001b[0m\u001b[1;33m\u001b[0m\u001b[1;33m\u001b[0m\u001b[0m\n\u001b[0m\u001b[0;32m    314\u001b[0m     \u001b[0mresidential_percent\u001b[0m \u001b[1;33m=\u001b[0m \u001b[0mStringToListFloat\u001b[0m\u001b[1;33m(\u001b[0m\u001b[0mcountyMobilityDataframe\u001b[0m\u001b[1;33m[\u001b[0m\u001b[0mcountyMobilityDataframe\u001b[0m\u001b[1;33m[\u001b[0m\u001b[1;34m'FIPS'\u001b[0m\u001b[1;33m]\u001b[0m \u001b[1;33m==\u001b[0m \u001b[0mcountyFIPS\u001b[0m\u001b[1;33m]\u001b[0m\u001b[1;33m[\u001b[0m\u001b[1;34m'workplaces_percent_change_from_baseline'\u001b[0m\u001b[1;33m]\u001b[0m\u001b[1;33m.\u001b[0m\u001b[0mvalues\u001b[0m\u001b[1;33m[\u001b[0m\u001b[1;36m0\u001b[0m\u001b[1;33m]\u001b[0m\u001b[1;33m)\u001b[0m\u001b[1;33m\u001b[0m\u001b[1;33m\u001b[0m\u001b[0m\n\u001b[0;32m    315\u001b[0m     \u001b[0mworkplace_percent\u001b[0m \u001b[1;33m=\u001b[0m \u001b[0mStringToListFloat\u001b[0m\u001b[1;33m(\u001b[0m\u001b[0mcountyMobilityDataframe\u001b[0m\u001b[1;33m[\u001b[0m\u001b[0mcountyMobilityDataframe\u001b[0m\u001b[1;33m[\u001b[0m\u001b[1;34m'FIPS'\u001b[0m\u001b[1;33m]\u001b[0m \u001b[1;33m==\u001b[0m \u001b[0mcountyFIPS\u001b[0m\u001b[1;33m]\u001b[0m\u001b[1;33m[\u001b[0m\u001b[1;34m'residential_percent_change_from_baseline'\u001b[0m\u001b[1;33m]\u001b[0m\u001b[1;33m.\u001b[0m\u001b[0mvalues\u001b[0m\u001b[1;33m[\u001b[0m\u001b[1;36m0\u001b[0m\u001b[1;33m]\u001b[0m\u001b[1;33m)\u001b[0m\u001b[1;33m\u001b[0m\u001b[1;33m\u001b[0m\u001b[0m\n",
      "\u001b[1;32m~\\anaconda3\\aaaCovidProject\\COVID_DataViz\\COVIDlib\\data_IO.py\u001b[0m in \u001b[0;36mStringToListFloat\u001b[1;34m(flt)\u001b[0m\n\u001b[0;32m     34\u001b[0m     \u001b[1;31m# Converts string to list of floats\u001b[0m\u001b[1;33m\u001b[0m\u001b[1;33m\u001b[0m\u001b[1;33m\u001b[0m\u001b[0m\n\u001b[0;32m     35\u001b[0m     \u001b[1;31m# Initial Author: Juan\u001b[0m\u001b[1;33m\u001b[0m\u001b[1;33m\u001b[0m\u001b[1;33m\u001b[0m\u001b[0m\n\u001b[1;32m---> 36\u001b[1;33m     \u001b[0mflt_list\u001b[0m \u001b[1;33m=\u001b[0m \u001b[0mlist\u001b[0m\u001b[1;33m(\u001b[0m\u001b[0mmap\u001b[0m\u001b[1;33m(\u001b[0m\u001b[0mfloat\u001b[0m\u001b[1;33m,\u001b[0m \u001b[0mflt\u001b[0m\u001b[1;33m.\u001b[0m\u001b[0mreplace\u001b[0m\u001b[1;33m(\u001b[0m\u001b[1;34m'\\''\u001b[0m\u001b[1;33m,\u001b[0m\u001b[1;34m''\u001b[0m\u001b[1;33m)\u001b[0m\u001b[1;33m.\u001b[0m\u001b[0mstrip\u001b[0m\u001b[1;33m(\u001b[0m\u001b[1;34m']['\u001b[0m\u001b[1;33m)\u001b[0m\u001b[1;33m.\u001b[0m\u001b[0msplit\u001b[0m\u001b[1;33m(\u001b[0m\u001b[1;34m', '\u001b[0m\u001b[1;33m)\u001b[0m\u001b[1;33m)\u001b[0m\u001b[1;33m)\u001b[0m\u001b[1;33m\u001b[0m\u001b[1;33m\u001b[0m\u001b[0m\n\u001b[0m\u001b[0;32m     37\u001b[0m     \u001b[1;32mreturn\u001b[0m \u001b[0mflt_list\u001b[0m\u001b[1;33m\u001b[0m\u001b[1;33m\u001b[0m\u001b[0m\n\u001b[0;32m     38\u001b[0m \u001b[1;33m\u001b[0m\u001b[0m\n",
      "\u001b[1;31mValueError\u001b[0m: could not convert string to float: '2020-02-15'"
     ]
    }
   ],
   "source": [
    "## \n",
    "## Retrieve the Apple Mobility Data\n",
    "##\n",
    "\n",
    "# Retrieve Apple Mobility Dataframe\n",
    "(aapl_cnty_df, aapl_state_df) = COVID_IO.initAaplMobilityDataframes()\n",
    "# Get real Clay county and Minnesota mobility data\n",
    "aapl_CLAY_df = COVID_IO.getAaplCountyMobility(ClayFIPS, aapl_cnty_df)\n",
    "aapl_MN_df = COVID_IO.getAaplStateMobility(MNFIPS, aapl_state_df)\n",
    "\n",
    "# Retrieve TEST Apple Mobility Dataframe\n",
    "test_cntyfile = test_dir+\"TEST_aapl_mobility_cnty.csv\"\n",
    "test_statefile = test_dir+\"TEST_aapl_mobility_state.csv\"\n",
    "(testaapl_cnty_df, testaapl_state_df) = COVID_IO.initAaplMobilityDataframes(countyFile = test_cntyfile, stateFile = test_statefile)\n",
    "# Get TEST Clay county and Minnesota mobility data\n",
    "testaapl_CLAY_df = COVID_IO.getAaplCountyMobility(ClayFIPS, testaapl_cnty_df)\n",
    "testaapl_MN_df = COVID_IO.getAaplStateMobility(MNFIPS, testaapl_state_df)\n",
    "\n",
    "## \n",
    "## Retrieve the Google Mobility Data\n",
    "##\n",
    "\n",
    "# Retrieve Google Mobility Dataframe\n",
    "(goog_cnty_df, goog_state_df) = COVID_IO.initgoogMobilityDataframes()\n",
    "# Get real Clay county and Minnesota mobility data\n",
    "goog_CLAY_df = COVID_IO.getGoogleCountyMobility(ClayFIPS, goog_cnty_df)\n",
    "goog_MN_df = COVID_IO.getGoogleStateMobility(MNFIPS, goog_state_df)\n",
    "\n",
    "# Retrieve TEST Google Mobility Dataframe\n",
    "test_cntyfile = test_dir+\"TEST_goog_mobility_cnty.csv\"\n",
    "test_statefile = test_dir+\"TEST_goog_mobility_state.csv\"\n",
    "(testgoog_cnty_df, testgoog_state_df) = COVID_IO.initgoogMobilityDataframes(countyFile = test_cntyfile, stateFile = test_statefile)\n",
    "# Get TEST Clay county and Minnesota mobility data\n",
    "testgoog_CLAY_df = COVID_IO.getGoogleCountyMobility(ClayFIPS, testgoog_cnty_df)\n",
    "testgoog_MN_df = COVID_IO.getGoogleStateMobility(MNFIPS, testgoog_state_df)"
   ]
  },
  {
   "cell_type": "code",
   "execution_count": 80,
   "metadata": {},
   "outputs": [
    {
     "name": "stdout",
     "output_type": "stream",
     "text": [
      "Testing Mobility Test Data\n",
      "----------------------------------------------------------------------------------------------------\n"
     ]
    },
    {
     "ename": "NameError",
     "evalue": "name 'testgoog_CLAY_df' is not defined",
     "output_type": "error",
     "traceback": [
      "\u001b[1;31m---------------------------------------------------------------------------\u001b[0m",
      "\u001b[1;31mNameError\u001b[0m                                 Traceback (most recent call last)",
      "\u001b[1;32m<ipython-input-80-30a30985b5be>\u001b[0m in \u001b[0;36m<module>\u001b[1;34m\u001b[0m\n\u001b[0;32m      1\u001b[0m \u001b[0mprint\u001b[0m\u001b[1;33m(\u001b[0m\u001b[1;34m\"Testing Mobility Test Data\"\u001b[0m\u001b[1;33m)\u001b[0m\u001b[1;33m\u001b[0m\u001b[1;33m\u001b[0m\u001b[0m\n\u001b[0;32m      2\u001b[0m \u001b[0mprint\u001b[0m\u001b[1;33m(\u001b[0m\u001b[1;33m(\u001b[0m\u001b[1;34m\"-\"\u001b[0m\u001b[1;33m*\u001b[0m\u001b[1;36m100\u001b[0m\u001b[1;33m)\u001b[0m\u001b[1;33m)\u001b[0m\u001b[1;33m\u001b[0m\u001b[1;33m\u001b[0m\u001b[0m\n\u001b[1;32m----> 3\u001b[1;33m \u001b[1;32mif\u001b[0m \u001b[0mtestgoog_CLAY_df\u001b[0m\u001b[1;33m[\u001b[0m\u001b[1;34m'dates'\u001b[0m\u001b[1;33m]\u001b[0m\u001b[1;33m.\u001b[0m\u001b[0mvalues\u001b[0m\u001b[1;33m[\u001b[0m\u001b[1;36m0\u001b[0m\u001b[1;33m]\u001b[0m\u001b[1;33m[\u001b[0m\u001b[1;36m0\u001b[0m\u001b[1;33m]\u001b[0m \u001b[1;33m==\u001b[0m \u001b[0mnp\u001b[0m\u001b[1;33m.\u001b[0m\u001b[0mdatetime64\u001b[0m\u001b[1;33m(\u001b[0m\u001b[1;34m'2020-02-15'\u001b[0m\u001b[1;33m)\u001b[0m \u001b[1;32mand\u001b[0m \u001b[0mtestgoog_CLAY_df\u001b[0m\u001b[1;33m[\u001b[0m\u001b[1;34m'retail_recreation_Percent'\u001b[0m\u001b[1;33m]\u001b[0m\u001b[1;33m.\u001b[0m\u001b[0mvalues\u001b[0m\u001b[1;33m[\u001b[0m\u001b[1;36m0\u001b[0m\u001b[1;33m]\u001b[0m\u001b[1;33m[\u001b[0m\u001b[1;36m0\u001b[0m\u001b[1;33m]\u001b[0m \u001b[1;33m==\u001b[0m \u001b[1;36m0.0\u001b[0m\u001b[1;33m:\u001b[0m\u001b[1;33m\u001b[0m\u001b[1;33m\u001b[0m\u001b[0m\n\u001b[0m\u001b[0;32m      4\u001b[0m     \u001b[0mprint\u001b[0m\u001b[1;33m(\u001b[0m\u001b[1;34m\"Correct Date format: {0} Compared to 2020-02-15 & Retail/Rec % Format: {1} compared to 0.0\"\u001b[0m\u001b[1;33m.\u001b[0m\u001b[0mformat\u001b[0m\u001b[1;33m(\u001b[0m\u001b[0mtestgoog_CLAY_df\u001b[0m\u001b[1;33m[\u001b[0m\u001b[1;34m'dates'\u001b[0m\u001b[1;33m]\u001b[0m\u001b[1;33m.\u001b[0m\u001b[0mvalues\u001b[0m\u001b[1;33m[\u001b[0m\u001b[1;36m0\u001b[0m\u001b[1;33m]\u001b[0m\u001b[1;33m[\u001b[0m\u001b[1;36m0\u001b[0m\u001b[1;33m]\u001b[0m\u001b[1;33m,\u001b[0m\u001b[0mtestgoog_CLAY_df\u001b[0m\u001b[1;33m[\u001b[0m\u001b[1;34m'retail_recreation_Percent'\u001b[0m\u001b[1;33m]\u001b[0m\u001b[1;33m.\u001b[0m\u001b[0mvalues\u001b[0m\u001b[1;33m[\u001b[0m\u001b[1;36m0\u001b[0m\u001b[1;33m]\u001b[0m\u001b[1;33m[\u001b[0m\u001b[1;36m0\u001b[0m\u001b[1;33m]\u001b[0m\u001b[1;33m)\u001b[0m\u001b[1;33m)\u001b[0m\u001b[1;33m\u001b[0m\u001b[1;33m\u001b[0m\u001b[0m\n\u001b[0;32m      5\u001b[0m \u001b[1;32melse\u001b[0m\u001b[1;33m:\u001b[0m\u001b[1;33m\u001b[0m\u001b[1;33m\u001b[0m\u001b[0m\n",
      "\u001b[1;31mNameError\u001b[0m: name 'testgoog_CLAY_df' is not defined"
     ]
    }
   ],
   "source": [
    "print(\"Testing Mobility Test Data\")\n",
    "print((\"-\"*100))\n",
    "if testgoog_CLAY_df['dates'].values[0][0] == np.datetime64('2020-02-15') and testgoog_CLAY_df['retail_recreation_Percent'].values[0][0] == 0.0:\n",
    "    print(\"Correct Date format: {0} Compared to 2020-02-15 & Retail/Rec % Format: {1} compared to 0.0\".format(testgoog_CLAY_df['dates'].values[0][0],testgoog_CLAY_df['retail_recreation_Percent'].values[0][0]))\n",
    "else:\n",
    "    print(\"Inccorrect Results\")\n",
    "if testgoog_MN_df['State'].values[0] == \"Minnesota\" and testgoog_MN_df['residential_percent'].values[0][0] == 5.0:\n",
    "    print(\"Correct State format: {0} Compared to Minnesota & Correct Res% Format: {1} compared to 5.0\".format(testgoog_MN_df['State'].values[0],testgoog_MN_df['residential_percent'].values[0][0]))\n",
    "else:\n",
    "    print(\"Inccorrect Results\")"
   ]
  },
  {
   "cell_type": "code",
   "execution_count": null,
   "metadata": {},
   "outputs": [],
   "source": [
    "#\n",
    "## Test Apple Mobility Data should be checked\n",
    "##  - For Clay county, the test data is a sawtooth pattern from -30 to +30 with a 7 day period starting on Feb. 15, 2020\n",
    "##  - For Minnesota, the test data is a boxcar pattern 4 days at 30 followed by four days at -30 and back again starting on Feb. 15, 2020 starting on Feb. 15, 2020"
   ]
  },
  {
   "cell_type": "code",
   "execution_count": null,
   "metadata": {},
   "outputs": [],
   "source": []
  },
  {
   "cell_type": "code",
   "execution_count": null,
   "metadata": {},
   "outputs": [],
   "source": [
    "##\n",
    "## Test Google Mobility Data should be checked\n",
    "##  - For Clay county, the test data is a sine wave with an amplitude of 20 and wavelength of 30 days starting on Feb. 15, 2020\n",
    "##  - For Minnesota, the test data is a cosine wave with an amplitude of 20 and wavelength of 30 days starting on Feb. 15, 2020"
   ]
  },
  {
   "cell_type": "markdown",
   "metadata": {},
   "source": [
    "## Test IMHE DataIO\n",
    "\n",
    "Execute and test the Apple and Google Mobility DataIO routines first authored by Luke"
   ]
  },
  {
   "cell_type": "code",
   "execution_count": 133,
   "metadata": {},
   "outputs": [],
   "source": [
    "## \n",
    "## Retrieve the IMHE Data\n",
    "##\n",
    "\n",
    "# Retrieve IMHE Dataframes\n",
    "(summary_df, hospitalization_df) = COVID_IO.GetIMHEDataFrames()\n",
    "# Retrieve specific Dataframes and Data for MN\n",
    "equip_df = COVID_IO.GetEquipData(MNFIPS, summary_df)\n",
    "icu_beds = COVID_IO.GetNumICUBeds(MNFIPS, summary_df)\n",
    "all_beds = COVID_IO.GetNumAllBeds(MNFIPS, summary_df)\n",
    "icu_usage = COVID_IO.GetICUBedUsage(MNFIPS, summary_df)\n",
    "allbed_usage = COVID_IO.GetAllBedUsage(MNFIPS, summary_df)\n",
    "hospital_df = COVID_IO.GetHospitalizationData(MNFIPS, hospitalization_df)\n",
    "\n",
    "# Retrieve TEST IMHE Dataframes\n",
    "testsummaryfile = test_dir+\"TEST_imhe_summary.csv\"\n",
    "testhospitalizationfile = test_dir+\"TEST_imhe_hospitalizations.csv\"\n",
    "(testsummary_df, testhospitalization_df) = COVID_IO.GetIMHEDataFrames(summaryFile = testsummaryfile, hospitalFile = testhospitalizationfile)\n",
    "# Retrieve specific TEST Dataframes and Data for MN\n",
    "testequip_df = COVID_IO.GetEquipData(MNFIPS, testsummary_df)\n",
    "testicu_beds = COVID_IO.GetNumICUBeds(MNFIPS, testsummary_df)\n",
    "testall_beds = COVID_IO.GetNumAllBeds(MNFIPS, testsummary_df)\n",
    "testicu_usage = COVID_IO.GetICUBedUsage(MNFIPS, testsummary_df)\n",
    "testallbed_usage = COVID_IO.GetAllBedUsage(MNFIPS, testsummary_df)\n",
    "testhospital_df = COVID_IO.GetHospitalizationData(MNFIPS, testhospitalization_df)\n",
    "\n",
    " "
   ]
  },
  {
   "cell_type": "code",
   "execution_count": 134,
   "metadata": {},
   "outputs": [],
   "source": [
    "##\n",
    "## Test IMHE data for Minnesota should be checked.\n",
    "##  All summary dates were set to May 15, 2020 (lower May 1, upper June 15)\n",
    "##  Bed capacity was set to 2000 and ICU capacity to 200. \n",
    "##  The test data assumes 100% usage.\n"
   ]
  },
  {
   "cell_type": "code",
   "execution_count": 135,
   "metadata": {},
   "outputs": [
    {
     "name": "stdout",
     "output_type": "stream",
     "text": [
      "----------------------------------------\n",
      "Testing Functions for IMHE Summary Data\n",
      "----------------------------------------\n",
      "\n",
      "GetNumICUBeds : Passed\n",
      "\tExpected value: 200 - Actual value: 200\n",
      "GetNumAllBeds : Passed\n",
      "\tExpected value: 2000 - Actual value: 2000\n",
      "\n",
      "GetICUBedUsage : Passed\n",
      "\tExpected value: 200 - Actual value: 200\n",
      "GetNumAllBeds : Passed\n",
      "\tExpected value: 2000 - Actual value: 2000\n",
      "\n",
      "Peak Bed Day Mean - Passed\n",
      "Peak ICU Bed Day Mean - Passed\n",
      "Peak Vent Day Mean - Passed\n"
     ]
    }
   ],
   "source": [
    "# Testing Functions for IMHE Summary Data\n",
    "print(\"----------------------------------------\\nTesting Functions for IMHE Summary Data\\n----------------------------------------\\n\")\n",
    "if testicu_beds == 200:\n",
    "    print(\"GetNumICUBeds : Passed\")\n",
    "else:\n",
    "    print(\"GetNumICUBeds : Failed\")\n",
    "print(\"\\tExpected value: 200 - Actual value: {0}\".format(testicu_beds))\n",
    "    \n",
    "if testall_beds == 2000:\n",
    "    print(\"GetNumAllBeds : Passed\")\n",
    "else:\n",
    "    print(\"GetNumAllBeds : Failed\")\n",
    "print(\"\\tExpected value: 2000 - Actual value: {0}\".format(testall_beds) + \"\\n\")\n",
    "    \n",
    "if testicu_usage == 200:\n",
    "    print(\"GetICUBedUsage : Passed\")\n",
    "else:\n",
    "    print(\"GetICUBedUsage : Failed\")\n",
    "print(\"\\tExpected value: 200 - Actual value: {0}\".format(testicu_usage))\n",
    "\n",
    "if testallbed_usage == 2000:\n",
    "    print(\"GetNumAllBeds : Passed\")\n",
    "else:\n",
    "    print(\"GetNumAllBeds : Failed\")\n",
    "print(\"\\tExpected value: 2000 - Actual value: {0}\".format(testallbed_usage) + \"\\n\")\n",
    "\n",
    "if testequip_df['peak_bed_day_mean'].values[0] == datetime.date(2020, 5, 15):\n",
    "    print(\"Peak Bed Day Mean - Passed\")\n",
    "else:\n",
    "    print(\"Peak Bed Day Mean - Failed\")\n",
    "\n",
    "if testequip_df['peak_icu_bed_day_mean'].values[0] == datetime.date(2020, 5, 15):\n",
    "    print(\"Peak ICU Bed Day Mean - Passed\")\n",
    "else:\n",
    "    print(\"Peak ICU Bed Day Mean - Failed\")\n",
    "    \n",
    "if testequip_df['peak_vent_day_mean'].values[0] == datetime.date(2020, 5, 15):\n",
    "    print(\"Peak Vent Day Mean - Passed\")\n",
    "else:\n",
    "    print(\"Peak Vent Day Mean - Failed\")"
   ]
  },
  {
   "cell_type": "code",
   "execution_count": 98,
   "metadata": {},
   "outputs": [],
   "source": [
    "# The hospitalization data starts on March 22, 2020\n",
    "# test_imhe_hospitalizations['allbed_mean'] is increasing at 1000 per day (10% margins of error on lower/upper)\n",
    "# test_imhe_hospitalizations['ICUbed_mean'] is increasing at 100 per day (10% margins of error on lower/upper)\n",
    "# test_imhe_hospitalizations['InvVen_mean'] is increasing at 50 per day (10% margins of error on lower/upper)\n",
    "# For the hospitalization deaths/admits/ICU use, the test data has a constant 10 deaths/100 admits/20 ICU a day \n",
    "# (with 10% margins of error on lower/upper)"
   ]
  },
  {
   "cell_type": "code",
   "execution_count": 99,
   "metadata": {},
   "outputs": [
    {
     "name": "stdout",
     "output_type": "stream",
     "text": [
      "-----------------------------------------------\n",
      "Testing Functions for IMHE Hospitalization Data\n",
      "-----------------------------------------------\n",
      "\n",
      "Start date - Passed\n",
      "\tExpected value: 2020-03-22 - Actual value: 2020-03-22\n",
      "\n",
      "All bed data - Passed\n",
      "ICU bed data - Passed\n",
      "Inv. Vent data - Passed\n",
      "\n",
      "\n",
      "Num. Deaths Mean - Passed\n",
      "Num. Admissions Mean - Passed\n",
      "Num. Admissions Mean - Passed\n"
     ]
    }
   ],
   "source": [
    "print(\"-----------------------------------------------\\nTesting Functions for IMHE Hospitalization Data\\n-----------------------------------------------\\n\")\n",
    "\n",
    "if testhospital_df['dates'][0][0] == datetime.date(2020, 3, 22):\n",
    "    print('Start date - Passed')\n",
    "else:\n",
    "    print('Start date - Failed')\n",
    "    \n",
    "print(\"\\tExpected value: 2020-03-22 - Actual value: {0}\\n\".format(testhospital_df['dates'][0][0]))\n",
    "    \n",
    "allBedList = [0, 1000, 2000, 3000, 4000, 5000, 6000, 7000, 8000, 9000, 10000, 11000, 12000, 13000, 14000, 15000, 16000, 17000, 18000, 19000, 20000, 21000, 22000, 23000, 24000, 25000, 26000, 27000, 28000, 29000, 30000, 31000, 32000, 33000, 34000, 35000, 36000, 37000, 38000, 39000, 40000, 41000, 42000, 43000, 44000, 45000, 46000, 47000, 48000, 49000, 50000, 51000, 52000, 53000, 54000, 55000, 56000, 57000, 58000, 59000, 60000, 61000, 62000, 63000, 64000, 65000, 66000, 67000, 68000, 69000, 70000, 71000, 72000, 73000, 74000, 75000, 76000, 77000, 78000, 79000, 80000, 81000, 82000, 83000, 84000, 85000, 86000, 87000, 88000, 89000, 90000, 91000, 92000, 93000, 94000, 95000, 96000, 97000, 98000, 99000, 100000, 101000, 102000, 103000, 104000, 105000, 106000, 107000, 108000, 109000, 110000, 111000, 112000, 113000, 114000, 115000, 116000, 117000, 118000, 119000, 120000, 121000, 122000, 123000, 124000, 125000, 126000, 127000, 128000, 129000, 130000, 131000, 132000]\n",
    "icuBedList = [0, 100, 200, 300, 400, 500, 600, 700, 800, 900, 1000, 1100, 1200, 1300, 1400, 1500, 1600, 1700, 1800, 1900, 2000, 2100, 2200, 2300, 2400, 2500, 2600, 2700, 2800, 2900, 3000, 3100, 3200, 3300, 3400, 3500, 3600, 3700, 3800, 3900, 4000, 4100, 4200, 4300, 4400, 4500, 4600, 4700, 4800, 4900, 5000, 5100, 5200, 5300, 5400, 5500, 5600, 5700, 5800, 5900, 6000, 6100, 6200, 6300, 6400, 6500, 6600, 6700, 6800, 6900, 7000, 7100, 7200, 7300, 7400, 7500, 7600, 7700, 7800, 7900, 8000, 8100, 8200, 8300, 8400, 8500, 8600, 8700, 8800, 8900, 9000, 9100, 9200, 9300, 9400, 9500, 9600, 9700, 9800, 9900, 10000, 10100, 10200, 10300, 10400, 10500, 10600, 10700, 10800, 10900, 11000, 11100, 11200, 11300, 11400, 11500, 11600, 11700, 11800, 11900, 12000, 12100, 12200, 12300, 12400, 12500, 12600, 12700, 12800, 12900, 13000, 13100, 13200]\n",
    "ventList = [0, 50, 100, 150, 200, 250, 300, 350, 400, 450, 500, 550, 600, 650, 700, 750, 800, 850, 900, 950, 1000, 1050, 1100, 1150, 1200, 1250, 1300, 1350, 1400, 1450, 1500, 1550, 1600, 1650, 1700, 1750, 1800, 1850, 1900, 1950, 2000, 2050, 2100, 2150, 2200, 2250, 2300, 2350, 2400, 2450, 2500, 2550, 2600, 2650, 2700, 2750, 2800, 2850, 2900, 2950, 3000, 3050, 3100, 3150, 3200, 3250, 3300, 3350, 3400, 3450, 3500, 3550, 3600, 3650, 3700, 3750, 3800, 3850, 3900, 3950, 4000, 4050, 4100, 4150, 4200, 4250, 4300, 4350, 4400, 4450, 4500, 4550, 4600, 4650, 4700, 4750, 4800, 4850, 4900, 4950, 5000, 5050, 5100, 5150, 5200, 5250, 5300, 5350, 5400, 5450, 5500, 5550, 5600, 5650, 5700, 5750, 5800, 5850, 5900, 5950, 6000, 6050, 6100, 6150, 6200, 6250, 6300, 6350, 6400, 6450, 6500, 6550, 6600]\n",
    "\n",
    "if testhospital_df['allbed_mean'][0] == allBedList:\n",
    "    print(\"All bed data - Passed\")\n",
    "else:\n",
    "    print(\"All bed data - Failed\")\n",
    "\n",
    "if testhospital_df['ICUbed_mean'][0] == icuBedList:\n",
    "    print(\"ICU bed data - Passed\")\n",
    "else:\n",
    "    print(\"ICU bed data - Failed\")\n",
    "\n",
    "if testhospital_df['InvVen_mean'][0] == ventList:\n",
    "    print(\"Inv. Vent data - Passed\")\n",
    "else:\n",
    "    print(\"Inv. Vent data - Failed\")\n",
    "    \n",
    "print(\"\\n\")\n",
    "\n",
    "tenCT = 0\n",
    "deathsList = testhospital_df['deaths_mean'][0]\n",
    "for entry in deathsList:\n",
    "    if entry == 10:\n",
    "        tenCT += 1\n",
    "if tenCT == len(deathsList):\n",
    "    print(\"Num. Deaths Mean - Passed\")\n",
    "else:\n",
    "    print(\"Num. Deaths Mean - Failed\")\n",
    "    \n",
    "tenCTAdmis = 0\n",
    "deathsList = testhospital_df['admis_mean'][0]\n",
    "for entry in deathsList:\n",
    "    if entry == 10:\n",
    "        tenCTAdmis += 1\n",
    "if tenCTAdmis == len(deathsList):\n",
    "    print(\"Num. Admissions Mean - Passed\")\n",
    "else:\n",
    "    print(\"Num. Admissions Mean - Failed\")\n",
    "    \n",
    "tenCTicu = 0\n",
    "deathsList = testhospital_df['newICU_mean'][0]\n",
    "for entry in deathsList:\n",
    "    if entry == 10:\n",
    "        tenCTicu += 1\n",
    "if tenCTicu == len(deathsList):\n",
    "    print(\"Num. Admissions Mean - Passed\")\n",
    "else:\n",
    "    print(\"Num. Admissions Mean - Failed\")"
   ]
  },
  {
   "cell_type": "code",
   "execution_count": null,
   "metadata": {},
   "outputs": [],
   "source": []
  }
 ],
 "metadata": {
  "jupytext": {
   "encoding": "# -*- coding: utf-8 -*-"
  },
  "kernelspec": {
   "display_name": "Python 3",
   "language": "python",
   "name": "python3"
  },
  "language_info": {
   "codemirror_mode": {
    "name": "ipython",
    "version": 3
   },
   "file_extension": ".py",
   "mimetype": "text/x-python",
   "name": "python",
   "nbconvert_exporter": "python",
   "pygments_lexer": "ipython3",
   "version": "3.7.6"
  }
 },
 "nbformat": 4,
 "nbformat_minor": 4
}
