{
 "cells": [
  {
   "cell_type": "markdown",
   "metadata": {},
   "source": [
    "# Test DataIO Python Library routines\n",
    "\n",
    "This Jupyter notebook can be used to test the recently written dataIO python functions, which have been collected into the data_IO library."
   ]
  },
  {
   "cell_type": "code",
   "execution_count": 65,
   "metadata": {},
   "outputs": [
    {
     "name": "stdout",
     "output_type": "stream",
     "text": [
      "The autoreload extension is already loaded. To reload it, use:\n",
      "  %reload_ext autoreload\n"
     ]
    }
   ],
   "source": [
    "# This forces a reload of any external library file if it changes.  \n",
    "# Useful when developing external libraries since otherwise Jupyter \n",
    "# will not re-import any library without restarting the python kernel.\n",
    "\n",
    "%load_ext autoreload\n",
    "%autoreload 2"
   ]
  },
  {
   "cell_type": "code",
   "execution_count": 66,
   "metadata": {},
   "outputs": [],
   "source": [
    "import os\n",
    "import numpy as np\n",
    "import matplotlib.pyplot as plt\n",
    "import matplotlib.dates as mdates\n",
    "import pandas as pd\n",
    "\n",
    "# Import COVID data IO routines from external python library\n",
    "import COVIDlib.data_IO as COVID_IO\n",
    "\n",
    "## Define variables of interest below\n",
    "data_dir = 'our_data/'    # Data directory for the COVID datafiles\n",
    "test_dir = 'test_data/'   # Data directory for storing test datafiles\n",
    "\n",
    "## Define FIPS corresponding to various local areas\n",
    "ClayFIPS = 27027\n",
    "CassFIPS = 38017\n",
    "MNFIPS = 27\n",
    "NDFIPS = 38"
   ]
  },
  {
   "cell_type": "markdown",
   "metadata": {},
   "source": [
    "# Test John Hopkins DataIO\n",
    "\n",
    "Execute and test the John Hopkins DataIO routines first authored by Luke"
   ]
  },
  {
   "cell_type": "code",
   "execution_count": 3,
   "metadata": {
    "lines_to_next_cell": 2
   },
   "outputs": [
    {
     "ename": "ValueError",
     "evalue": "invalid literal for int() with base 10: '842.0'",
     "output_type": "error",
     "traceback": [
      "\u001b[1;31m---------------------------------------------------------------------------\u001b[0m",
      "\u001b[1;31mValueError\u001b[0m                                Traceback (most recent call last)",
      "\u001b[1;32m<ipython-input-3-78a7e1848779>\u001b[0m in \u001b[0;36m<module>\u001b[1;34m\u001b[0m\n\u001b[0;32m      6\u001b[0m \u001b[1;33m(\u001b[0m\u001b[0mJH_state_df\u001b[0m\u001b[1;33m,\u001b[0m \u001b[0mJH_cnty_df\u001b[0m\u001b[1;33m)\u001b[0m \u001b[1;33m=\u001b[0m \u001b[0mCOVID_IO\u001b[0m\u001b[1;33m.\u001b[0m\u001b[0mGetCDRDataFrames\u001b[0m\u001b[1;33m(\u001b[0m\u001b[1;33m)\u001b[0m\u001b[1;33m\u001b[0m\u001b[1;33m\u001b[0m\u001b[0m\n\u001b[0;32m      7\u001b[0m \u001b[1;31m# Retrieve State-Level data for Minnesota\u001b[0m\u001b[1;33m\u001b[0m\u001b[1;33m\u001b[0m\u001b[1;33m\u001b[0m\u001b[0m\n\u001b[1;32m----> 8\u001b[1;33m \u001b[0mMN_df\u001b[0m \u001b[1;33m=\u001b[0m \u001b[0mCOVID_IO\u001b[0m\u001b[1;33m.\u001b[0m\u001b[0mGetCDRState\u001b[0m\u001b[1;33m(\u001b[0m\u001b[0mMNFIPS\u001b[0m\u001b[1;33m,\u001b[0m \u001b[0mJH_state_df\u001b[0m\u001b[1;33m)\u001b[0m\u001b[1;33m\u001b[0m\u001b[1;33m\u001b[0m\u001b[0m\n\u001b[0m\u001b[0;32m      9\u001b[0m \u001b[1;31m# Retrieve County-level data for Clay County\u001b[0m\u001b[1;33m\u001b[0m\u001b[1;33m\u001b[0m\u001b[1;33m\u001b[0m\u001b[0m\n\u001b[0;32m     10\u001b[0m \u001b[0mCLAY_df\u001b[0m \u001b[1;33m=\u001b[0m \u001b[0mCOVID_IO\u001b[0m\u001b[1;33m.\u001b[0m\u001b[0mGetCDRCounty\u001b[0m\u001b[1;33m(\u001b[0m\u001b[0mClayFIPS\u001b[0m\u001b[1;33m,\u001b[0m \u001b[0mJH_cnty_df\u001b[0m\u001b[1;33m)\u001b[0m\u001b[1;33m\u001b[0m\u001b[1;33m\u001b[0m\u001b[0m\n",
      "\u001b[1;32m~\\anaconda3\\aaaCovidProject\\COVID_DataViz\\COVIDlib\\data_IO.py\u001b[0m in \u001b[0;36mGetCDRState\u001b[1;34m(stateFIPS, stateDataFrame)\u001b[0m\n\u001b[0;32m     62\u001b[0m     \u001b[0mconfirmed\u001b[0m \u001b[1;33m=\u001b[0m \u001b[0mStringToListInt\u001b[0m\u001b[1;33m(\u001b[0m\u001b[0mstateDataFrame\u001b[0m\u001b[1;33m[\u001b[0m\u001b[0mstateDataFrame\u001b[0m\u001b[1;33m[\u001b[0m\u001b[1;34m'FIPS'\u001b[0m\u001b[1;33m]\u001b[0m \u001b[1;33m==\u001b[0m \u001b[0mstateFIPS\u001b[0m\u001b[1;33m]\u001b[0m\u001b[1;33m[\u001b[0m\u001b[1;34m'Confirmed'\u001b[0m\u001b[1;33m]\u001b[0m\u001b[1;33m.\u001b[0m\u001b[0mvalues\u001b[0m\u001b[1;33m[\u001b[0m\u001b[1;36m0\u001b[0m\u001b[1;33m]\u001b[0m\u001b[1;33m)\u001b[0m\u001b[1;33m\u001b[0m\u001b[1;33m\u001b[0m\u001b[0m\n\u001b[0;32m     63\u001b[0m     \u001b[0mdeaths\u001b[0m \u001b[1;33m=\u001b[0m \u001b[0mStringToListInt\u001b[0m\u001b[1;33m(\u001b[0m\u001b[0mstateDataFrame\u001b[0m\u001b[1;33m[\u001b[0m\u001b[0mstateDataFrame\u001b[0m\u001b[1;33m[\u001b[0m\u001b[1;34m'FIPS'\u001b[0m\u001b[1;33m]\u001b[0m \u001b[1;33m==\u001b[0m \u001b[0mstateFIPS\u001b[0m\u001b[1;33m]\u001b[0m\u001b[1;33m[\u001b[0m\u001b[1;34m'Deaths'\u001b[0m\u001b[1;33m]\u001b[0m\u001b[1;33m.\u001b[0m\u001b[0mvalues\u001b[0m\u001b[1;33m[\u001b[0m\u001b[1;36m0\u001b[0m\u001b[1;33m]\u001b[0m\u001b[1;33m)\u001b[0m\u001b[1;33m\u001b[0m\u001b[1;33m\u001b[0m\u001b[0m\n\u001b[1;32m---> 64\u001b[1;33m     \u001b[0mrecovered\u001b[0m \u001b[1;33m=\u001b[0m \u001b[0mStringToListInt\u001b[0m\u001b[1;33m(\u001b[0m\u001b[0mstateDataFrame\u001b[0m\u001b[1;33m[\u001b[0m\u001b[0mstateDataFrame\u001b[0m\u001b[1;33m[\u001b[0m\u001b[1;34m'FIPS'\u001b[0m\u001b[1;33m]\u001b[0m \u001b[1;33m==\u001b[0m \u001b[0mstateFIPS\u001b[0m\u001b[1;33m]\u001b[0m\u001b[1;33m[\u001b[0m\u001b[1;34m'Recovered'\u001b[0m\u001b[1;33m]\u001b[0m\u001b[1;33m.\u001b[0m\u001b[0mvalues\u001b[0m\u001b[1;33m[\u001b[0m\u001b[1;36m0\u001b[0m\u001b[1;33m]\u001b[0m\u001b[1;33m)\u001b[0m\u001b[1;33m\u001b[0m\u001b[1;33m\u001b[0m\u001b[0m\n\u001b[0m\u001b[0;32m     65\u001b[0m \u001b[1;33m\u001b[0m\u001b[0m\n\u001b[0;32m     66\u001b[0m     \u001b[0mdConfirmed\u001b[0m \u001b[1;33m=\u001b[0m \u001b[0mStringToListFloat\u001b[0m\u001b[1;33m(\u001b[0m\u001b[0mstateDataFrame\u001b[0m\u001b[1;33m[\u001b[0m\u001b[0mstateDataFrame\u001b[0m\u001b[1;33m[\u001b[0m\u001b[1;34m'FIPS'\u001b[0m\u001b[1;33m]\u001b[0m \u001b[1;33m==\u001b[0m \u001b[0mstateFIPS\u001b[0m\u001b[1;33m]\u001b[0m\u001b[1;33m[\u001b[0m\u001b[1;34m'dConfirmed'\u001b[0m\u001b[1;33m]\u001b[0m\u001b[1;33m.\u001b[0m\u001b[0mvalues\u001b[0m\u001b[1;33m[\u001b[0m\u001b[1;36m0\u001b[0m\u001b[1;33m]\u001b[0m\u001b[1;33m)\u001b[0m\u001b[1;33m\u001b[0m\u001b[1;33m\u001b[0m\u001b[0m\n",
      "\u001b[1;32m~\\anaconda3\\aaaCovidProject\\COVID_DataViz\\COVIDlib\\data_IO.py\u001b[0m in \u001b[0;36mStringToListInt\u001b[1;34m(integer)\u001b[0m\n\u001b[0;32m     27\u001b[0m     \u001b[1;31m# Converts string to list of ints\u001b[0m\u001b[1;33m\u001b[0m\u001b[1;33m\u001b[0m\u001b[1;33m\u001b[0m\u001b[0m\n\u001b[0;32m     28\u001b[0m     \u001b[1;31m# Initial author: Juan\u001b[0m\u001b[1;33m\u001b[0m\u001b[1;33m\u001b[0m\u001b[1;33m\u001b[0m\u001b[0m\n\u001b[1;32m---> 29\u001b[1;33m     \u001b[0mint_list\u001b[0m \u001b[1;33m=\u001b[0m \u001b[0mlist\u001b[0m\u001b[1;33m(\u001b[0m\u001b[0mmap\u001b[0m\u001b[1;33m(\u001b[0m\u001b[0mint\u001b[0m\u001b[1;33m,\u001b[0m \u001b[0minteger\u001b[0m\u001b[1;33m.\u001b[0m\u001b[0mreplace\u001b[0m\u001b[1;33m(\u001b[0m\u001b[1;34m'\\''\u001b[0m\u001b[1;33m,\u001b[0m\u001b[1;34m''\u001b[0m\u001b[1;33m)\u001b[0m\u001b[1;33m.\u001b[0m\u001b[0mstrip\u001b[0m\u001b[1;33m(\u001b[0m\u001b[1;34m']['\u001b[0m\u001b[1;33m)\u001b[0m\u001b[1;33m.\u001b[0m\u001b[0msplit\u001b[0m\u001b[1;33m(\u001b[0m\u001b[1;34m', '\u001b[0m\u001b[1;33m)\u001b[0m\u001b[1;33m)\u001b[0m\u001b[1;33m)\u001b[0m\u001b[1;33m\u001b[0m\u001b[1;33m\u001b[0m\u001b[0m\n\u001b[0m\u001b[0;32m     30\u001b[0m     \u001b[1;32mreturn\u001b[0m \u001b[0mint_list\u001b[0m\u001b[1;33m\u001b[0m\u001b[1;33m\u001b[0m\u001b[0m\n\u001b[0;32m     31\u001b[0m \u001b[1;33m\u001b[0m\u001b[0m\n",
      "\u001b[1;31mValueError\u001b[0m: invalid literal for int() with base 10: '842.0'"
     ]
    }
   ],
   "source": [
    "## \n",
    "## Retrieve the John Hopkins data\n",
    "##\n",
    "\n",
    "# Retrieve John Hopkins dataframes\n",
    "(JH_state_df, JH_cnty_df) = COVID_IO.GetCDRDataFrames()\n",
    "# Retrieve State-Level data for Minnesota\n",
    "MN_df = COVID_IO.GetCDRState(MNFIPS, JH_state_df)\n",
    "# Retrieve County-level data for Clay County\n",
    "CLAY_df = COVID_IO.GetCDRCounty(ClayFIPS, JH_cnty_df)\n",
    "\n",
    "# Retrieve Test John Hopkins dataframes\n",
    "test_cntyfile = test_dir+\"TEST_countylevel_combinedCDR.csv\"\n",
    "test_statefile = test_dir+\"TEST_statelevel_combinedCDR.csv\"\n",
    "(testJH_state_df, testJH_cnty_df) = COVID_IO.GetCDRDataFrames(stateFile = test_statefile, countyFile = test_cntyfile)\n",
    "# Retrieve TEST State-Level data for Minnesota\n",
    "TESTMN_df = COVID_IO.GetCDRState(MNFIPS, testJH_state_df)\n",
    "# Retrieve TEST County-level data for Clay County\n",
    "TESTCLAY_df = COVID_IO.GetCDRCounty(ClayFIPS, testJH_cnty_df)"
   ]
  },
  {
   "cell_type": "code",
   "execution_count": null,
   "metadata": {},
   "outputs": [],
   "source": [
    "##\n",
    "## The Clay county data should have a steady 10 confirmed per day starting March 22, 2020, so the number of confirmed increases as 10 cases per day (means dConfirmed is 10/day)\n",
    "## First death occurs 14 days later (since I \"kill\" 10% of the infected at the end of 14 days, the other 90% are recovered).  Check this!\n",
    "\n",
    "##\n",
    "## The Minnesota data should have an unreal situation of 10 additional new cases a day from March 22 to June 1.  We still \"kill\" 10% of the infected 14 days later and mark the\n",
    "## other 90% \"recovered.\"  Check this."
   ]
  },
  {
   "cell_type": "markdown",
   "metadata": {},
   "source": [
    "## Test Apple and Google Mobility DataIO\n",
    "\n",
    "Execute and test the Apple and Google Mobility DataIO routines first authored by Dio"
   ]
  },
  {
   "cell_type": "code",
   "execution_count": null,
   "metadata": {},
   "outputs": [],
   "source": [
    "## \n",
    "## Retrieve the Apple Mobility Data\n",
    "##\n",
    "\n",
    "# Retrieve Apple Mobility Dataframe\n",
    "(aapl_cnty_df, aapl_state_df) = COVID_IO.initAaplMobilityDataframes()\n",
    "# Get real Clay county and Minnesota mobility data\n",
    "aapl_CLAY_df = COVID_IO.getAaplCountyMobility(ClayFIPS, aapl_cnty_df)\n",
    "aapl_MN_df = COVID_IO.getAaplStateMobility(MNFIPS, aapl_state_df)\n",
    "\n",
    "# Retrieve TEST Apple Mobility Dataframe\n",
    "test_cntyfile = test_dir+\"TEST_aapl_mobility_cnty.csv\"\n",
    "test_statefile = test_dir+\"TEST_aapl_mobility_state.csv\"\n",
    "(testaapl_cnty_df, testaapl_state_df) = COVID_IO.initAaplMobilityDataframes(countyFile = test_cntyfile, stateFile = test_statefile)\n",
    "# Get TEST Clay county and Minnesota mobility data\n",
    "testaapl_CLAY_df = COVID_IO.getAaplCountyMobility(ClayFIPS, testaapl_cnty_df)\n",
    "testaapl_MN_df = COVID_IO.getAaplStateMobility(MNFIPS, testaapl_state_df)\n",
    "\n",
    "## \n",
    "## Retrieve the Google Mobility Data\n",
    "##\n",
    "\n",
    "# Retrieve Google Mobility Dataframe\n",
    "(goog_cnty_df, goog_state_df) = COVID_IO.initgoogMobilityDataframes()\n",
    "# Get real Clay county and Minnesota mobility data\n",
    "goog_CLAY_df = COVID_IO.getGoogleCountyMobility(ClayFIPS, goog_cnty_df)\n",
    "goog_MN_df = COVID_IO.getGoogleStateMobility(MNFIPS, goog_state_df)\n",
    "\n",
    "# Retrieve TEST Google Mobility Dataframe\n",
    "test_cntyfile = test_dir+\"TEST_goog_mobility_cnty.csv\"\n",
    "test_statefile = test_dir+\"TEST_goog_mobility_state.csv\"\n",
    "(testgoog_cnty_df, testgoog_state_df) = COVID_IO.initgoogMobilityDataframes(countyFile = test_cntyfile, stateFile = test_statefile)\n",
    "# Get TEST Clay county and Minnesota mobility data\n",
    "testgoog_CLAY_df = COVID_IO.getGoogleCountyMobility(ClayFIPS, testgoog_cnty_df)\n",
    "testgoog_MN_df = COVID_IO.getGoogleStateMobility(MNFIPS, testgoog_state_df)"
   ]
  },
  {
   "cell_type": "code",
   "execution_count": null,
   "metadata": {},
   "outputs": [],
   "source": [
    "##\n",
    "## Test Apple Mobility Data should be checked\n",
    "##  - For Clay county, the test data is a sawtooth pattern from -30 to +30 with a 7 day period starting on Feb. 15, 2020\n",
    "##  - For Minnesota, the test data is a boxcar pattern 4 days at 30 followed by four days at -30 and back again starting on Feb. 15, 2020 starting on Feb. 15, 2020"
   ]
  },
  {
   "cell_type": "code",
   "execution_count": null,
   "metadata": {},
   "outputs": [],
   "source": [
    "##\n",
    "## Test Google Mobility Data should be checked\n",
    "##  - For Clay county, the test data is a sine wave with an amplitude of 20 and wavelength of 30 days starting on Feb. 15, 2020\n",
    "##  - For Minnesota, the test data is a cosine wave with an amplitude of 20 and wavelength of 30 days starting on Feb. 15, 2020"
   ]
  },
  {
   "cell_type": "markdown",
   "metadata": {},
   "source": [
    "## Test IMHE DataIO\n",
    "\n",
    "Execute and test the Apple and Google Mobility DataIO routines first authored by Luke"
   ]
  },
  {
   "cell_type": "code",
   "execution_count": 67,
   "metadata": {},
   "outputs": [],
   "source": [
    "## \n",
    "## Retrieve the IMHE Data\n",
    "##\n",
    "\n",
    "# Retrieve IMHE Dataframes\n",
    "(summary_df, hospitalization_df) = COVID_IO.GetIMHEDataFrames()\n",
    "# Retrieve specific Dataframes and Data for MN\n",
    "equip_df = COVID_IO.GetEquipData(MNFIPS, summary_df)\n",
    "icu_beds = COVID_IO.GetNumICUBeds(MNFIPS, summary_df)\n",
    "all_beds = COVID_IO.GetNumAllBeds(MNFIPS, summary_df)\n",
    "icu_usage = COVID_IO.GetICUBedUsage(MNFIPS, summary_df)\n",
    "allbed_usage = COVID_IO.GetAllBedUsage(MNFIPS, summary_df)\n",
    "hospital_df = COVID_IO.GetHospitalizationData(MNFIPS, hospitalization_df)\n",
    "\n",
    "# Retrieve TEST IMHE Dataframes\n",
    "testsummaryfile = test_dir+\"TEST_imhe_summary.csv\"\n",
    "testhospitalizationfile = test_dir+\"TEST_imhe_hospitalizations.csv\"\n",
    "(testsummary_df, testhospitalization_df) = COVID_IO.GetIMHEDataFrames(summaryFile = testsummaryfile, hospitalFile = testhospitalizationfile)\n",
    "# Retrieve specific TEST Dataframes and Data for MN\n",
    "testequip_df = COVID_IO.GetEquipData(MNFIPS, testsummary_df)\n",
    "testicu_beds = COVID_IO.GetNumICUBeds(MNFIPS, testsummary_df)\n",
    "testall_beds = COVID_IO.GetNumAllBeds(MNFIPS, testsummary_df)\n",
    "testicu_usage = COVID_IO.GetICUBedUsage(MNFIPS, testsummary_df)\n",
    "testallbed_usage = COVID_IO.GetAllBedUsage(MNFIPS, testsummary_df)\n",
    "testhospital_df = COVID_IO.GetHospitalizationData(MNFIPS, testhospitalization_df)\n",
    "\n",
    " "
   ]
  },
  {
   "cell_type": "code",
   "execution_count": 68,
   "metadata": {},
   "outputs": [],
   "source": [
    "##\n",
    "## Test IMHE data for Minnesota should be checked.\n",
    "##  All summary dates were set to May 15, 2020 (lower May 1, upper June 15)\n",
    "##  Bed capacity was set to 2000 and ICU capacity to 200. \n",
    "##  The test data assumes 100% usage."
   ]
  },
  {
   "cell_type": "code",
   "execution_count": 78,
   "metadata": {},
   "outputs": [
    {
     "name": "stdout",
     "output_type": "stream",
     "text": [
      "Testing Functions for IMHE Summary Data\n",
      "----------------------------------------\n",
      "\n",
      "GetNumICUBeds : Passed\n",
      "Expected value: 200 - Actual value: 200\n",
      "GetNumAllBeds : Passed\n",
      "Expected value: 2000 - Actual value: 2000\n",
      "\n",
      "GetICUBedUsage : Passed\n",
      "Expected value: 200 - Actual value: 200\n",
      "GetNumAllBeds : Passed\n",
      "Expected value: 2000 - Actual value: 2000\n",
      "\n",
      "Peak Bed Day Mean - Passed\n",
      "Peak ICU Bed Day Mean - Passed\n",
      "Peak Vent Day Mean - Passed\n"
     ]
    }
   ],
   "source": [
    "# Testing Functions for IMHE Summary Data\n",
    "print(\"Testing Functions for IMHE Summary Data\\n----------------------------------------\\n\")\n",
    "if testicu_beds == 200:\n",
    "    print(\"GetNumICUBeds : Passed\")\n",
    "else:\n",
    "    print(\"GetNumICUBeds : Failed\")\n",
    "print(\"Expected value: 200 - Actual value: {0}\".format(testicu_beds))\n",
    "    \n",
    "if testall_beds == 2000:\n",
    "    print(\"GetNumAllBeds : Passed\")\n",
    "else:\n",
    "    print(\"GetNumAllBeds : Failed\")\n",
    "print(\"Expected value: 2000 - Actual value: {0}\".format(testall_beds) + \"\\n\")\n",
    "    \n",
    "if testicu_usage == 200:\n",
    "    print(\"GetICUBedUsage : Passed\")\n",
    "else:\n",
    "    print(\"GetICUBedUsage : Failed\")\n",
    "print(\"Expected value: 200 - Actual value: {0}\".format(testicu_usage))\n",
    "\n",
    "if testallbed_usage == 2000:\n",
    "    print(\"GetNumAllBeds : Passed\")\n",
    "else:\n",
    "    print(\"GetNumAllBeds : Failed\")\n",
    "print(\"Expected value: 2000 - Actual value: {0}\".format(testallbed_usage) + \"\\n\")\n",
    "\n",
    "if testequip_df['peak_bed_day_mean'].values[0] == np.datetime64('2020-05-15'):\n",
    "    print(\"Peak Bed Day Mean - Passed\")\n",
    "else:\n",
    "    print(\"Peak Bed Day Mean - Failed\")\n",
    "\n",
    "if testequip_df['peak_icu_bed_day_mean'].values[0] == np.datetime64('2020-05-15'):\n",
    "    print(\"Peak ICU Bed Day Mean - Passed\")\n",
    "else:\n",
    "    print(\"Peak ICU Bed Day Mean - Failed\")\n",
    "    \n",
    "if testequip_df['peak_vent_day_mean'].values[0] == np.datetime64('2020-05-15'):\n",
    "    print(\"Peak Vent Day Mean - Passed\")\n",
    "else:\n",
    "    print(\"Peak Vent Day Mean - Failed\")\n",
    "    \n"
   ]
  },
  {
   "cell_type": "code",
   "execution_count": 36,
   "metadata": {},
   "outputs": [],
   "source": [
    "# The hospitalization data starts on March 22, 2020\n",
    "# test_imhe_hospitalizations['allbed_mean'] is increasing at 1000 per day (10% margins of error on lower/upper)\n",
    "# test_imhe_hospitalizations['ICUbed_mean'] is increasing at 100 per day (10% margins of error on lower/upper)\n",
    "# test_imhe_hospitalizations['InvVen_mean'] is increasing at 50 per day (10% margins of error on lower/upper)\n",
    "# For the hospitalization deaths/admits/ICU use, the test data has a constant 10 deaths/100 admits/20 ICU a day \n",
    "# (with 10% margins of error on lower/upper)"
   ]
  },
  {
   "cell_type": "code",
   "execution_count": null,
   "metadata": {},
   "outputs": [],
   "source": []
  }
 ],
 "metadata": {
  "jupytext": {
   "encoding": "# -*- coding: utf-8 -*-"
  },
  "kernelspec": {
   "display_name": "Python 3",
   "language": "python",
   "name": "python3"
  },
  "language_info": {
   "codemirror_mode": {
    "name": "ipython",
    "version": 3
   },
   "file_extension": ".py",
   "mimetype": "text/x-python",
   "name": "python",
   "nbconvert_exporter": "python",
   "pygments_lexer": "ipython3",
   "version": "3.7.6"
  }
 },
 "nbformat": 4,
 "nbformat_minor": 4
}
